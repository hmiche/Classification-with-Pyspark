{
  "cells": [
    {
      "cell_type": "markdown",
      "source": [
        "\n",
        "**Connecter Drive à Colab**\n",
        "La première chose que vous voulez faire lorsque vous travaillez sur Colab est de monter votre Google Drive. Cela vous permettra d'accéder à n'importe quel répertoire de votre Drive dans le notebook Colab.\n",
        "pour pouvoir utilisé le fichiés CSV deouis votre dRIVE"
      ],
      "metadata": {
        "id": "x5vRWFcq1rC-"
      }
    },
    {
      "cell_type": "code",
      "source": [
        "from google.colab import drive\n",
        "drive.mount('/content/drive')"
      ],
      "metadata": {
        "id": "qvn5J24HL8VR",
        "outputId": "6590a4d9-bceb-46a1-f2b1-fbab1ca4042d",
        "colab": {
          "base_uri": "https://localhost:8080/"
        }
      },
      "execution_count": null,
      "outputs": [
        {
          "output_type": "stream",
          "name": "stdout",
          "text": [
            "Drive already mounted at /content/drive; to attempt to forcibly remount, call drive.mount(\"/content/drive\", force_remount=True).\n"
          ]
        }
      ]
    },
    {
      "cell_type": "markdown",
      "source": [
        "**Configurer PySpark dans Colab**"
      ],
      "metadata": {
        "id": "QZcAcSoWCnem"
      }
    },
    {
      "cell_type": "markdown",
      "source": [
        "[texte du lien](https://)**<h1 >Instalation du Java 8**"
      ],
      "metadata": {
        "id": "C4HMqp072aYP"
      }
    },
    {
      "cell_type": "code",
      "source": [
        "!apt-get install openjdk-8-jdk-headless -qq > /dev/null"
      ],
      "metadata": {
        "id": "tyjk6HFDO6TP"
      },
      "execution_count": null,
      "outputs": []
    },
    {
      "cell_type": "markdown",
      "source": [
        "**<h1>Instalation du Spark </h1>**"
      ],
      "metadata": {
        "id": "LFstSdgM2pzN"
      }
    },
    {
      "cell_type": "code",
      "source": [
        "!wget -q https://dlcdn.apache.org/spark/spark-3.2.0/spark-3.2.0-bin-hadoop3.2.tgz\n"
      ],
      "metadata": {
        "id": "yYNUX9iOPVjl"
      },
      "execution_count": null,
      "outputs": []
    },
    {
      "cell_type": "code",
      "source": [
        "import os"
      ],
      "metadata": {
        "id": "qRt18702Eaj2"
      },
      "execution_count": null,
      "outputs": []
    },
    {
      "cell_type": "code",
      "source": [
        "print(os.listdir('./sample_data'))\n"
      ],
      "metadata": {
        "id": "pm3EQMFCU6B3",
        "outputId": "311ccded-b58c-41b4-8411-74a31c4a4fab",
        "colab": {
          "base_uri": "https://localhost:8080/"
        }
      },
      "execution_count": null,
      "outputs": [
        {
          "output_type": "stream",
          "name": "stdout",
          "text": [
            "['anscombe.json', 'README.md', 'california_housing_test.csv', 'mnist_train_small.csv', 'california_housing_train.csv', 'mnist_test.csv']\n"
          ]
        }
      ]
    },
    {
      "cell_type": "code",
      "source": [
        "!tar xf spark-3.2.0-bin-hadoop3.2.tgz"
      ],
      "metadata": {
        "id": "HjF_d8QwPagv"
      },
      "execution_count": null,
      "outputs": []
    },
    {
      "cell_type": "code",
      "source": [
        "!pip install -q findspark"
      ],
      "metadata": {
        "id": "duTngKPvPnW-"
      },
      "execution_count": null,
      "outputs": []
    },
    {
      "cell_type": "code",
      "source": [
        "os.environ[\"JAVA_HOME\"] = \"/usr/lib/jvm/java-8-openjdk-amd64\"\n"
      ],
      "metadata": {
        "id": "nEBGUB2kQZmW"
      },
      "execution_count": null,
      "outputs": []
    },
    {
      "cell_type": "code",
      "source": [
        "os.environ[\"SPARK_HOME\"] = \"/content/spark-3.2.0-bin-hadoop3.2\""
      ],
      "metadata": {
        "id": "-Fieb7I5QarG"
      },
      "execution_count": null,
      "outputs": []
    },
    {
      "cell_type": "code",
      "source": [
        "import findspark\n"
      ],
      "metadata": {
        "id": "rOA-njPbPzke"
      },
      "execution_count": null,
      "outputs": []
    },
    {
      "cell_type": "code",
      "source": [
        "findspark.find()"
      ],
      "metadata": {
        "id": "pMplwVF5QVMm",
        "outputId": "ba39608c-f73b-4c28-8e04-e260476d5b4b",
        "colab": {
          "base_uri": "https://localhost:8080/",
          "height": 35
        }
      },
      "execution_count": null,
      "outputs": [
        {
          "output_type": "execute_result",
          "data": {
            "application/vnd.google.colaboratory.intrinsic+json": {
              "type": "string"
            },
            "text/plain": [
              "'/content/spark-3.2.0-bin-hadoop3.2/python/pyspark'"
            ]
          },
          "metadata": {},
          "execution_count": 156
        }
      ]
    },
    {
      "cell_type": "code",
      "source": [
        "!pip install -q findspark"
      ],
      "metadata": {
        "id": "DobK1ej3Qn3f"
      },
      "execution_count": null,
      "outputs": []
    },
    {
      "cell_type": "code",
      "source": [
        "import findspark"
      ],
      "metadata": {
        "id": "4mIE0ppQRVCO"
      },
      "execution_count": null,
      "outputs": []
    },
    {
      "cell_type": "code",
      "source": [
        "findspark.init()"
      ],
      "metadata": {
        "id": "oCMrGKIXRX4m"
      },
      "execution_count": null,
      "outputs": []
    },
    {
      "cell_type": "code",
      "source": [
        "from pyspark.sql import SparkSession"
      ],
      "metadata": {
        "id": "TnYgS22KTCMv"
      },
      "execution_count": null,
      "outputs": []
    },
    {
      "cell_type": "code",
      "source": [
        "spark = SparkSession.builder\\\n",
        "        .master(\"local\")\\\n",
        "        .appName(\"Colab\")\\\n",
        "        .config('spark.ui.port', '4050')\\\n",
        "        .getOrCreate()"
      ],
      "metadata": {
        "id": "ZuboVW90WSqt"
      },
      "execution_count": null,
      "outputs": []
    },
    {
      "cell_type": "code",
      "source": [
        "df = spark.read.csv(\"udemy_dataset.csv\",header=True,inferSchema=True)\n"
      ],
      "metadata": {
        "id": "-3Qk9TUuuUoy"
      },
      "execution_count": null,
      "outputs": []
    },
    {
      "cell_type": "code",
      "source": [
        "df.show()"
      ],
      "metadata": {
        "colab": {
          "base_uri": "https://localhost:8080/"
        },
        "id": "Ms6hfMJTvqmo",
        "outputId": "279cf846-254a-4570-c75b-8a23b12d09d0"
      },
      "execution_count": null,
      "outputs": [
        {
          "output_type": "stream",
          "name": "stdout",
          "text": [
            "+---+---------+--------------------+--------------------+-------+-----+---------------+-----------+------------+------------------+----------------+--------------------+----------------+--------------------+\n",
            "|_c0|course_id|        course_title|                 url|is_paid|price|num_subscribers|num_reviews|num_lectures|             level|content_duration| published_timestamp|         subject|  clean_course_title|\n",
            "+---+---------+--------------------+--------------------+-------+-----+---------------+-----------+------------+------------------+----------------+--------------------+----------------+--------------------+\n",
            "|  0|  1070968|Ultimate Investme...|https://www.udemy...|   True|  200|           2147|         23|          51|        All Levels|       1.5 hours|2017-01-18T20:58:58Z|Business Finance|Ultimate Investme...|\n",
            "|  1|  1113822|Complete GST Cour...|https://www.udemy...|   True|   75|           2792|        923|         274|        All Levels|        39 hours|2017-03-09T16:34:20Z|Business Finance|Complete GST Cour...|\n",
            "|  2|  1006314|Financial Modelin...|https://www.udemy...|   True|   45|           2174|         74|          51|Intermediate Level|       2.5 hours|2016-12-19T19:26:30Z|Business Finance|Financial Modelin...|\n",
            "|  3|  1210588|Beginner to Pro -...|https://www.udemy...|   True|   95|           2451|         11|          36|        All Levels|         3 hours|2017-05-30T20:07:24Z|Business Finance|Beginner Pro  Fin...|\n",
            "|  4|  1011058|How To Maximize Y...|https://www.udemy...|   True|  200|           1276|         45|          26|Intermediate Level|         2 hours|2016-12-13T14:57:18Z|Business Finance|Maximize Profits ...|\n",
            "|  5|   192870|Trading Penny Sto...|https://www.udemy...|   True|  150|           9221|        138|          25|        All Levels|         3 hours|2014-05-02T15:13:30Z|Business Finance|Trading Penny Sto...|\n",
            "|  6|   739964|Investing And Tra...|https://www.udemy...|   True|   65|           1540|        178|          26|    Beginner Level|          1 hour|2016-02-21T18:23:12Z|Business Finance|Investing Trading...|\n",
            "|  7|   403100|Trading Stock Cha...|https://www.udemy...|   True|   95|           2917|        148|          23|        All Levels|       2.5 hours|2015-01-30T22:13:03Z|Business Finance|Trading Stock Cha...|\n",
            "|  8|   476268|Options Trading 3...|https://www.udemy...|   True|  195|           5172|         34|          38|      Expert Level|       2.5 hours|2015-05-28T00:14:03Z|Business Finance|Options Trading 3...|\n",
            "|  9|  1167710|The Only Investme...|https://www.udemy...|   True|  200|            827|         14|          15|        All Levels|          1 hour|2017-04-18T18:13:32Z|Business Finance|Investment Strate...|\n",
            "| 10|   592338|Forex Trading Sec...|https://www.udemy...|   True|  200|           4284|         93|          76|        All Levels|         5 hours|2015-09-11T16:47:02Z|Business Finance|Forex Trading Sec...|\n",
            "| 11|   975046|Trading Options W...|https://www.udemy...|   True|  200|           1380|         42|          17|        All Levels|          1 hour|2016-10-18T22:52:31Z|Business Finance|Trading Options M...|\n",
            "| 12|   742602|Financial Managem...|https://www.udemy...|   True|   30|           3607|         21|          19|        All Levels|       1.5 hours|2016-02-03T18:04:01Z|Business Finance|Financial Managem...|\n",
            "| 13|   794151|Forex Trading Cou...|https://www.udemy...|   True|  195|           4061|         52|          16|        All Levels|         2 hours|2016-03-16T15:40:19Z|Business Finance|Forex Trading Cou...|\n",
            "| 14|  1196544|Python Algo Tradi...|https://www.udemy...|   True|  200|            294|         19|          42|        All Levels|         7 hours|2017-04-28T16:41:44Z|Business Finance|Python Algo Tradi...|\n",
            "| 15|   504036|Short Selling: Le...|https://www.udemy...|   True|   75|           2276|        106|          19|Intermediate Level|       1.5 hours|2015-06-22T21:18:35Z|Business Finance|Short Selling Lea...|\n",
            "| 16|   719698|Basic Technical A...|https://www.udemy...|   True|   20|           4919|         79|          16|    Beginner Level|       1.5 hours|2016-01-08T17:21:26Z|Business Finance|Basic Technical A...|\n",
            "| 17|   564966|The Complete Char...|https://www.udemy...|   True|  200|           2666|        115|          52|        All Levels|         4 hours|2015-08-10T21:07:35Z|Business Finance|Complete Chart Pa...|\n",
            "| 18|   606928|7 Deadly Mistakes...|https://www.udemy...|   True|   50|           5354|         24|          23|        All Levels|       1.5 hours|2015-09-21T18:10:34Z|Business Finance|7 Deadly Mistakes...|\n",
            "| 19|    58977|Financial Stateme...|https://www.udemy...|   True|   95|           8095|        249|          12|    Beginner Level|         35 mins|2013-06-09T00:21:26Z|Business Finance|Financial Stateme...|\n",
            "+---+---------+--------------------+--------------------+-------+-----+---------------+-----------+------------+------------------+----------------+--------------------+----------------+--------------------+\n",
            "only showing top 20 rows\n",
            "\n"
          ]
        }
      ]
    },
    {
      "cell_type": "code",
      "source": [
        "df.head()"
      ],
      "metadata": {
        "id": "0i7zQX7KXiqb",
        "outputId": "d8ef3625-d99b-4092-a311-ecc8315b3dd8",
        "colab": {
          "base_uri": "https://localhost:8080/"
        }
      },
      "execution_count": null,
      "outputs": [
        {
          "output_type": "execute_result",
          "data": {
            "text/plain": [
              "Row(_c0=0, course_id='1070968', course_title='Ultimate Investment Banking Course', url='https://www.udemy.com/ultimate-investment-banking-course/', is_paid='True', price='200', num_subscribers=2147, num_reviews=23, num_lectures='51', level='All Levels', content_duration='1.5 hours', published_timestamp='2017-01-18T20:58:58Z', subject='Business Finance', clean_course_title='Ultimate Investment Banking Course')"
            ]
          },
          "metadata": {},
          "execution_count": 164
        }
      ]
    },
    {
      "cell_type": "code",
      "source": [
        "df.dtypes"
      ],
      "metadata": {
        "id": "VV-i0dbUXq1W",
        "outputId": "ab3700af-6daf-4b87-dc89-9e8432d1e750",
        "colab": {
          "base_uri": "https://localhost:8080/"
        }
      },
      "execution_count": null,
      "outputs": [
        {
          "output_type": "execute_result",
          "data": {
            "text/plain": [
              "[('_c0', 'int'),\n",
              " ('course_id', 'string'),\n",
              " ('course_title', 'string'),\n",
              " ('url', 'string'),\n",
              " ('is_paid', 'string'),\n",
              " ('price', 'string'),\n",
              " ('num_subscribers', 'int'),\n",
              " ('num_reviews', 'int'),\n",
              " ('num_lectures', 'string'),\n",
              " ('level', 'string'),\n",
              " ('content_duration', 'string'),\n",
              " ('published_timestamp', 'string'),\n",
              " ('subject', 'string'),\n",
              " ('clean_course_title', 'string')]"
            ]
          },
          "metadata": {},
          "execution_count": 165
        }
      ]
    },
    {
      "cell_type": "code",
      "source": [
        "df=df.select('course_title','subject')\n"
      ],
      "metadata": {
        "id": "u7hdXgYEwpcp"
      },
      "execution_count": null,
      "outputs": []
    },
    {
      "cell_type": "markdown",
      "source": [
        "### On vas maintenat Remplacer les missing Values"
      ],
      "metadata": {
        "id": "pDkDvD9Gw4eR"
      }
    },
    {
      "cell_type": "code",
      "source": [
        "df.toPandas()['subject'].isnull().sum()"
      ],
      "metadata": {
        "colab": {
          "base_uri": "https://localhost:8080/"
        },
        "id": "4XpCe9Pdw4A_",
        "outputId": "fca60dcb-dd5a-45a8-b6c5-45904b406f19"
      },
      "execution_count": null,
      "outputs": [
        {
          "output_type": "execute_result",
          "data": {
            "text/plain": [
              "6"
            ]
          },
          "metadata": {},
          "execution_count": 167
        }
      ]
    },
    {
      "cell_type": "code",
      "source": [
        "df = df.dropna(subset=('subject'))\n"
      ],
      "metadata": {
        "id": "EOVIVpbEWjaN"
      },
      "execution_count": null,
      "outputs": []
    },
    {
      "cell_type": "code",
      "source": [
        "df.show()"
      ],
      "metadata": {
        "colab": {
          "base_uri": "https://localhost:8080/"
        },
        "id": "4OMycWlNQ1Tj",
        "outputId": "8dafbfd3-ba1f-4b13-f87a-1b38e7712a45"
      },
      "execution_count": null,
      "outputs": [
        {
          "output_type": "stream",
          "name": "stdout",
          "text": [
            "+--------------------+----------------+\n",
            "|        course_title|         subject|\n",
            "+--------------------+----------------+\n",
            "|Ultimate Investme...|Business Finance|\n",
            "|Complete GST Cour...|Business Finance|\n",
            "|Financial Modelin...|Business Finance|\n",
            "|Beginner to Pro -...|Business Finance|\n",
            "|How To Maximize Y...|Business Finance|\n",
            "|Trading Penny Sto...|Business Finance|\n",
            "|Investing And Tra...|Business Finance|\n",
            "|Trading Stock Cha...|Business Finance|\n",
            "|Options Trading 3...|Business Finance|\n",
            "|The Only Investme...|Business Finance|\n",
            "|Forex Trading Sec...|Business Finance|\n",
            "|Trading Options W...|Business Finance|\n",
            "|Financial Managem...|Business Finance|\n",
            "|Forex Trading Cou...|Business Finance|\n",
            "|Python Algo Tradi...|Business Finance|\n",
            "|Short Selling: Le...|Business Finance|\n",
            "|Basic Technical A...|Business Finance|\n",
            "|The Complete Char...|Business Finance|\n",
            "|7 Deadly Mistakes...|Business Finance|\n",
            "|Financial Stateme...|Business Finance|\n",
            "+--------------------+----------------+\n",
            "only showing top 20 rows\n",
            "\n"
          ]
        }
      ]
    },
    {
      "cell_type": "markdown",
      "source": [
        "### On a 6 ON supprimera toutes les valeurs manquantes."
      ],
      "metadata": {
        "id": "j5jPgRL6xBTY"
      }
    },
    {
      "cell_type": "markdown",
      "source": [
        "### **Features Engeneering**"
      ],
      "metadata": {
        "id": "cmSrOF3hxeAX"
      }
    },
    {
      "cell_type": "code",
      "source": [
        "import pyspark.ml.feature\n"
      ],
      "metadata": {
        "id": "Ukye_6BRxEbn"
      },
      "execution_count": null,
      "outputs": []
    },
    {
      "cell_type": "markdown",
      "source": [
        "### **Pour lister toutes les méthodes disponibles, exécutez cette commande **"
      ],
      "metadata": {
        "id": "D9snq2LZx7fe"
      }
    },
    {
      "cell_type": "code",
      "source": [
        "dir(pyspark.ml.feature)\n"
      ],
      "metadata": {
        "colab": {
          "base_uri": "https://localhost:8080/"
        },
        "id": "Jg9NA78Yxrhm",
        "outputId": "ec5e063c-d755-4a20-bc91-f4dc55078bf5"
      },
      "execution_count": null,
      "outputs": [
        {
          "output_type": "execute_result",
          "data": {
            "text/plain": [
              "['Binarizer',\n",
              " 'BucketedRandomProjectionLSH',\n",
              " 'BucketedRandomProjectionLSHModel',\n",
              " 'Bucketizer',\n",
              " 'ChiSqSelector',\n",
              " 'ChiSqSelectorModel',\n",
              " 'CountVectorizer',\n",
              " 'CountVectorizerModel',\n",
              " 'DCT',\n",
              " 'ElementwiseProduct',\n",
              " 'FeatureHasher',\n",
              " 'HasFeaturesCol',\n",
              " 'HasHandleInvalid',\n",
              " 'HasInputCol',\n",
              " 'HasInputCols',\n",
              " 'HasLabelCol',\n",
              " 'HasMaxIter',\n",
              " 'HasNumFeatures',\n",
              " 'HasOutputCol',\n",
              " 'HasOutputCols',\n",
              " 'HasRelativeError',\n",
              " 'HasSeed',\n",
              " 'HasStepSize',\n",
              " 'HasThreshold',\n",
              " 'HasThresholds',\n",
              " 'HashingTF',\n",
              " 'IDF',\n",
              " 'IDFModel',\n",
              " 'Imputer',\n",
              " 'ImputerModel',\n",
              " 'IndexToString',\n",
              " 'Interaction',\n",
              " 'JavaEstimator',\n",
              " 'JavaMLReadable',\n",
              " 'JavaMLWritable',\n",
              " 'JavaModel',\n",
              " 'JavaParams',\n",
              " 'JavaTransformer',\n",
              " 'MaxAbsScaler',\n",
              " 'MaxAbsScalerModel',\n",
              " 'MinHashLSH',\n",
              " 'MinHashLSHModel',\n",
              " 'MinMaxScaler',\n",
              " 'MinMaxScalerModel',\n",
              " 'NGram',\n",
              " 'Normalizer',\n",
              " 'OneHotEncoder',\n",
              " 'OneHotEncoderModel',\n",
              " 'PCA',\n",
              " 'PCAModel',\n",
              " 'Param',\n",
              " 'Params',\n",
              " 'PolynomialExpansion',\n",
              " 'QuantileDiscretizer',\n",
              " 'RFormula',\n",
              " 'RFormulaModel',\n",
              " 'RegexTokenizer',\n",
              " 'RobustScaler',\n",
              " 'RobustScalerModel',\n",
              " 'SQLTransformer',\n",
              " 'SparkContext',\n",
              " 'StandardScaler',\n",
              " 'StandardScalerModel',\n",
              " 'StopWordsRemover',\n",
              " 'StringIndexer',\n",
              " 'StringIndexerModel',\n",
              " 'Tokenizer',\n",
              " 'TypeConverters',\n",
              " 'UnivariateFeatureSelector',\n",
              " 'UnivariateFeatureSelectorModel',\n",
              " 'VarianceThresholdSelector',\n",
              " 'VarianceThresholdSelectorModel',\n",
              " 'VectorAssembler',\n",
              " 'VectorIndexer',\n",
              " 'VectorIndexerModel',\n",
              " 'VectorSizeHint',\n",
              " 'VectorSlicer',\n",
              " 'Word2Vec',\n",
              " 'Word2VecModel',\n",
              " '_BucketedRandomProjectionLSHParams',\n",
              " '_CountVectorizerParams',\n",
              " '_IDFParams',\n",
              " '_ImputerParams',\n",
              " '_LSH',\n",
              " '_LSHModel',\n",
              " '_LSHParams',\n",
              " '_MaxAbsScalerParams',\n",
              " '_MinMaxScalerParams',\n",
              " '_OneHotEncoderParams',\n",
              " '_PCAParams',\n",
              " '_RFormulaParams',\n",
              " '_RobustScalerParams',\n",
              " '_Selector',\n",
              " '_SelectorModel',\n",
              " '_SelectorParams',\n",
              " '_StandardScalerParams',\n",
              " '_StringIndexerParams',\n",
              " '_UnivariateFeatureSelectorParams',\n",
              " '_VarianceThresholdSelectorParams',\n",
              " '_VectorIndexerParams',\n",
              " '_Word2VecParams',\n",
              " '__all__',\n",
              " '__builtins__',\n",
              " '__cached__',\n",
              " '__doc__',\n",
              " '__file__',\n",
              " '__loader__',\n",
              " '__name__',\n",
              " '__package__',\n",
              " '__spec__',\n",
              " '_convert_to_vector',\n",
              " '_jvm',\n",
              " 'inherit_doc',\n",
              " 'keyword_only',\n",
              " 'since']"
            ]
          },
          "metadata": {},
          "execution_count": 171
        }
      ]
    },
    {
      "cell_type": "markdown",
      "source": [
        "![pipeline-stages.jpg](data:image/jpeg;base64,/9j/4AAQSkZJRgABAQAAAQABAAD/2wCEAAMDAwMDAwMEBAMFBQQFBQcGBgYGBwoHCAcIBwoPCgsKCgsKDw4QDQwNEA4YExERExgcGBYYHCIeHiIrKSs4OEsBBgYGBgYGBwgIBwoKCQoKDg0MDA0OFQ8QDxAPFSAUGBQUGBQgHSMcGhwjHTMoJCQoMzsyLzI7SEBASFpWWnZ2n//CABEIAoIG5wMBIgACEQEDEQH/xAAeAAEAAQQDAQEAAAAAAAAAAAAABwUGCAkBAwQCCv/aAAgBAQAAAADamAAAAAAAAAAAAAAAAAAAAAAAAAAAAAAAAAAAAAAAAAAAAAAAAAAAAAAAAAAAAAAAAAAAAAAAAAAAAAAAAAAAAAAAAAAAAAAAAAAAAAAAAAAAAAAAAAAAAAAAAAAAAAAAAAAAAAAAAAAAAAAAAAAAAAAAAAAAAAAAAAAAAAAAAAAAAAAAAAAAAAAAAAAAAAAAAAAAAAAAAAAAAAAAAAAAAAAAAAAAAAAAAAAAAAAAAAAAAAAAAAAAAAAAAAAAAAAAAAAAAAAAAAAAAAAAAAAAAAAAAAAAAAAAAAAAAAAAAAAAAAAAAAAAAAAAAAAAAAAAAAAAAAAAAAAAAAAAAAAAAAAAAAAAAAAAAAAAAAAAAAAAAAAAAAAAAAAAAAAAAAAAAAAAAAAAAAAAAAAAAAAAAAAAAAAAAAAAAAAAAAAAAAAAAAAAAAAAAAAAAAAAAAAAAAAAAAAAAAAAAAAAAAAAAAAAAAAAAAAAAAAAAAAAAAAAAAAAAAAAAAAAAAAAAAAAAAAAAAAAAAAAAAAAAAAAAAAAAAAAAAAAAAAAAAAAAAAAAAAAAAAAAAAAAAAAAAAAAAAAAAAAAAAAAAAAAAAAAAAAAAAAAAAAAAAAAAAAAAAAAAAAAAAAAAAAAAAAAAAAAAAAAAAAAAAAAAAAAAAAAAAAAAAAAAAAAAAAAAAAAAAAAAAAAAAAAAAAAAAAAAAAAAAAAAAAAAAAAAAAAAAAAAAAAAAAAAAAAAAAAAAAAAAAAAAAAAAAAAAAAAAAAAAAAAAAAAAAAAAAAAAAAAAAAAAAAAAAAAAAAAAAAAAAAAAAAAAAAAAAAACDbM4u2c4wxkzwAIDg/OrX3mXfYAAIqxtlCcrls+7voAAAAAAAAAAAAAAAAAAAAAAAAAAAADGXSHs5w8yFzXwx2pdFHo18Lco19a5cH9/Wo/YnLvRZVauTixKzcfRG8h+wLJ0WbbMRJbze0jbxKpSLIknteDFqxc6Y3vyo0i0b/wC4AAAAAAAAAAAAAAAAAAAAAAAAAApX5vN6Gubm9oK216TsirEzxv3WNemSk+aoNummTcPgRjpknjx+gzW1BEZbWsAJMxr3p+kRJoNyYylySxy1j7GM6tI+QdC3J6rIsgvdtqslrFbd/pWzCiHcYAAAAAAAAAAAAAAAAAAAAAAAAAAUr83ud8x5ow/qp31aMdjVp4L3/G06VTK3VBv80NbTbPwP3EfnU/SZ+fLJGp5K4OxXkdtc1iXTtBWxidivi5IO6HQf+irwapY6srfR+fbcvph2gaf9h0X57aab7zD2a8gAAAAAAAAAAAAAAAAAAAAAAAAALC/PLvXyAYl6s9+mkLPaGYsk2DtveH1/6rd+uhvZ5a2CO4D8/P6K9LGV+XkaQnL+rva3N1RuxEWrrbzEOp7dNoE3b2fqW2Y6/N7elCapuzC/PZultSQsWpG1SfomqwAAAAAAAAAAAAAAAAAAAAAAAAADB2E5M2BNdVg5p6trkvLZXdetmwNhWOEZy/EF/wBKtaYIjyal7XFV9k+EUPSDso9Q+daljduwSUtTt2Z9azpBj3NDT7Sa9tBv/BqY9iOra38pM2QAAAAAAAAAAAAAAAAAAAAAAAAAABF2jPM/acAAAAAAIc1b544G5Z58gAAAAAAAAAAAAAAAAAAAAAAAAAAABRrL9UhgAAAAABYEWyDKAAAAAAAAAAAAAAAAAAAAAAAAAAAAAAAAAABEuM2Scv8AIAAAAAAAAAAAAAAAAAAAAAAAAAAAAAAAAAAAGO2BWdWSfIAAAAAAAAAAAAAAAAAAAAAAAAAFkeVWLpAAHHHJx9AAAAADHrAbPDI3kAAAAAAAAAAAAAAAAAAAAAAAAAELx3ejEDMecAADzYI01JWWHvAAAAAGPWA2eGRvIAAAcAAAAAByAAAAAAAAAAAAAAAAx7l+5WG8P5qSo+env6O7nlwcebWV1L7nTIOo88gAAAAY9YDZ4ZG8gAAHDXtHAAAAABnZMoAAAAAAAAAAAAAAADHuX7lPPjbk0hKpSxA11ydz8/ENXPIXn1j9Ti3tg0x8gAAAAMesBs8MjeQAABxrSi8OMl63ircF9w8JeiLjnhwADYdOAAAAAAAAAAAAAAAADHuUsZzKeCMmmMM+1+yI5n2K8YPVmljFamausW/KoirPGWeQAAAAGPWA2eGRvIAAAa0YvBJ94Sp5sgcS5lp1vffK+qPi5GQANh83gAAAAAAAAAAAAAAAMe5SgD6+ckIGyaYzTvcFjWBPFkQp33FGeSV06wZ/un5xXz0lb6AAAAAY9YDZ4ZG8gAABrRi8F81Wo9F3WbcPV2/PFBuTyxB4AAbD5vAAAAAAAAAAAAAAAAY9ypETmboDyaQr7JbgK85K+z4+3j1fSF64z6c+JY+gAAAAGPWA2eGRvIAAA41pxcAD4+e0AADYfN4AAAAAAAAAAAAAAADH+Ta+fOO2T74+ezr7OPoHj1d9Iz8lj6AAAAAY9YDZ4ZG8gAAOOGtSLgAed6AAANh83gAAAAAAAAAAAAAAAPJiZ4z1ZW1MAB1QRTj6nKscgAAAAMesBs8MjeQAAfOJUQzfkPrwi8APPTe/s94AANh83gAAAAAAAAAAAAAAAAAAB8uQ+KZVwAAAAMesBs8MjeQAAWfqx2USl960ovAD4oHp9/qAABsPm8AAAAAAAAAAAAAAAAFLs28qoGO081AABFfRINaD5j27KxTo4lgU+oAAMesBs8MjeQAAR5rC2g39xrTi8AHx0+kAADYfN4AAAAAAAAAAAAAAAALf12TlclKsCWqPj7O9zWN32NO2N0/y5f5FdJeGr1e8K0PjTtnLzjhkzYlo5Q4/WHkLSKfljUgBj1gNnfkdyAACPNYW0G/udaMX/WSVl0iO+O35+vl8pmjal5QU3Gfn746e374+eHUbD5vAAAAAAAAAAAAAAAAAxP8AZSKLUeqzZXotRqnhsv22vJ+U4g/6Li9VRvEfGvGeYlrF3fMd1e1L7rtDufKMAMesBs6skPtxzw+eeTnhw+kdaxdod+c60Yv9Gb1G9nT661V67YX32Wle8aXp9dX3QL967JrX1aMp2vFGOBsPm8AAAAAAAAAAAAAAAAAAAAEZea4r0AAAABj1gNKOTN3VqoWlfVqwrM1xWfW/FUah1UCr+jGWP9h3sa0ovTZZV6Uj05M4ZX7YEm0S1pMoarUnzdtY5tusR/45G+LLtM2HzeAAAAAAAAAAAAAAAAAAAACmUC8gAAAAMesBpVzlx1rNB6fFT7y9HzT6pT++iXn22BRfDkPkJzxrTi8HLgcU+pcAAA2HzeAAAAAAAAAAAAAAAAAAAAAAAAAAY9YDZpZMeD39Xk7PT4qt8U7u86qdXXxUo01sbULp51oxeADzdXf3gAA2HzeAAAAAAAAAAAAAAAAAAAAAAAAAAY9YDZ4ZG8OeHLhx9OQR5rC2g39zrRi8AFrVenXGAADYfN4AAAAAAAAAAAAAAAAAAAAAHRQ7jcUSo+vihVjs+Ov00StuKNUfSGPWA2eGRvFmw1KVLrvr5t2u+f3XiCPNYW0G/udaMXgA66NXOQAAbD5vAAAAAAAAAAAAAAAARrIXoeGkXK8FJuWnqhbVyluXH4PeLatWu3kBjtjdLVLpNl+665sxXv2w8ocVL39VWumybOoV2ZSY433ljj1gNnhkbxZ8Tee6eLQun2WdX6TMl0hHmsLaDf3OtGL3k6/eDxeXmrAef0AA2HzeAAAAAAAAAAAAAAAA1rSrbnmod42rMVh2He/XfFg91Z7cg8B5U9HxPEC+/wAF0QvsKu4FG99rV2neOo+a4Lc9HxU6V5K1Sat5uvr+rgtip1/HrAbPDI3iyY0lf4oNc89AuL0dl0c8izNWezWSeNacX8Qrf1N9Pl7aV3VW0Kh7ap56T7/XTfFXeume+uXKBsPm8AAAAAAAAAAAAAAAB4ens6evv6PW8vV6/RR6r5uir03q93g93n9fm9Xk9/pBGEU1y6YgyIir2RvUI7ywxgkySYw6qXdE2w/3xjmgY9YDZ4ZGuuDrdrlUsO7rMqvsqs5ch1YJ2tkjN+uyLkTXRaXutn2+euXXH162x23Xanm4uG2/msUHvmDuA2HzeAAAAAAAAAAAAAAAAw+yYxWkjq81mem4vF75OieN5T8F/WJTqtJsrgAI9jWNr2r15RdeVGrFrzBC91XTEXrrlrTNEd92hkqY9YDZ4ZG8WhY8g82pdXT6rhPsOOFPpVa1vxcOeOXHPHPHi9nPLjkHADYfN4AAAAAAAAAAAAAAADG+UYjv+iVq2rh8Xt+PbTqb5Kpddn1qzb+lAAB0+bx++LJQ83zUfF6fJ6Lb+Kfe3xz9fHxUvBxzB2A2eGRvFqw3UbWqXt4qU78gAa0YvAA8Xp7AAAbD5vAAAAAAAAAAAAAAAAWn7qf8d/f5LSvqNZdh+8aTf/h6I0uW5LVu/wAXtuYAMWYbu+2KLIMc3NlzhVkHA/g8Emy/HVCvez42vLIqCPLeN44DZ4ZG8OH1xz8/TkADWjF4ALbqVFuwAAGw+bwAAAAAAAAAAAAAAAGDVfha6+17byj+j5XY+VDxyrD0m3TE/ZS/VV7Iz37gBRazyKT11TuAADHrAbPDI3kAAANaMXgA6qJV/SAADYfN4AAAAAAAAAAAAAAAApVT+gAAAAMY4yyIxhv+j2X6Pfnn9AADHrAbPDI3kAAANaMXgBF3Hp91IkCpAADYfN4AAAAAAAAAAAAAAAAAAAAAFDoVStm76P4Kj33aAAGPWA2eGRvIAAAa0YvACGV1WNWJb+gABsPm8AAAAAAAAAAAAAAAAAABxyAAAAAADHrAbPDI3kAAA4a0ovACP+OusVCugABsPm8AAAAAAAAAAAAAAADixfPcfR5+iqWx5r16KDXbbptctP03bWqP6qf7ah03EAW9091t1/wc0b03LRqn39Pg9dWiGpUuR7p55MesBs8MjeQAAHHDWnF4AHi9X2AADYfN4AAAAAAAAAAAAAAAHzH9je7wd1Avq1fVXKLQ7w9/VbNPv2j+zy0C5vDzcMncgLZsCyKVfNzWh7vJSPBf9N+vN03PYd5+W8b+5GPWA2eGRvIAAHzYdtyVrqi4AFH7PJXwAAbD5vAAAAAAAAAAAAAAAAAAAAAAPjy+0Oj49RwcgGPWA2eGRvIAAOjXTcmV0ga3IvABTfP9VgAAGw+bwAAAAAAAAAAAAAAAAAAAAADhyAAAMesBs8MjeQAAWFq92cyF9a04v7uOo+ny7Ov7+Pv4AOzrAbD5vAAAAAAAAAAAAAAAAAAAABT7IkcAAAADHrAbPDI3kAAEeawtoN/c60YvyJt60ri+5tsG1JZ+4LuDKqLYqtiXLP8AH46lbVclCO6PdUH0wbD5vAAAAAAAAAAAAAAAAHXjJPdyWVeqk4tTfJnnxkyEr9j3wALKovMnBjdLV72jcfr6cTpSmVEfpk/sQBP8OyPWwx6wGzwyNcgABHmsLaDf3OtGL8ibyuTxXdZ970ui+2j2PONmXxR6B6bNuiSYxurwef2VLGGHRsPm8AAAAAAAAAAAAAAAAeHC63IhlHIbCva5gpJMbZq4j2LDkyzpiXtHCGOkqd+WtI4wUplmVyf8KdreFEx4/Z96faxlLSvu0oUyDzTuQMesBs68kuvn6DngA5jPWbtKvRrSi/nnjnLSwoI4c8OXE2SniF8ueOXDnjgbD5vAAAAAAAAAAAAAAAAHVhRMsHS11R1mvj1dEZ5NYYzFCMw+GzcyQsqxnR5rova4BhhKEWSGiTNeDr/gDL7H720Xwd3ts2Yrjv0MesBs7MgsEp8uy0/ZVvT6a51RVKHptK5/bcOPcGyblk41pxeAAAAAbD5vAAAAAAAAAAAAAAAAAAAABYNsyHcIAAAAMesBs6sjMBpxx9km8rC8ntuKkdXd9dXovfIaNsYPvOX751oxeAAAAAbD5vAAAAAAAAAAAAAAAAAAAAA8vqAAAAAx6wGzqyKtOq9dS8VO+1Q7XZxT++pez5jvWPtHvdrSi8AAAAA2HzeAAAAAAAAAAAAAAAAAAAAAAAAAAY9YDZ4ZG8gAAjzWFtBv7nWjF4AAAABsPm8AAAAAAAAAAAAAAAAAAAAAOKFyqXrAAOOQMdcC88MjeQAAR5rC2g39zrRi8AAAAA2HzeAAAAAAAAAAAAAAAAAAAAAGLvlMW9jl6AAPN4qJj5P3vqXEC4I54ZG8gAAjvWHtBv5rSi8AAAAA2HzeAAAAAAAAAAAAAAAAAAAAAGLGU3LAuI9oFQHHIDzeHFaIpIkiXK9AWCOeGRvIAALd1UbFpia0ovAAAAANh83gAAAAAAAAAAAAAAAAAAAABixlNyQVJl045ThW8WcqHzwjWR+3x2HiTYcs1m9J7gnBHPDI3kAAHGOkFypkRh9YoAAAAD4zKlgAAAAAAAAAAAAAAAAAAAAAMWJ4xkVG/pSujFPKnnGHJnvx+jO+7jg7IGV8CKZZuUHqrMoRFghnhkbyAADg+T64AAAAAc8gAAAAAAAAAAAAAAAAAAAABixPuPT33LKV0YeZgsc5ZvXH6Nb66rByUvfC6E7vvqv3bLcTYI54ZG8gAAAAAAAAAAAAAAAAAAAAAAAAAAAAAAGLGRsWO+myfdOJeUvsxGy4+3xzblyPLZOAN0y3Va9NcG4I54ZG8gAAAAAAAAAAAAAAAAAAAAAAAAAAAAAAGKWUFrPqMpUuy3qh77QvHkDzeTGXH+fb0kO5oDwRzwyN5AAAAAAAAAAAAAAAAAAAAAAAAAAAAAAALLxnHsy++uOOePoB5vF0RVJ/nqnMC4I54ZG8gAAAAAAAAAAAAAAAAAAAAAAAAAAAAAAAAAB0eUCAsD88MjeQAAAAAAAAAAAAAAAAA//EABsBAQABBQEAAAAAAAAAAAAAAAAGAgMEBQcB/9oACAECEAAAAAAAAAAAAAAAAAAAAAAAAAAAAAAAAAAAAAAAAAAAAAAAAAAAAAAAAAAAAAAAAAAAAAAAAAAAAAAAAAAAAAAAAAAAAAAAAAAAAAAAAAAAAAAAAAAAAAAAAAAAAAAAAAAAAAAAAAAAAAAAAAAAAAAAAAAAAAAAAAAAAAAAAAAAAAAAAAAAAAAAAAAAAAAAAAAAAAAAAAAAAAAAAAAAAAAAAAAAAAAAAAAAAAAAAAAAAAAAAAAAAAAAAAAAAAAAAAAAAAAAAAAAAAAAAAAAAAAAAAAAAAAAAAAAm0WwgAAAAAAAAAAAAAAz9lqsMAAOiQzXAAAAAAAAAAAAABl26Ld6mSyvWQO0AAOiQzXABJJ2aXa0X7F96COQMAAAAAAAAG1wMjZeZNV/PhOKAAOiQzXABKOgGj1tim7VjzDICM89AAAAAAAABl26LZK99ncyxQAB0SGa4AJR0AFNQBGeegAAAAAAAAAvZLAAADokM1wBJ7GTPw8sXqgEZ56AAAAAAAAAAAAA6JDNcATqGyCf6zNunmNbry/fCqM89AAAAAAAAAAAAAdEj2lUZVhT75NoNJJ/EfMK/drtUXaPblV2URnnoAAAAAAAAAAAADokbsV+2vVVjK3MKk3QDz1RV6AjPPQAAAAAAAAAAAAHRIZr8q3T75aJ1DZB0AFi5WAjPPQAAAAAAAAAAAAHRIZh7OxV75rfE5h0gn+svLdqu/bqp9u5ZGeegAAAAAAAAAAAAOiQzA2lDyzhmfnZk/19uzXe8qtVW/cnNIzz0AAAAAAAAAAAAB0SGa/Nqpx7IJR0AFmq4AjPPQAAAAAAAAAAAAHRIZrgAlHQAxsOvYVARnnoAAAAAAAAAAAADokM1wASjoAazXVSIBGeegAAAAAAAXcvz27j3fLtqirzFtDKzLFVdNPvtzW23RIZrgBk7/oALdVQCM89AAAAAAAAAAAAAdEhmuAJfqNhP3os3KgEZ56AAAAAAAAAAAAA6JDNcATqGyCWajHxLldr27fsXLFctyYzz0AAAAAAAAAAAAB0SGXMVTbvUUVzGEyWfsG7kjUbcPUZ56AAAAAAAAAAAAA6JDMm5auWvVrXzeDyXoAAAjPPQAAAAAAAAAAAAHRIZrgCdQ2QdAAAEZ56AAAAAAAAAAAAG7wMPokM1wBOIhv+gAACM89AAAAAAAAAAAGzazaeLEi1WtnsM1wBkbLF2wAAwNQAAAAAAAAAAANtRr9gosybUa2ewzXAAAAAAAAAAAAAAAAFSkNvg43RIZrgAAAAAAAAAAAAAAAAAOiQzXAAAAAAAAA//8QAGgEBAAIDAQAAAAAAAAAAAAAAAAIFAQQGA//aAAgBAxAAAAAAAAAAAAAAAAAAAAAAAAAAAAAAAAAAAAAAAAAAAAAAAAAAAAAAAAAAAAAAAAAAAAAAAAAAAAAAAAAAAAAAAAAAAAAAAAAAAAAAAAAAAAAAAAAAAAAAAAAAAAAAAAAAAAAAAAAAAAAAAAAAAAAAAAAAAAAAAAAAAAAAAAAAAAAAAAAAAAAAAAAAAAAAAAAAAAAAAAAAAAAAAAAAAAAAAAAAAAAAAAAAAAAAAAAAAAAAAAAAAAAAAAAAAAAAAAAAAAAAAAAAAAAAAAAAAAAAAAAAAAAAAAAAAKK12AAAAAAAAAAAAAAA1dTd2AAA5u62gAAAAAAAAAAAAA8ZZnDNPR7nTzAAHN3W0AFZQm5qy8/TzAWPQAAAAAAAAA1Pfz1s+fh463R+4AA5u62gAqufN7ZnmOJ08As+iAAAAAAAAB4yzMo6vw7D3AAHN3W0AFVz4AAs+iAAAAAAAAAB5eOdnIAA5u62gCrn5UAPSGAFn0QAAAAAAAAAAAADm7raAKC7ruf2vCI9c48gxZ9EAAAAAAAAAAAAA5ux3mfObOM0l5W0Fs2POGJZxnEcRq7PogAAAAAAAAAAAAHN2fpFIxPy07ur58GcAFn0QAAAAAAAAAAAADm7rZ8pSjmZQXddz4JxwAs+iAAAAAAAAAAAAAc3de+r6YZ2MqG6ruf2oJSxDOJYj4ln0QAAAAAAAAAAAADm7rY1pYT9zX8PCg2JyxBieJY8vEs+iAAAAAAAAAAAAAc3dbPjGXpMFVz4JIgLPogAAAAAAAAAAAAHN3W0AFVz4entjXwBZ9EAAAAAAAAAAAAA5u62gAqufDa2MVwCz6IAAAAAAACHkQ9YITljPpMeXj6RxnOEdibm7raAHlX8+CWMALPogAAAAAAAAAAAAHN3W0AU27rc+CccALPogAAAAAAAAAAAAHN3W0AUF3XVO56esYzQhOPpGp8rPogAAAAAAAAAAAAHN3WPVmUc5jT3dZz7Yh5Dc0wLPogAAAAAAAAAAAAHN3XlicZ4S2KS8rOfAAFn0QAAAAAAAAAAAADm7raAKC7rufAAFn0QAAAAAAAAAAAAUdhuc3dbQBRXFfz4AAs+iAAAAAAAAAAAGq2dXKHN3FlRXW0AeWt66gAA990AAAAAAAAAAAamdjXZjy91Z0N1tAAAAAAAAAAAAAAAAEc5Cn39nm7raAAAAAAAAAAAAAAAAAA5u62gAAAAAAAAf//EAEcQAAICAgADBQMIBwUIAgIDAAMEAgUBBgAHExAREhQ2FRZVFyAhMDE1QFEyM1BWV2BwIiMkJUEYJjQ3QlJTVEaBQ0VhccD/2gAIAQEAAQwB/wD8aJsHMbVNWsfIWbpBM/LXy++Jm4xzp5ffEzcJczdHeliI74MMjIMw4EHOM4bjtiWm0xLBkcicafzqFf3IK56swt9Vfcy9R1xkyrr8vM1XO9S42GtrF6MsR8bBz1FWXB1EKnrg1nYU9nplLNXGcQ/BbHumuapDGbKwjAkufes4PiGK1uQ1ubmjMoHbza9LFPboX1arYom6ivDewUSDUFW7hQDPf3/0w3zlvRbVFmwNko7Dv/s9/GrclddtdernXXW/Nb/pB9It4LZP1luSW4Or3GKFg0iJ8ydOPuWv+WXNGDWj8pLhPYkW7gqwQcSKIf6ZYxw3a1iIsFZfCKFfs+u2svAlcLGl2WFzU1WO9yyCDhDadctO7Cl0qaXHOLl/XCQstoCwXDWiettU4lHEoyjn7Nk5NbLG6dmiRUieia2LVdbTr4niaWc4x9Oc8QMCecxgeGZP7VrlV9Dl0sGVbcVduPqI2AWIdj21a3WZ7nLpYOUbmps8d6VkE/YUowwzMhIwh77alhrC3vAr18ML5wPPmB+H5uy249foLSzJ3dynm9y2lSLzv98ryf0RZWAZ1fXlzA5NZpVTWdHIhluQl75mos6mZP7dja19QsVlxuAQ3uw42jf42WPoAJtPwCx5oXfw3YooQ8bTgg4DuupHNkML9WRREEeGJjJGcOzLacc902xYzvnNat1CeE1hYcsOXXNt7ar3FU8hCM5zgOOZTniMS7nqgD4AS+ViVVxR0eCLMjLDhx9KvH1Gmxhght2r2ZshUvFjF6ocy8HWj1P6P2H/AAL3H/RxqOy66nqlJE92lCXN3cK3bLpLFfLxq8mKhqw3NZqA8+W5pT5iVt1aNkceBSaEc7W9a8Q5plJzFFsptYPHXup7RtLC9OU61m+2Umkcs7beU4uNWUgV28aPY6DZq4yx1A8nN+avwGqLI3Ud5p73PT6kYks49parr1pzF2SQDPzzPmLy3loXs04bGTIOTO/2NgzKgsjSNnnF/wAvbzjRPW2qcczV9tZ18MNb6vnbKzvjEMvY2ThJ8n/QdRxzIJzBq7mxM868Ctp2L6T+RVZmPOt8lNpVp2bM7ivV1S/c1u7QfVPkfAp4KMc+Ob/MZ5VydBUs5Dxy95Yk3kDrzFjJZbZqSw0DaDKAsJ4Nyv3Qu40Mpt4/x/NvdLC6v3qsZ5wrqHkYtcUSL8thlEuw6/tmrXCNe112MAn1QBn83fKgt5p96iH9bjJQk/6oFpub27VGBDy/hsFRz9rz4gO4ppizo6uikEy/rkQZzzW5d3l7YvXg7ReKKYMuNKgxLu4reQziTiDntsMuNqtyUOvW1iOHiIlG53/ZU12n5kZ3nk9DU6ElovbzZxye2qzrNmRrPMzlX8c0+Z9mSzbpqduS61Fyn2rbqmNzhwGMVzU9dvIEdrhM8azXamFAV3V1ayseYfMWz2uxZAFiYqjXuRxbjXlrA1tkDNJsF3plvOaTUoTQ2Vaw1Ud7GGcBft7TmDsyvnHvDh7kBIKmS1+wTm5y39vp8y0/aImpMf0fsP8AgXuMfo44puRTNzVov42IA8IcgKkco5dujl4o6Co1xKKlalEAeb2MS0K57+OXfrbXuzmpCMN7vfDHu45J+hFeOfYx51JInd/b5TsEX36i8Evo55lJPdBxln6NBqd0smH5ay3ABrbl3zgvQjDZNgZHpPKreKDaaWwOFWC3OL/l7ecaJ621Ts5kRxHd9hxjHHJ/0HUcc8YRzpnfmP08n/X1TxsP3Fc8Y/VY4U7/AGetnjZiTNsl+See+Wm6/wA0mqMJ9fsRhrrXlTzSumfM2MlmD8pNH2jT3riVrAEV+aWuvUe22ZChl5Wr2fYKT7vuGAYpOdOxpnWxaBBYgWu65qkjbiL3pH5+bV1z9CtruhrvOHeNgu66tDW1mJdlvc1dEnJyxcgBe25b6bzBBi7qmpLktuRe2pZ/wRl3Y2uv3dFLw2NUwtxy6vm6DbKggSdwtux/ureZ4o/ven4H+rHw+qq4k0u3CMl/bvLzl9dHPQqNWb2z819l2muar2V1Rp8u/W2ucZx34zjjckWa7ab8DEMxJy5sEm9IoyhnHENtYC5tGwsAl4xJpu0fJQoCd+DQxmWYY/1T1bnfhVXy1wOID8mOYbBilKBORNN1O5rdAao7Tp4bsax6keOm2GYmKze9wqIQgpfswHpHOVlq2XTvE1u77cfR/R/Ybmrqaywm28IXH/Txy5vKyy1SkgFwWTdnOK1rgaZZKybF5nSHV6/bKJhgngCBhdoeCBOMsObHry745J2dfnUBKedF5nnttCbWK2lVPAsuSNGWy2+D3hz0OfdAbDtZdjhmQeUu1ravsv8AjC+BNvY6FFObZ7dbANX5u2OxbjKtXqOpXc5rFGGkWauWh+Z01gKm260c08QFmwR6GGPPB8vvjq9jt96wuTEw8mbavPpyKkWx+Z55WqGNYGlhscmuVz6tdu9OZk0RC2y3rUNatTHeDGHd/d93+tHZ19pWpkUcEaPM2gPQbhaxlDPQ5I7nXqotUbzcAk2veqHWKwzJHRFPyv3+33SD0XazA+HeagCbO7SbNSqyqTcsuWV6CLK2IDFuFPX0F+6ijYYbX5T15Z8vUAWIsEH7p6t+76fCmv0aB8GVqVgm7N8po32pXSf/AF8suY5dOakm9icqqtu6m3BA6NiEw+ZVxRJapbCeKGc+XNIzebdTBHDvhtuP92L3HFWeCz1ceef7F9zK1fXa9Q03Ysz5oX+M8vGHK1nvFraiD1/TKvF6aXM2WoUuiu11fJIReXxIC3TXJTliMTPLBUM1ksZB2nac8xNkS8YlkV48nrPEJCrt1SmDVOSVRVNCcsnvPku6uNxSWdf+jh1NmtdYVOKQz8ud3qb3W68ZXxDd5hc00tZXgvVHE1aU+3Wlvo5r32R0Wdc3/Vt8PNPbalOB7vlHy9IowyJvyeYAJJ+AFSdQlfEw0EYFz/e/0e5h8qLLdNgjZAt1wC/2er3940uNM5N2urbGlaGu1TQ7Nq5LXGw7FbWkL5YcP9ny7/eNLjlxp7mk0bNey8NmXNj15d8avyvvthowXNVZjHOu5FbU2fGbBoCw9X1as1KrEigP+zZVqNugwm6vgy9/yEfgcs6axHMCXIvcGJRiyVVaGkaDUaUtPod5nNx5N2+zbE/ZjvVhj/2fLv8AeNLifKK4loode9uA6v8As+Xf7xpcaryVuNe2KptZ3yxB33I25uLy4scX6sY/7Pd53Z/3jS42XlFa3lPqKMLpaE/9nq9/eNLjlny7e0M1tNiyAzxtun0+4oeWfH3TtOQ+0AnPyTKzY6jkNesMDna2AgCoKCs1utAggDph3LlBZ7Ft7L6zAgon5Kb2j4hJOjMHWeQ5oNDNevQyEIRLhGEQ8QF8zOMSx3Zx9GOR7LuxXZGz9KsZ5JbrVTJmstBzwpyP26yOMltajHjUdLptNTkBEXeVpcTax1yx74XXIrY1nCeyygYU17kI55kZbp8cQWWqVFjrxKLK0Ro2fInaVzSwkddoNFyDPOUiXVriPD3IzblHMYTYAcOoaQ5rWr2yFte5MJmrlGyaSRn5+Picrp5h4irTX2K+WnEgbt2MuT2/Wmz4erLSfVZ3zldVbjnLYieUsz8jd1AeOA5WLjV+Q/QZge9dgQck1/JEUgOMAY5C3pzWPifXAMvJjf5yitJgc1dE5Oqa22Gws2Itvf0m3DaVtOoy2hwTLDZb0myXlhZkHgeeT3MIdf5PWjJeL9k7/WPXGn3iaXflnlxuaOh2VhG1qiZxnmvy2ZF4ikxxzJ2fUtkMniiqJCLyR096nVduHQyEX+lr9bX2q2V3kxMg9ydM/dau4X1LV0ziOtryIT/sm21PWrqeZv06xzT5SaFMmCexvprtK1WpnAilErAn9T9wu26Cqi0sMcifKdf/APrJ8abet7BWmYZGOM/6tczfTw+zlf8AcTf9H2dm1xMswsX6Ije9+o/vRW8e9+o/vRW8IXlLaEmNG4UZJ+2OZ/p4fZys+5HP6Pcxn26vSdjZWLkZ6LlXoc6atIxr4WT/ACTcuf3TU4+Sblz+6anFzpMUeZCy2p+Cqa0/ch7II6jYPKXn185eGE5cN7XeGZLKD8xR959g+Km4959g+Km41jY7STZ/MtTOMJhsDjMcu+P7C5n+nh9nKz7kc/o9zW9AbPxRZ/yKp7dmhsNRzCVvENcPZLbazttuwpb1uhPoXmk7JLa9br7Oa/RL2Z4jOE+/wzxnsySEc4xmeMZ+oP8AqTcT/Tn20LIQHP1CYjxX3qyJP+MDkazIGwwMEuJj/YPM/wBPD7OVn3I5+I/04265t19ktRBtGhj9vXvxpzj29e/GnOPb178ac49vXvxpzj29e/GnOPb178ac49vXvxlzj29e/GnOPb978ac49vXvxpzj29ffGnOPb178ac49vXvxpzj29e/GnOPb178ac49vXvxpzj29e/GnOPb178ac49vXvxpzj29e/GnOPb178ac49vXvxpzj29e/GnOPb178ac49vXvxpzj29e/GnOPb178ac49vXvxpzj29e/GnOPb178ac49vXvxpzj29e/GnOPb178Zc40VlhvW1CHPMpP5i5regNn4os/wCRVPzG/wCyqxjjk16Er+3fnDpa8xIJMwlqFQOsqwzwcpZ/bxvVPFyum9hkoz6g2d7XKwxp+InGc4xx4of92OPFH/uxxs+0z1xlHEleqCo2anusY8s1jqcH/Um4n+nPt/8A74MtGP04j9GiY7tZRxx9n7B5n+nh9nKz7kc/E7p6puPnoanr3SpxPPM4sGdM1gdgStg+3h+YyDnOEo906dNZ6xXXZY6Itv11XXmEhLkLPj/64+n8uPp/LPH0/lnglHUx1iFlixzlz6fyzx9P5Z47s/lnj6fyzx/9Z+t5eel0/wCY+a3oDZ+KmGSa9XQxPMM/Jdsf8V73j5Ldj/ixe8fJZsv8WL3uGvNSpiCbMzz5NehK/t5iWCxk4VQp+N+rCRetrxTx3T42NcrdJZCFHvny/slS0oEME7m+Nurg2dV0CPRWj7l1370h4DptfAwZe9Ac8EUXaWwEwolHsmkUysZtrWEUZaftlzK0WrzG8yA/6kvBP058JIUBlhTZ2DoH9l6t+9XHsvVv3q4l3f2sd/fjSMd2upfsLmf6eH2crPuRz8Tunqm4+fqM5z2Sp8U8545hyzDaI5jPwytWcafrdWStXFkm2V6efd+yiKImDRjhyUoFjlmmwfYtvzG5hDqOW9N5ywrHJZNHXn4Y1iznhaEovM+3NCy80IfXeck9y6IecIRnorLh65YIQRXTfYHtV7WC8r/lD9tUV9jOuYn3h1JgHQu1xLR8tseyz2HKviRGHP1nLz0un/MfNb0Bs/FRkkdfrpDh45+8/NH+HgePejml/D4PHvPzR/h4DgZGTVWJsr4Cxya9CV/bzESAJCFmOPgdqjEPW15CS758bIcitHZFHPwz0BBUVEu5gf8AiuL6jBfo+UMacIfJZU/EGuBcsKkZBzw+137Zc29X5FOrW6hk9FuLkuGbx+eOKuhqqceIqKQhk/6k3BP058Uo7uVYrleirzi6OyfuxVcZDsfdn/diq4n3+Kf0d2dJ9PJfsLmf6eH2crPuRz8Tunqm4+fRXpKE8zCTAYl9tB9ghDr16wyIbpZJJDTIsu2BjcLFuyWcYCEmJcxrKTAz5q0+rYba886s7BYCzR+YFsWMsxTVGwlvTySPk41qs4Q3xuCHksU6Xls723mvkh7IT8sjvj6NcJGNcrINpt1hZYQxAIVIy5hW04x8SSmWK3erGtAQeElizaP5lk5ujEf1vLz0un/MfNb0Bs/FOSAaCtISXcP5W9A+PR4+VrQfj0ePlb5f9339HjDQHqzzICeMPJr0JX9u+Isva8eAB5nPTriFpVCh0CDnxvVxhNDKEViFPqKZ0NdrQHh4S/M8Me/v8OO/sN+oNxP9OfCRNawqLzcrDzBy6r0SdCdn1uqX/wAs+zSPTyX7C5n+nh9nKz7kc/E7p6puPrZS8PGJd/0d2cfhOXnpdP8AmPmnjMuX+z92ONeKJihp5jnEg811b/6IeM11b/6IeM11b/6IeG5BAg1KWYwFye7/AHCq8/6dmeMYxj/Ts7sfl9Sb9Sbgn6yfzdI9OpfsLmf6eH2crPuRz8P4of8AfjjHdnjdPVNx9bP/APHx/wDmx+E5eel0/wCYzgC0EoTCiQR+SmrTJKQLG2UH8iWv/H73j5Etf+P3vHyJa/8AH73iHJLWYz/vrW4YGmmrXqgVVBES/wBdnHfjP0cN8vqhlghcGMPj5N6r/wBxnj5N6r/3GePk3qv/AHGeMct6nvx/i2M8JJgr1hLhj3D/AGDzP9PD7OVn3I5+Ezxs/MAixyp1kY5lXD2zbC5xF42Rq8uSeH/FXzUpV6Ua5MC0STnHdPVNx9YQsRQzKX2YPnMhRJjwyKXAyxx9swm6nijLHcT8Fy89Lp/z/KWIxzKWe6KbylgLJVmIlh+P5n+nh9nKz7kc/CXrU0qayYj+ln/XjTVhq67XRjjt3T1TcfWSjGccxljvj3ZWnHEseIZpeOfgHH+9CGIY92Pt/BcvPS6f8zuPI1wMnccEuD3y0796qzhR1OwBBhRoRwfNv+Y1fS2sqtarcs31GctKgN0ZCz9dfynJxADcsjqW1T17nmUhQGRB9exWwYWc/PJt+qCJOBNlrYkRsELMHXSdCyHgTapikCNkcyv7cpXbLV0U0mZG+ZhtWTGV8Mj6/wBdzP8ATw+zlZ9yOfhNr9N3XGfszxq33BV9u6eqbj62UYyjmMsd+BBgGPdHH4Tl56XT/me0qK26TmpYJjYWjp+sfK9mo9iLezb+7e1K0o9X1ioSHxb3e60+uJmaNSL2ehcwHtgs7GqfinNgG97/AG0r9mqrq7yUOYwCcvfenyOeNK23ZL50GXWKbKa+NvzzM3WWtez/ADVnuuzMXcddoa9U9tqW8OWrd1UWqEVbnWdu33a25MJI1o6q53Dcj7c/QUKiHjV5j75bIWzqNKgMfyhoQ0JfaSr5jBfnJZLspmbNTMJ7tuVvTPa8jUqAKxrctlyhn29BSL3bsV+/UtUqSFYNxz2tzD/c6s49rcw/3OrODub6wKYS6XVTHrK+w+XbVuUFxAeTYVc87Xjz10LBeyXwYOfo+ZP9AnFBYaIja7bjY9eNYF95te1bQPbVJSzAjpO0bHeOR8+zTTUpPfjO5bx7t5r/ABXW0W1dvGp1HTWyF7dN2e2W+qqNKv8AALmZu9hTO3qlKhCtJsbL2nAuq7C4ja3zLuDbHX1FkSqbgfO2/Kns3u5lLzWzbpaa6trtd5ETey1W67HW7IhQ7TXLCPYbhuj+121DQJIeNPLWVV/NYhhn6rmf6eH2crc91G5+E2v03dcZ+zPGrfcFX27p6puOzGMyzjGMd+W9Y16hWS9rEdIfZKFBAdYesNI69zrTVMnXGJKUpRhOX6MJS48Mu/u8GfF0Tf8AgJxgZZd/hFPPHRP/AOAnGRFjjvyKeMdMvd39KfdGE5fojlLjMJx7vFCWONR1tG9MWDTBRTtVIJ2lgqHxZgMfhIPJwkwFrWtPTpQWs8v9BvTqdqgla1TB+6MZz/RhKXHgn3+HwS8XRN/4ScdMufsFPj6fs7uMjJH9Ic8Y6Jv9Ak7ukbGO/oz7sDJL9Ec5YxCcv0RyzxmBI478jljHby89Lp/zRHWrvHNnN35P/K9i1y4d5h6narp+NDmHp1zc3FHboKLWEdH1S/T2h+5eoE6kOm6tfVVfvwm0unPV9c2On5ZwqiUqxrLVuX9zjbELtmjTpA6zrtzXb/t9own4EbjWNoo9te2TXFwOcanqF0vabBsN1kXtTlfQW+vVluGyV6BK/XLoPM26uCJ91drGo7ChUcygMIeAtdy/sLHlWlrlhHyr9Pre0qTRTa5da4Ue563b2e1aQ4kliafzNrWtY22qWaFUR/HvNs38ObPj3m2b+HNnx7zbN/Dmz413Y2Lzz3Vo2kMP3EIY8EF8HnUVk0fMnMTxufMl9MZYx9uvIcztPf2TyOngbAUu73WrvwsNRQg/qGgXANsBetUilKHNDvWq7bfWFHWKWCl7rt7Yb7p9tBHGVNf1u7R3jdbE6XgTotM2RPl7u9Uau8L9nod7a8t9ZqceAT9Xp+0M7PQPn1Cspl7nXtypt2a2GgQWfHteqbBd51q+UwAN+lrW27NtVRebGqsiGi125T5k7NbHU8Nf9XzP9PD7OWH3E3+E2v05dcZ+zPGsxzGhqsZ7d09U3HYKPjKOOCeDhjbS0fSTuq/JI7GCtClU3VZiK5N8sbUKlYJSU/DYMZ1TUa49WMfV2DpCX125iEY3tovLGts9fCriPhy2tT7UBOEYwEqtajQslzO4y0dnLFrSULhok4xcuS3OdJlcfs7X4jr9kvK5fEPLKXMdl2EdW2kDAELx823v1chRipQSSHt+ylYFnOdiEw9rNnkNoB4OHFENLpCuJQYX3fzkNdDKq8Ma2sghR6gu2E0hZduUTWlG+kpPBbG5cX2+qrh+DC4bU8dxJVRGKKevVNdPbr+UhQzxr1mxszOwJWSw5L6taEeRtqmJ8ZPsts5X1tTSFZx5ixbrdYWqYRnNdaodW97JQUTyEO57Oc5bGnymHAu3l56XT/n+5OYrqVb1MrLvnGgMSQFe6NXVZVlJlmXUe/Hcz/Tw+xdXwaoewgyeBqehbSnS2SjhSDLvWuCIeGWpd7G2Ui4VS5Z8XCmxVLibDQmsZH7+630yTw3Lhe6rWa7z8Go+VFudGYwBYKTxbDeEsNjFXZM4FGNjWaoiss5ZkLOv2GptBmmu1jPGd+1vHU/xcuHtto66S8TNfSPeNbmbI8ueHit2yltWsqrs/wB9Z7FVVJIiOf8Avo7LTTrpPxbxldbd9fbMsIbWfG9tNPXsSAQ8pFFs1IZOLnnxwBuG7hslyIIYlkWt6fYXRhTIKQkgigAQhQx3Q7N09U3HbHfbjpjGRZQ0LfYbK6kLzE4xhPfr2amF+4GOK3cbatUwr4QnB7Wttqt64ZijxxuF07TBRZUGmaDVy+5ZRsCm72J73dzsl3s4D42bh9m0lZZL4GvlBu+7v6KvWqtytKjLMoBAYrF44a29pwxADOOYt3EmCeVT8cd1tB2LDsFloka3W1ZDgOAKhCfmBasKyWmgj0avdraqQilAQDArtyt6yBxDiGYM7nbTeC1MYJ8T5gWpGgsyQSyb5QLXDeWvIJdc23WhLQdiOIQMM75dHCYUBrL8VFu5SPRbW8OSWdizbOnbYzjqp7zdKKjXlEDEFN2uFXGW8wAY9zcHvHPNGAEZO3l56XT/AJ/dSXfWmucfihW08UJkKRmbLX4/mf6eH2QcWjpZlcmjhjWXVW6NCQTYlivNUNb5a4nIMw3z4K3ZkgjEFGOn2CSlrsPmWPDHT3a0aOz9Qo8cUh68ukWy5yz7gtuJs1AVLaFmNuzQhzDAWTMIwsv8t38Lz8c+TqpRd3l6wTjnyGp5p3dj2AZcBLDmKdERaEXihiW1PV0r/V5YMPI7J9CHMGsJ14YhZCwjujTFgydZVDGvpV+xFVIeQOXQqtqoh4him1Y4WDbXhVb4iJ6PRWLqr815mQJzheaSaHVr1ZQ1ze0rckFmBeWZ7d09U3H1H0/nn5ufszx4Y4FCXd/a/B8vPS6f9IOZ/p4fZy4QRbpWpHTCWQFVloZgFcYoRq6yE8EjXr4IVVY+YZKuOeZopElmU1BSlGpq44liNcvjA62vFGeBoAhwNNQU8zGqKM5VNWSeZyrl5SKAJ4+AoYzjBYAx9OAYRGKsrgEwQSAITPXIMz8Z0gknKprJ5xmVcvnMqqslPxyrl8yKsueOIFBCcZqKkD0ZKjkFdFNTMsgUELM0Ui5zkigZ5xHEcYxjHdjclxn1u18ccZ4iSQpRnHPdKnZk5VoHln+12bp6puPrclH48j8WPHn9RDjBRynOOJY8X4Ll56XT/pBzP9PD7OVn3I587u+u2v03dcZ+zPGrfcFX27p6puPrZD6P93PvzDI8yWjDrZ4CPqyHKOPCL8Fy89Lp/wBBjFEARClJGA07mmfL0lbZQ5e1iyRWSYcIzDywDjZCIwpeIfGc4jjOc5x3N2dekjN0zY4qwnEkISj+jKUYRzLOcYwOYyjjOBMThAwi5niBYSzwjYo2cCkUYwWHahZJWYiFUYwUZCiDiOSljDHzeZ/p4fZys+5HO2+K0CqcKqfpGpbi6sJIyHaxaIbaaRcrAitSiSG1pkuAIwgXwk2SmE5lSbmMMSvaqDXl5N46jd5VoG6R28Rm1s6i1wmh4ZywXYKgLOV5uxwSey0o28qydx1/btXhny/mf73521+m7rjP2Z41b7gq+3dPVNx9bKMZxzGWO+PlSZzgcp4yH7O78Hy89Lp/zG/uOq1bRVHtgSXZEUZxDIMmJw7JNrDYECR4YOraqOO2CY/H1uzzS2WfLdeHmELdC0m9BYuZy4i0vJmS+GIeYM0svIMTHgPPBrdBezSriEz5rtsrZGoirJueY44E0sYxwwPCRfme1kfauavqZ85c7hQ0L6SLjUvNqX9W3kmIn8Gfn80mTw1I6a3dlsFFYaHrF3bl1+rq7YO6TMbaXVLiLVdrt7uCFtiFrZQsBUey3lnVXN4TalWIa4zZ1ulLwV24VgSw3nYZ2Rso3iop7Rse2SsdjZq7gSyG82bSWhWbfdmDRUrA2o63r6u2gssi3LYqnVnCN2Kxzz2S+Jqe9zNs0LMOhiLW6rjMtkHch1S8sKal2rYIbGN2VBtN1J/ZCH21a0S5cWFn5YoWpzT41fbbbYZ+f9tKBjy6vbe5atYWjxvO79udkpZ2VctfgqIFvHtapddow3a1TO9tLe0pOX439oGibatxu0TOVo9sAiQty9T6Ti0Zx5h3U9pvH9j/AL3b03UuX19dXFlaitXTYb45n+nh9nKz7kc7b0LbNW2FUUSGrau+VFXghWrrTs6rYXLTz40Q4nmuuPby1nAIo8J1NhHarJ4yIvKWWt3rRmM9wZYzT2QbSyZguAwnai0xcVT60Q54Y1azyK1RH0ZL1dK+tsTbJkxZUzrVn7W8wGMF+EGHzEeiytgcPm7X6buuM/ZnjV/T9V27p6puO0rAAY7ymjDA2ljS8MDwlL5x2V1o4kY0BxG+ibx9NsUuAvpMT8AWxkn8/rC6nT6mOp9Zy89Lp/zHc63dbDzE3TFatSFze7P7rX1wq9ZzTWmxs937k14NoaQm7uF4bWNSyzeyrhbMYOXtBbzu7S6tlst4lndsqWZpwU2y6DS7phLaS2qunG2Ct2b2S/sJbMO4ZgvzMRKfZmaYXfe1TW2XqGwkEDcr+0VvztVl+/jF8SAuZoTMbOzUQ5vR7l9VLm1NXB2m5birW5qdxsiG2a1viWumPoBhOwv9oZrda1YqFoU6QLbZ7DTZMp3qR5aba4uNeCzELcJHunre4p/P7Qab9nsNqvtsGkL98ygiCT5rXmWNnZQ41++t8bhXdK+fdreYLcwoIriuHUGfeLZD6ArLNsUT+Lja6Gs3mv8AbBLFnl2zBvdnSQ2gt3xZUrlvzUbytfMV/GxOuvJjM1ftKCoSDLS10h2UnofOar0XZrEYUGWbKyzgCAOGJQ41ygiAy+KdbAYVyIWiNQTFBhakp0pNZWrFxZX1ygVwDAKdUeMU1TB+T8a4GHc0VNIRh5q1+mdcDISAMKJBL0FGnlTK9UsLPsSn8hJH2Yv5ONHTjXZBCsBgCSCdctBZRUYFwUNIr53AapaGI61r0AlDGmVwGFZXDbw3BIWGR67QCk3mFOtHNfV11ULIkkQrjbpKiwNgzVaAxWKOmbirg9YuTDFBRtLLrGqlyAaoqV0sTMVS5S+XD0Oh0o9EOu0K0ZRDTrDxXVNbVDyNFASw+OZ/p4fZys+5HO2+lZjrWC1xYxZXtbl2t10gLAWWB3FdNjC2HYSOW7qwteWm7DBh7MlO8NWfT4oXlSRnK0XoZMLYqYx8rwfhI1fsAMJuMOvgyNO/qXxMlXdjIY7qqKA54ux6aFxWWmZ4UbiX5+wgk1R2gYfpfnxqJoH12slDP0Y7N09U3HZn6O/ikxi1snmWMePMquEX12l/CPMruRTmEmlI/AbobCRmAglKULyc63LuE+/E7mcasT3lPFxLYTwXExmsngF+6eFdGQYY6QAlfr+k0rDGNcIFcdiAsceOvyrV15HyjxiQ9hj1F8HX6Y2Lfwt+UXX6xx25WFnMiV7mNcYcMDvkKOQ+3JmKaCaUjxhdjMgRoIJTylfGbmtj2dPEAFFLYpYypKBnbVlc5oCSxOFddScXZYMtgIfeWPgifKvcs/e+TIviKmSDrniu4N1FJBz8/l56XT/mOCqozmPBccStIIO9PzKQT8YUT6gy+UD1PIIeW8r5EHl511cQEATQBIEUkx5PmKgY5xXV2FiLYQBhfCiuDYNhYeCsJJOdPzCgi8Zrq+UCwkgv4D1VWwaJzVipDnSSayKRkwlkdcDQpCOAZRFp6liIYlqlZx8mp1Qk8qLqYr0IrzXwiDAJVFVNXC0qxWS4xjCOMBjjCEq6vmx5iSAMnlVVc2fMyrFcsmSTKYRiJhkYVVVgYkwKtVGw0mo6LpMqCOLFbXYAMGK9fAcLLQmYkVh4IvXoKSnJdEAZYXXieR8AHg2a+v6JheQB0hCEAcYDFGA/nbhYhrKByZfMcF5kVlNYRrZ175QbBzGRoLRhLNQ81iW6V+Hm14hlIN9zBtVmNO8hRtlzbbAlSVMX3YzHxW8x03Er9lmmdQxQ8w664xaYZQarZx3Nnato16uTr30lOaN/YoYp6uvg/M7+xl1+udyhK0LY016w9rmLJ2sOiRHmHeO6PsL7lU2sbU97RJStxsV3Ej0G1Bv2mQjTlGG58xw0o7ZVGtcdZJuwtSrK9Eij9rYXXMKxDa6lCsp22w3fM6up2JihTvOYtbpKmqy2Ds8jDU8xVLHN1g9K8hHXeYtfetMrFrW6+Tm8m2e51+qrEX1lu3mf6eH2crPuRztlHEsSxnH0a9r7tc7Y9eWMKVmqMKMQGZEZcKUdgmayBlIDIJVdoPY3mxDhlcerWvlUq6QRQHr1U8nYXp2qqEcAq9mVrbcAKkUTi1yyZon67KkFML0LQU7KWKeEGaoNnR6+lCNRDz3zs478d2eNp0Z5Rk7SAcmVoNrs9YnJeYcyAtzK18sMZP1QSReWslBMrz8Qt09U3HaFNuleMQK+TKxK+6cXhFJdZMLlKy9/g5mHT1bQVn5GjiJF8WIKplH2YXMsSY93cq+QY6rHmiUAVsIn6rwWXqEUBrTwSrO0QUYlTyGNnXN+1v8ADjn0rmtm5XxCH9JWBcxALFFGJprN1tuRyC8jBFlpobviTwGFD59YOFJoSjFETtKR4eU5mgok0hVvyKCUja31Ro9Ai5RyyRjGw+Z8gx0rubzbmF/KH8mKDFio6rhSSq6YDrg8tOj6h7mLMjVsYpElwOfUHCXhzj6jl56XT/mPZ9ksh7T5FNwsYe0Qt1DDirMC41zmFeQ04lrb66x3H3HYgUSth7kMZZb5iChrdRbJ0x2ij5kAxQWNi1THVZ37YbJzSkDJRxktdsjGrU9JVLarZMWjfMyHs2jYraBl1u55lN0701/dNo2KvmVByNplzX20+NW2T3lSmzGC8YC2jY4cwrapDUGdrdH3h1Hy6D9M1JRzmjVKWTK0BdWF7zNJSWloCOtMso6puRNhbfTapGK1yw2lTXrjdmsVzBSs7/YOa5tvfTsVNwpvlmtrqbdnq7QX9W2rGxYfEasOg/8AXbBQ+3SU/ia6YI6D3IQWNadThHRLm+sL5+1t200tg5aQt3WzK3rCALLR2GrSmsU9hOixtmtQ2hAIMPEUPjlwX2VaIk2Ix+GtKXeY2cjLeZx1nRmKC0G+xsLFgVGtea3S0uGV5DA/y78+raY9tkG+OmmSg9lu2BGpqcu3BVCVWztBm1XNGBYr7UNx6U+NYo36FQwHLwljOy5Y5dsLE4tjaAne8t5W9jYMh2JpMTWjHndU9onsB0yt8scnsHDC2RkSW066HZ6YlfNmYJQ5ctez9gXNs52Dy08BbCwYM1mYdc5emoLOvcLsbD3zOZ/p4fZys+5HO28ss1NY25gXjzTXbb51fC4q0CNvWSa8rhwfX9rVvmfLech16+8YPeXCJgwHENtWsdbInIS4WvKhvMsAfEThS0r35Sis1EkvqyKrGx/eLjlxmnq8/agHgQhghiA4YjHdPVNx9d/azGcvHnjH2Y/B8vPS6f8AMdty1r7Wyda9rOgBQa+Gho4VMTzMsHlksvXPV0b9/KWxakDYMId7khyFoiQK6hSg6XEI6pkOdhmtaSGQPLusXrE0wszHjZtNV2M6zUbFtB5TRayvJrWVjmhF7T1nnNjay6WOQacNVtNoNkSJdd1NXX2bJzBuq47pQWNlHeL2zihg6GoCurE8WBcxNy9B7YnYJX9kjCw0ZWxjtuJWJYcJa4FK8YtItTlO00RW1YvjTsSw4Z01Bt26Oc5Jwhy4W9jyrj31ixnWNVU1kTXgbYba+uIQYRymQkYRC6myHJgNiKKFlXFEUsLBeQoMrlBgw2ByCDbUmL5tEJl5JxaVmXpRaFIsLCuL1/BYAlnFlXZVy1iwWysEwWRRKEsCC8/X+Y8v58HmTsrKQyRhkYRjfQNMYxvgmTLieGML5bDhi8vUKFBpppkUOEbkM6usZsJhTOC/8zs7dOIHePLieCHh5kWJQeRJMEYOhlMLyLBSiE6EhWHUlOn5lsQeDvoKdPzLwA8Gsa9Xp9d8AszmMcJTlPGIQeSnlfEHAykJ9E5iAE6AhhPJHMQA3AzPzP8ATw+zlZ9yOdtyJstcxFSMZHDrMiWyTQqqNdxUUryUIqnqwlw5Q35j5lhKHdKnuHrTZ5SRkuGnomU/CUtTLr0NEyvrrarNPCLetVNqg8SRsSir9dunqm4+t+j6OMfqi8R+yP4Pl56XT/mMt7SrvwQNaLwdlaVsDsgm6LBj39Gsku6a1XGoxsVAqqFs9wsNUF9SNMwVBbLkY9s1WHvI5sA+clf0UH8Izt1ouw3Om943aIzEAORuKnLuUfaAfObbuKWupl6TS07GbAgrdcxIjHWbonY3l2uNpaVbnZKklTYWSbomwVO565a1PtKNqvECL6NkvBlRsZwNXNUgwFdmxAE7d7TV5wgbtFwm33bC6lXpECMEmK/Ylo0tW3bWCITvXtNVxBN20XXhe7hU66Sl84eEF4XVQWRcQswSkfY6BcCjB7hYYD3NQscADWIBm+r5rNl9k1dYFEzZV9XvEtd2XyNAZDG16ZCnSpV6nWiPVJdV2Ou00YRVRZBBqFuHVts8rq8kzBr9qtld4c9jErrL3ftRUizVTpb1aze0Tx6CqijQ2Sz6Kr6+sjAMAl3tP1ezxsWuNO6kdQu6UpNjvNeRYrinqNe0QqedNZjVNL2SmpXz9/DzWumC/smrXltcXMHNUM6S2qb0m4tDapnXafUat6tutvyynmA9i127stquwAWlCsoNa2UmrtOHW8tc8u65rHjasaR5R+0oGm97OS31Q1qhtWsXtndXkGdUM9xsurHumtocYoWmMWtTZZ0NisXJkr+tgvp2AXHdUZUDqOvbGlW7OMSc4Z5dVjsZ9e0pHln+Z/p4fZys+5HPxO6eqbj602M9fPV7+4eC+Xn3+HM/CTxxxGXex+C5eel0/wCY901q8urhmY6AXj2ir21O6edqqYdgLcKYFShp3n7WuA7r2qmt6blpFunwwhUaA5WxomBUPRdW1DZlr+C7lY05X3Ghtui3dv2Bglozrtstv07P3aWsF6rT9lTvU1Xq1lpG+0fYM2doIerKO8bxRPX2teTViOZqDXdiWjtrMNLSr+NZ1C1F73Q9neRDV0V+pqzdZ7iIAny4on6QF3hhPKwtv0q9cutgkLW07OKGmyluHmrOtg0HeNfJfs6mP2dhtTb9Tvl7gDlLXlPX3ms2M6LXa8etQMtZ6feT1XTIewwWR7ir29Nwj1ZrACjR0oxrXSI2lONhXYdQ2b25deCsYsKwQ8DEOGO/u+qYTr5sLuHALJ8ZxLGM4z9HzGLBJIio2GIwmlYo2MDSVYwTGSDjKMczxiX4Hmf6eH2crPuRz8Tunqm4+tnCJI5jKPfHwsj/ALqPfLgQoij9H05/BcvPS6f8ysoou5hlhEBs4xiOMYxjux+P5stFFq+FBtRWk7sl/VJUNRjcKvDGlXb9vq4H7Lw4LT73s7t3UEjdV7Ky+xbS0e/vMPhxQIbxcSqLG/y4udaptrO12rDtlsKNiuLatjICkrA3NbVO2Zbt7mLVrj2pVFj8DzP9PD7OVn3I5+J3T1TcfWWNxZJPDWisDPFpcWdbNeMlgZ4Pb2Nf4JOIw6VraMJqiaXgIgPal3lYTEU1pRTYi2sE0fwPLz0un/QaxrK+3Umq8mNhdnVtcbWSWPTrkBZ1uXqZ6vAby3Gv6hRa0AUE68MDpVNbXI+TVTGJVPWaCuG4NWoAEYtS1kADgFSLwC7rdDYeTw1VALwzQUrT6tgatDN38DzP9PD7OVn3I5+J3T1TcfWX337T8bb+sq+NllGNSfEs472Yzjqa3i7+KtR3Eqc0j5IDGMR+zHd+B5eel0/6Qcz/AE8Ps5Wfcjn4ndPVNx9Y5QYcawxJ8uJO0Pn5CkWwLxKlGaUZMsnYjY1UbIYh+ZmIVellAHS8xMsfwPLz0un/ADHbXQ6wqYfBiZi7CoqoI7cehwSzrwdDqNjjwxb1apJDO+Ec7O3VrFJGmSGcq3aJlkClNAM52tcNjy8nRYO5sSitimnHwlkhseLCcOkp3hxYJSZyvhofXxYqlkwNc4ynr9gUarlnGJQW4Na1q5IDK6KE7y8YqYTLCtkwM2zYSViR1PoFQvk3F2jTIIcffJPCrBpB7sh2ZqTFiA1T0iL24JATk3kapy2CQDjARocTCvK4rzSeGY9bFxVSAQ0Xw5ES3ASaPlm1pwzdVEXMKZsQ4ZxYJZYmvhkfXWtK9wkhgcEUn1Nk1NBFpmIerxVPysq9dua/R4BZIM5LgLg55NsCUxN+UaDOc7JNca+WGwwkG9rTusqQZj1VLMea+LTTK8cWuweRhXzWVw3CrvoPksQlBkBh2KBQTYg2OQR39SWEyYch0ZW1bEIj5eFgRrFBaQombHDMrSviWQfOC6ytoLFcJptpeOJ29YKIpyfDiIGQshiYBYkHDbGCSZFCo72GtmmjaLpM1uYYJt7CpEvNU2RirXjPQPMivSx83mf6eH2crPuRz8P39m6eqbj67H6ovEf0Y/g+XnpdP+Y7yrLY9DuXXOL3VaFVDXAYeCXVDaWZPFE4YRcoLZhpguIKdxdes5RTJiS+Tz1a6IqAOTrR4Xp3PbpXTiXyH3atQFTwKa0hQ1Y0nVTzAqElfRMJHnGWFyAToLhR8TPVBPgGp2kAoeMockhr7A7aqNgYMqWidvbULK3SANm0rLR5WljCK2Cm1y1YYsizytHieuX0sm7opd1tRnesa5oRoj4tNaO5ZFPEkZAlQMRsXSYwAy7uuustX2IsDiuxq9myGxznK0TuUz5cUHQEtDPsW5le+dlBPoo6ywrYSLMkSi12oZqxteZgDqfU2y7DVc6uDEOqhV3mEwoskXGszrziaWSmkLur1mH1bhHykh2D2u2bcUJRIMR1Kp9O0sWcTCQS2tWYqyuFKYPMW2vOvrVwRrpYgPVnRJW1ZA44oWVSyjTteIUZNLpM3FdYLAV6bdrrx2mETgzCPDurtzml5UsRcC12yDZeZgaGILa1ZCrKYc5L5ZHrFivOrlDK8+KpK5qUYA6QJzzqlxnL7A8JxeYpLC1m5h8a0RLa+/4K9dvoFBrtYeorRqmN1JfN5n+nh9nKz7kc/CylGGM5zLGMN7PQI/rrMUeM75q2P/2keE3F31hsAJ4w7p6puPrZMT6kojj34GSE1yTxn+z5vMYxn4f7n8Fy89Lp/wBCJYxPGcZxjuEuAGM9IUIfOIOBY5jKGJREEYY+EY4wj9fzP9PD7OVn3I5+EnOMITlL6MbNtz10ySAjSGlqOk4ug4daJmCqupa+nHER1g88CEIA4jGOMIbp6puPrTg6n9uHdgkGIdKeZwxjgQczl1SY/B8vPS6f9IOZ/p4fZys+5HPwmzEkLX7icc/2s/68apDA9fq8Yx27p6puOyIyT/RHKXEoTh+lCUfmd2c/ZjOeM4zH6M4zjPZiMs4znEM5xxGMpZ7oxzLMkpSJEmVCePMZR/SjnGfqfDLGMZ8GcY+o5eel0/5/aaAmAhjExAad6XLA4OpZVF+P5n+nh9nKz7kc/CbX6buuM/ZnjVvuCr7d09U3HZy4faFc+TjP/D72+y3fMhJP+7pNdsb+ZMLYjEdlpllXpTcgcDS9Zpj1gmFsrYFFxa3X1NzWgTD/AI/YqSzuttMuMYYkb0tpZRhqNqmYbenoB1ZeMXlIsa4i6vqtn4PJkFUapYWqcm+qJZWVTc6hY17GDDzHZpbVFmvxTQxkfMf2f5JHEun7SX0O0KNeRW1liL6pcMWxa3o4idbTKuurXXrA+Hoo6HYWikXFnFsBJotzCygjHIiSsNNsUkpNiZXcCHRbEgVZmfUWmHVrI90zVjzDJW9KbXTYZjapmhtizoNSrRlGr4V9CtSgAUzayuRabaztZ1xJCCb5ObXrZDmxTwR1Q6DR1jR7i/M5eel0/wCZZSxCMpZ+yXODRhtSXy8bxVN1VXimGa50bIOLrYqnX/J+eP4M9j7wK1Jls3i6Py5aH9H949xq+3023qnZrZGyPg5hgEQk/ohHnHos2Ol58vFbaV9woNpBsbC/FnsdTTt1yrZ/Cf6q7rCvwWmDOOv3gvFTS6MurX2BkChSdlnI/m2PNjS6t8yR2z9ej2Sj2MEy1tgI+OLq7rdeSy4+bpAAYbAQmH+hwSeBjnPP6JOdmiiISEivd+rb5r+4EaHWSY8XZT7xr13d2dOqwTz20blQ6cFQtoecOIzxOMJR+zs1LcWNku9qRmpAQ+N62Y2pUBrEK8TErmZuV1ezPGMT+bzP9PD7OVn3I5+E2v03dcZ+zPGrfcFX27p6puOzlygwS487jGOhZ6S/bbK0yWYxo0b1MTGw1KXgWzXCxqOr2IbI4slBT+a1ylWaD5jBR3lpuFYY1dldcyzoNrOyNgUIXvk5UFlmyRAoSVfHYdJqgBbFDjUqhhfX7YHUHPABYvNNlTgKIb5aO4NKlRPcDM1tDr1O7XWg596W20g3pK3yfgniwaftgV7dG0pKNFlpjYbE/tILfFuq7UUT6VbTF6eqVrsdPcH9GCcvbcSjD6TjHcw8S8r03vPWyK668nJwrYlVVcBWzVjuFt7LbHiNzBU9I9GwQAqe4RaDqFbiUIznsFfPaS0Dtc4LIH2A2221EE5wJxKtc9+YPfR5belDLbAzMmMeH5nLz0un/MrP/Cs8ckhjLR7JGcMSxqPQo+a24pJk6dZebtZKmefqt0t2+OZ7Jrum0A3VyAq9c3pmvXhbbd228K7xc1lxUTW2a2sAfbjjmLjHyi8uvoxxzJ2i0pPYVXUeAdgey2vl9sNAvYbDO3rrr7osuOSQQn0SUChjOPL0y9HuXMRMLPTp7Hd7auLl6t3G3e45nYPdWvLzpNzUMVZjTNRtsWm7tGnSbtcobJSBHsFq+n83fDtBpkoLtmWznQhY/wDlux8Z0IWP/lux8Z0IWP8A5bsfFRqCdPYzfhbWrJ7BMbwJCJHxCqHGAOlqmJZNn5nLGMZbrzL744zwwANLztq4VuOnjbtsNi3tDVm63E+Nuum9j5RVbzWceZ1GisNarzWFlubjylju9tXFy9W7jbvcIs+bQUP3d3HPHGMIaz/Z7uOYu0M6lrojpijl24c3jl+tU3jmzSslolwReJcfZWBdSs9h3FWUu/eSm3pa82YU8+zNq223VT0upqCRE/7T2nQtq1+usb6dvXs2Wzblu95S19+SpR5ZHJTWHNA7BssEzzF2e1gaxHZ3Q2N6t3LzlKq84vkLNHn/ACGl+dzP9PD7OV/3G52d/wCC28kB63b+LPdx/wDxxr4ZL0taOWO7PZunqm47Pp/PPHfn/uz2fT+eeI7XVsgT6VuzW52/ag3gk1l/HmHfn888fT+eePp/PPHfn888fT+eePp/Pjvz+fHfn888fT+fGp3yFUB9diRQzxuyVam1CNmeyN4pZ/6s9n0/nnjvz+eez6fzzx35/PPH0/nx9P58d+f+7PH/AN5+by89Lp/zKWHUEWHf9NVy33Ogy6Cr3QayGt6BUa+jai6pmW88q9mXrDUae4Rhr+w8vxXmtVVXh+YWJaXdXOuWtRsuxefzLlptTmasFlt8D12Md3dxs+lNXu0axbCeEMW5acntyS0Jnmu3XcvrRi6RtNl2LNmZxfzSjIPF3cU3LfdaJWdcju8AVdNy8pKehtquMykyTlXtGa0dJ74w9g7Voft+to4AspKvt6NbbDq7NVsOwecZhy72tyxqDXG3QbW+bsFGO/roqzaKvL3Z2b+I1nx7s7N/Eaz4JrewhjOZOZFlGGuCvINMPt7S23VN2DjDUV1Mf4qurgVocwjnMifMxy62ytu7mwpNtEnDWNCUobFy1adLYW8uWWxVmbQFDtmFK35OlS6N7sGdnnil0/Yh1tjWXuy+frycq9ozWjpPfGHsFJfyaaq/i7+OYGmtbktUjXeEvnaNZQ2mnJXOeKOIctLqwPWjv9qm/WyH/cThHuxxp2jewaq8RsTibhc6KkfTWNdqYjSDZcvI2uu68mewyK1qtAsp3idzsmwZtG7zQHp3xr3X7yVXZ6doZde9vksLHDx1uXm00EiA13c5J1t/qvvJquaZ5+cjavWWFNSIou2HnD/N5n+nh9nK77jb4ZBhgBRZlKOKeQyWV4KwvW4A1dSwTYweLJmKs25a8CRMSe42fb41kkQrZn1Ngu1WaAhA2c0pL7DXVdNWlesvHx75631Rj9ox4Dt+vnbioOxhktleVlT4MNM4jJS/q3ljnXZ6kKPdB2Fo8OfV6NlsVRUSjBpyMSLXtS0mRsLsJhxvGsy7v8xxxYbDVVk4QO13TrLdC4GUiZ+pCc8DhKUv0W+ZdGKGfLxKfNg/s+7S8AE84V1vl75Yw2rSUZTxjGMdu6eqbj9hcvPS6f8AP+wItNrgyHHWga0xaTAKtz1C11cCuBmEM5mT8dzP9PD7OV/3G3wSYxDnOcu6NAGksLjZYPkF06+6AXpVCBPMq9XNdVS8jdgZW280+hpzJwdLjbbepstVfkAsZcXDiBuX6MMHHI2zHrparr2BSF4tuYrsG1TIZixxslssLZKvMMAFLS21o7LeRkzjPGpWqFXZ342ieAisg1292ZbPPhhq/TnsOyuDx4arQlah+VuI4QllsIwR2dky955FzQXWmxWWCgF4c4xLGcZx9Dmoa874vHWjxLZtQZ1wfnq9wuV9Z3x5Y4lrEnWBGUZ4xLGe/HZunqm4/YXLz0un/QCAACmWYwwjL8fzP9PD7OV/3G3wQYzDkMkMTh7u0PwZPhWtr0fH5ZIIeI1VbCcJ4rwYmdVdqHgOCBYGrK5kUBmQAQfsCk8Pg9kKeGVFTSjCEqpXMZ0VKXEfHVKy4JW15YChNIMo4RT60TeUF1vIp4Pk+FRdZhNRuOIsLDLHyi3QyDy4+gtU1aZOovXLhIeuQZlLJkgkkIQwwwMY4wh2bZjv1u54/wBONdLItJWSzn6ezdPVNx+wuXnpdP8ApBzP9PD7OVn3I5+E2v03dcZ+zPGrfcFX27p6puP2Fy89Lp/0E7/z4zbVOM90rRXGcW1P8WV4xbU/xZXgDSzMczAwMuPr85xjjqw/Pjqw/Pjqw/Pjqw/Pjqw/Pjqw/Pjqw/PjmZnGddH3dnKz7kc/CbX6buuM/ZnjVvuCr7d09U3H7C5eel0/6Cc1GW8VtHXAbIvH5FOXGfplTEnP5EuW3wOfHyJctvgc+KBG80/Y90a1oUi1VBf1uy1gLBA+CB+uL9keyxsValMjTEu4fylR633XnopWqj6Im1/7UPOY/wDFjiMokh4o9nMj03Ds5Wfcjn4Ta/Td1xn7M8av9wVfbunqm4/YXLz0un/QTmp+s0X5iFzZ6htu8yLqlm2F/Z7DV77OwU2pWqdemyNxRZgff4PrS/ZHjvxjEpZz3R2S9Q2FF5defgzVWKEYjUcrwZW1q8TrKNiJCeI69pZhbSDYLCjFUnTJ9P6Ocd2e7jmR6bh2crPuRz8JaqeerH1uCDkOc4Tj4ZaPYie19OMZY6nZunqm4/YXLz0un/QTmp+s0X5vNb/l9tHGv5/yCo7NuurcVpV1daaIioDZCmuNo2Cn4vLTY9evFiybgWvxnvxj5o9rps2DCJGOkxGWJRxnGe/HBP8ATi/er0648G3OjwpU641Bog7BzMLDNVLpSRiePGvu0kKVhV+XdkT1ElLzMrVhworS2XKjJ4IegKfUHj8+ZHpuHZys+5HPwuy6Evblm0oTAGharulGzkiYpd61/vy8PCajieVaw0ykArS3QPs+obFYX9kytX+MHuFtnwnj3C2z4Tx7hbZ8J49wts+E8e4W2fCePcLbPhPHuFtnwnj3C2z4Tx7hbZ8J49wts+E8e4W2fCePcLbPhPHuFtnwnj3C2z4Tx7hbZ8J49wts+E8e4W2fCePcLbPhPHuFtnwnj3C2z4Tx7hbZ8J49wts+E8e4W2fCePcLbPhPHuFtnwnj3C2z4Tx7hbZ8J49wts+E8e4W2fCePcLbPhPHuFtnwnj3C2z4Vx7ibV8L402ucqqFVZsXTP8A0D5qfrNF4vErCxqWlq+zkg37jczf4rm49xuZv8VzcJ6VzFC0sU/M4xgc0/8Al5tHGv5/yCo7L6US79r0YZ8UuzmP9HsKf/SKcZwhKMsZxxtMNxk6HNOfMAdHmd/7cuNcHu8bOGbQ+ZKXuj1V1Mh8d4Giw3HSe+eDeYR1fahbGM3+HkI0/tjxeyavtpYX8X069Aorvo4zGQByTE7mRAyKsPaKLFOvhZSMTjMzlgSNogt4FdeXWOAsmTmwrPuNGP8ApzJ9OQ7OVn3I5/T/AJqfrNF4uXXK6sYZUrSPMe/m4/wxsuPfzcf4Y2XCu77aZlcc+XFgKHNP/l5tH0ca/n/IKjsAnjV92UALODD7OYjUoopKYhDiiqYUlYupAkp442nX9htXQlr7KIBe5e7/AB0fGua3stdZwO/awMvsG9yRbMggjMrQtX2raCYNbOZACj1yuoBTirDPin/08bbTv1NxmzUjLpMFYsGyE6P997IQUAtKxeKE+vt0eKRpN5jEcgeoK+UmpXBXDBtrQJUsvKCgBSOZMeL/AKeZPpyHZys+5HP6f81P1mi8WFkhUpkcebGut8pWhfvZX8fKVoX72V/AeYmjnKIQ9oQkTmrnGeXu0ca/n/IKjs20w0dx15o+fCAJxMCgUU8SHxvtgq3YUyYC9RiPf3Y+aCrr12DMwVhg/YT/AE4vyODpLCan/EYsXJO+bwx0z7E6FwtfHzPmCpXGsV9NAa0OqxGR+ssrZV6vSBQjWKApHTniAXQDGH/VzI9Nw7OVn3I5/T/mp3RlpEs57oHXXbBMJwwKL3Y1z4Krx7sa58FV4hrlDCcZwplcS5qZjHl9tHfLGOKDGcUdTjPZYVdfaCwNxWBoLLBUAIIR4gLiFFUCem9FAfm/qC/ZHs26gqqxJh4KGckXrUyKZYLbgHxqdeJrXDQYB3wTogqsDNNox5KQwY/iz+hxzI9Nw7OVn3I5/T+/oKzZ6w1fYA8YM8om/Fnwcx9ihD5H7H+JexcfI/Y/xL2Lj5H7H+JexcK8oVcmHm22q4t1oxjGOI4x3Y+tL9kewwRMCmIw8TH7ja51fH5cnd5VbABgiPwC8grn/UnEYwHDEIRxGPHMj03Ds5Wfcjn9UzfUcyfTg+zlZ9yOfzb/AP/EAFEQAAIBAgMDCAUICAIIBQQDAAECAwARBBIhEzFBBRAUIjJRYbJCcXOB0SAjMEBSkbHBM1BgYnBydKEVUyRDdYKS0tPhBjRjs/CDosLihMDx/9oACAEBAA0/Af8A+mibJZcqwu4ytu7I8K/ppf8Alr+ml+FH/N+a81MLhlNwQazCOOJd7udwrENlhkRtL8A30Sb4o0ZyD42rF4lIFkdxpmO/mgkaOSV2sWy6HJUo1Vt6MN4P1M6iJOvIR35Rrav8zd/aorZonRhIb/ZX0qnF0axUnW248zWyxSSqrm+7Q/wxiw1kdG0tHqARx5p4s52bBUFTqXgktYkDeCPCsSjNCG12br1v71DKJYs/ZP7prDSbQRrJmeR17OndzfvG1cCzjWu5X5/32Ao/ZccObPHtUY3RrnJp3V/iUH40RY++ppnkR5Jdnlz9azULySyLuaRt9uYbwGBtX7ziv/Ta/P8AvPX7jX5hxY2Ao+jnp+ycw19XysPCWH824f3rlDForyueyHbh6uAoD9LI3XPjUXWlw79Z0X7S+ArCybWMH7En/cVGt2LG1NjYVivwRCFB99WG5xzfvsBV7WD0fSU3HP3FxTLmKBupGOGY1KjvFJDuGQXs1DeToBV7Zc9d6MDzDi5tQPZV9a+zfX7v4QbCTymrUmGGZTOmYW8L3rBRugltbOXOtvurBI7yv6xZRTYjLhmimsmW3EKdK6R2nOY1to/0TBG2fpWNRuVeOeRmsw4ENUV44Seu2n2BwFS3bD4hdDdeHrFYVM0cjb5Y92viKxd1iJ12aj07fhWzM0+IkJdggNtL+up3KBmAV1ddeFCIvhpnPW6voE/hWbD/APuiv8Sg/GulLtNk4jbY5WvqbUjFHSaVmsRvBvXWqfGSrhMs/wA2Y79UWU6aVi/mzsic734XpE2rQdYv467r0JE2oG54ydVPuplB++kA6VMmja+gD+NJLs8yjM7ybzv9dQhJIp4+ocjbr/nWFfYzH/M0uGrBvstmDYSNxY1iIFlCxorIMwvasK4lwZTNJHlvvQcPEUVB18fkywdX1oc35UjeplYfnSDsTjMdP399Nozw9dPeGqZi0rD9ILncQ2oFQYRPmJM+a8Y61tLa1NIiA92Y2qJ0ktlqCElB+8dBWLl7chLCMNvsOAqJhtUkQLofs2rFkoYibhW4FebDsY5pozld3G8A9wqa5QYgsZJAON6w0pSfDYhQ6m2hFYmASF0QLlW1yNO6o2KRwqbbT95++sTDtYYQgK2bVcxqGZkljudnJlNiCKbCdIKd1lvlrF4lY4hIfm4Fc2Gm4WpRmQSIFW/gVq8sGJeUM5GVDa7fwg2EnlNWrERh8nRybf8A3V3RAR/jmod29j3k8asCK6RzFw3vrbSeelx6Aeog05kRh3jZmo8FGq/8RqNAJiZFS6n1g0jZlV8Quh9y1DN88UnzHJbXSs2H/wDdFf4lB+PNt/8A8a69DEpbwrLJXQ5vJWWhAlv+Gmx05N/F6kckLtlXrbjcFTWULnfErew4aCp4UCCOXadcGsXJtoZLdUg8PWK7g1x9zaUp6zOgEtj3MNKOH2+b9216zts88cubJwv199TyhS2zl6q8T2+cG2Z9Lk8KxNztYbZHYdW7L314HZH7jes1gZEIDW7jU0ywzrwZGOvvroj10mLzVlFSxssgbdlI1pCyB5ZBsYfZ2HWqa1xGjXsDfeTXSk/Hm6XK2vFXa4PvFJBlcfZKnW9S46VkI4gmv8Nnb1Cclh/Y0SAPWaEa7MDEJYLw9CnJZm6QNSfdTCdVyPnUK/YqBypv1d3EUvosQ/mBrEOEXFRrkYNwzfwg2D9VmGY3HAb6tSQ5GizDOCD3c8xVFjzAt91JiVzMeF9KO5kYMPvFZhUU0meMtZhc3pH28+U3yn0BXJ8bOW4Z3GXLTRdGlI9Aqbgn13rFx7F34IxN1Y0q5swkB08AN9TPaJho8aD038KleIJFmGc2kBOlRY+J3Y7gL76/zM65fvp5+qw45RlqKR1aMsA33U+JX5tWBYW117qJZM7aAFt1SYWQR9YdfMLDL31atil8jAkacRwrEytiIm4ESG5A/loSmWAyHKGB3rfwrL81DGwZnfh6qw/+vTsMT6Nu8VHK0L6bTK3BjfhTdZWw02QfdURFpBr/ALvjUzOyo402RN10r2S1awdIwDrzmEuh7mj61Tt1xxgc+kB3Uy3BVh/cbxUsJSKI2LFz2SB4VDKs0x4BE310SSopo3b1A1KFyRQEO3iT6qxgjVZU+xIdalxKJM18tkJ114VNkWGKGxJ1vwrpcYud2pqJGZmU3HVoyiGOVh1ghO+Rqk/SDa2BHqW9RkMkQFow3ee+sRhpIgfs5lsKgkKlW3gg1holhmjkYIboLZtd96cjd10jXvY99LC7pC7dVwnpA9xon/RZXXq68L8DWQkOs4MY/wB2jOEhYekxaymlgjD/AM2XX+D4wyRBJUZjdSbnT117J6hvdEjYFufEzZ0R43ZkHdXsXp8U0ytGCoClQLa+qswpmdNnco3VNu1Wbrtm2rH1W41vkkbtyt9pqmXKyGuEU+jD37qHe+0+4LUg+dxD7z4DuFTHqo6OxWvYyUnKPSdpkfIUykZLe+vYvWFmzuiI6s6916xWKlmVXjclQ7XC38K9i9clYR4JGZGO0Ykaj7q9k9YoR22SMtsl99/XS6xTJ24z4fCvRudm1vG9emE68hHgaTf3seLE99YqzSsdWzcTR/y5TCNfAmlIPR4fSPczVGoVVUWAA+Tx99SM8mGkjZc2ZzexHhR/y5DAfxriWfbvbwp9ZZ31eQj8vCpkZG9TC1F+pmcIyL3HNQ7UMHaa3AtutRi2aKmmS24jxBrNoSwjNvG9W0SDffxJrP1Zc2zKjgbHjWJRieEcGmpBNRMQrwKWDqPSHhW8i5jNLu+fe33XrDIJEn3Z0OljbiKtbagdWT+cV/mLIE/E0pDdHh9I/vtRhMQRdAFItYUGPR/SuC24+6u8z9Qf7t6j/RKotFGe/wBf8J1kSMKuhzObCsRIWCA3yLwF+NTz/MzK24ueI/VMkPVXdmtwqUZCwX52Mrwsd4q3ZeAXpCdpNkyFx3BRWMQJDG2/ZDXMR4/wuzBtnKodbjcbGv6dKjN0kSFVZT4H9Vf5hjGf/i314SOB916XdIYwWHvP8UDMiWkuRY+qv5X/AOakxDRgRggWCg8Se/8Ai30uP8+bpj+Vf4Pjekk6KR7ia/qY/jX9TH8aUXKwyrIQO/qn9c9Ki/Pm6Y/lX+DyYSTI43rcbxUkCu80xZndmFySa/3vjX+98ah5KfFxhL5JXR1GR/Br1gzkxeEfeD9pe9D9QAvWY2VLWAr3fCvd8KCDRvyo/qPpUX583TH8q/we6K9dFi/Dn/wt8Mdk6LYs6n0iO6sGRkxe0is8fFJAG6wqVSHThmXQ2+Udw+hyn8KvzsgAJ0GlHtLtF+NNuKm4/UXSovz5umP5V+sq65USVlUdQcK9s/xr2z/GvbP8a9s/xr2z/GvbP8a9s/xr2z/GvbP8a9s/xr2z/GvbP8a9s/xr2z/GvbP8a9s/xr2z/GvbP8a9s/xr2z/GvbP8a9s/xr2z/GvbP8a9s/xr2z/GvbP8a9s/xr2z/GvbP8a9s/xr2z/GvbP8aLy9d2zHRzx/aPor10WL8PkZG/CtrN5+d2CXG+1YlEmbaG+pXcObCx9XI1gdeNFCCTxsbfJlBzW0ItX+W3Vf7ubKfwq/ybv5v1F0qL8+bpj+VfrO0XyD5eNTMI4iLAHcd2lbHaIHZcrdw3UpsR3EVIbZ/HhUqFmz2Oo7rD5J/wBVpa/2bb7/AFLaS+c/tH0V6fBoM43i6bxXr/8A2r/5+9Xr/wD2qLDZDLJ2nIW2ZvE1tZvPzySIREo1seNJBGresLzNEbDvrDA7WMjUXbm2inO3hzBwbeo0VAIYXBodYK56t/DiKZrZmuSPG/dWU/hV6I60ezzZffXsTXsav99XfzfqLpUX583TH8q/WdovkHyw9hfuFdHi1HrNTFM8hXNm6tyffUssecDTNm+FdGOSFuNra1hw3zNrDq7vXR6i4YYfsacDxrCGRY8y2usfZzeNL1gVW1rHhRRQcgsNGrDsxnnfXam97D41FMyiUiwmkG8DwpolRcIMPca8Q3GsNIdkGWzZSL2aobi6m+a/0uebzn9o+ivQwceVb2ucu6v6xP8Amr+sj+Nf1if81Nh7yR3zZGK6i/GtrN5+eORQJV0Pqp8PGWPiV5hEbEcKxIJkcm5ax5swa6Wvp66/3PhSsG9Dh7qmU9bLmK28K35AczfAV9re33msp/Cr1Y5ZJSudteNetK9aVmN6u/m/UXSovz5umP5V+s7RfIPlkaGW/V9VqU/pI757Dhc8KS2QTrfLaoP0cBHza340ilQ3XvY1Eb7SIG7fzX30Uy7dV+ct76IIdmzXkJ3lvGspGTrW1opky2akTLrm6wPfasK+aMQXAvSrYTlOuPEVIS0kr5s7k99SOWyJ2V8B9Lnm85/aPor1Hg42Y9wy1/I/wr+R/hX8j/CpoNojd6sLitrN5+dWD5RvIFYVUhfON5Vd45sWllyjQa0qHMO65v8AQZT+FXq3X2TWT3Vbq5n0v41/Mea7+b9RdKi/Pm6Y/lX6ztE8g+m8fqmebzn9o+iOf7U2Ej1GoPVr+QV/IK/kFJC1ydFUWppJWHqz/T5T+FXPybv5v1F0qL8+bpj+VfrO0TyD6XOKyfn9Uzzec/tHIpR1bUMDvFcIYMUVRfUDe1f1n/av6z/tX9Z/2r0opcWcjDxtUShI0XQKB9OaY3yoRbX3V61+FetfhXrX4V6x8KQWH6i6VF+fN0x/Kv1VCVeZtdf3aU9eQtkUX/lr/wBNiv4k1Gtszm7H11tF8g+k3esnhRcFe4iinVXv1pdSPXxH1PPN5z+344mr5bjv/UHSovz5umP5V+qRwOw9w5mQufEk8+0XyD6Q6EVe6k8D8fGt1+5fGt5PEn6nnm85/acb5JXCKPea/qovjTdmSJw6m3iPlIoeWHCRlzGp4mpEDZH0Zb8D9PJ+kcHtPfRHPBa3bJdI8Qg9HwkHDvq+V0OjIw3qw7/lobMpxMYIPcdavbaQuJF08Rx5o+2isCV9YrGrmWVUJjX1n/5b5IFzHmGYAeH0/Sovz5umP5V+qdFk/Dm2I59ovkH0p30d99Sff9Uzzec/tO+pjk1GldDLbC3UzbO96xasYtqSsaH3UZHEzTyssCpwK8T6qgiEi4jBOWikHheuSpmWZZWbaOBr1ayW2F/9Zmyb6miMirhZWaZfAgisgWQ43NbJm4WqDDq+MnlYiCJ7XK1ycjO6o10kVfSXwqDHdHnzs21yqdSvCsNBtmfFFusvcLca5IfJjlkkYuxAucgtpUqdWG++QmwWsTKqdHwkzHEwh+L3XhXKjBY3nJCgtu3VtCB0Qkpk4b+PyOUZJljWWfo6AQJtGJbK/Cv9qP8A9Cv9qP8A9CmFmU8qNuP/APHoMvRhHiTiWC9zMUTdwoKNqh7GIHd4P3GtzKdGVhwPycppuUpDA0eHM2Rb6jeLU5vDhimxOdjl62+26pYTKgwkrNKvcGBFdJ+d6bm7/Ry1jI/nyUJe4+y3CuTF2knSC13X923GuT5WixcbysZS0Y6xXTQVPh0ljXFvkjGbgxrGZgs/J0jMIz3NmFCAZum5smXwtxrlBEXZISIg+53/AJL1jh/o0+Fa8ZYnRNeNYKPaM+KdhmW9vRrZrtQnZD21t4fR9Ki/Pm6Y/lX6p0WT8ObYjn2i+Qcx0Hvqdb3w46qW76xKkXvmJceFYlWLIE/R27zXgCa7ra1/KaG+yk1/Ia7ypArvym1eAJo7rgil1WMLbMO+9RTMi8TYVmGfQjq8bVLlsA4zdagpfLNxC7x4V4C9d1jev5TX8p5vFSK/lNd+U2rwUmvAE14qR8jPN5z+1HRDHts679nltl31hA22lzqMvuOprBI6vgMUbRyX461NhtkMNhWUqD/u1j5XOGGdG2gKsBuOlZmzYTEupjZGe5uy3G6sMhvBhpjLtT+ArFxgQSZ1OY5u4G4rGxhcThJn2d2GgYNXKELRJDCbrCja5b8am5QkmQZ1e6HceqamwWySXOurX3Zb3rlOeZsIu0Q7QMhA3HT31H1wMwYLIrErcre4qHIr4/LHmcKe1l76wOJVp2DquRQ3cTr8nk+bFGWGJ443+fh2YI2rKN9f1OD/AOtX9Tg/+tX9Tg/+tUDZbzPE4c8cpiZhpUnVw8fGRxx8EH2qxTB5mGguNwA8PkkVj8c84aTFxp6tM1GcIMHLMJIpYbanMNzVDEV6LhpTLtGta/dauU2U5ZZdlsiN5PfWFjPSXDr821t1ibmsbh8sEmdeufVvFY3F4l8PFtEOdZALG99KwGxklgkYFHyDVCVrAP1+iunzvry1i8OIpIJZNnZvtXrk5RmgZrxNfVkBrk3WDCwSbQmQah81YnDZIZc69ZswO69x9J0qL8+bpj+VfqnRn/Dm2K/359ovkHMWHWO4X40VW08QvG47+t+FbVcmVcoYSb+r31iI2EwVc1xapWjzy5Q17re5pmizdUdcSDUGsSSJEyglx3VyhCzsoFrSrx94qR5ejtYXCkaUIdpigR+kcDqj86EPYyD7F70AJgAOwx3i9YSeVk4l9ncAWqCPqALqNN96SV8smXMI9f7UDtGfQFAmtupXzSuj62BvrRUbQRD0OFvCnCtJiIoxK2/x4VNLsXlkiyiRPjU0RaTqi7e+ujmQqFAJbvqByY4yNFud9qhayLktl1ItWEDpA+mqbh91TRgYuTuRtLV9mKEOJdNzHhWKg2rq8eUlh6QqOYWk9Lv3fIzzec/t/iR1p/tf+mp4Mavs4YF0MxX8EHE1L2m4IPsIOCj6/wBKi/PmGOENkkKrlIGthxqSIdKjmkJGUrfMvvqLf1Tr4CsQuaNUGZyO+1Q/pO9PWKVrWym58QO6gNXOlvXUzqkd0IzFjYW8KVesIEtIznj6q1K5+tIwPhUQu6nRlHiKQgdg637qlVWWwv1W3GrXzOMqn1GuAYZc3qphcRoMz29VKbMeIPcRUzZFBUjW9taTt5Fz5P5u6iSLucvZNqb9JKeI7gKuC0jC2Ydy0ihVHgOfaL5BzogUCSPNu4+uo+xHGLIvqFBMm0Cde34UOys658tu6lkBVB1EUDfS9RjJ1mRjuy60rhx3DLuA8KijMYSzZDfeSL76L5wV9HwHhWXLttn1/vvU753kmBLn7iKuD80LLceHjW4tkN29ZvU0eSRApyN+9a++s4dkiSwe3BvCiuW2Rv7dahu2wJ0PDfup2LbKRbot+A8KiW0cJX5pL8QL76jBCtka9j76KZM2Rt330FytslIDj9651qXtvClmPvvQBBD6hgeBqQ623C3AUnZM6ZiP71LxkU9QfZWxFhWQKdkCAfE3O/5Gebzn9v2/se8eNMMpmk35RuUfqDpUX58zcpZwnHKAutJEqtbgbVKMiA6hmtYikgC9KMWfq/ZUVMXdS6lc67729VXdtfsHdQlu4i1ZQW0a3dW2TLC8ZLRW9Y6tLCsbHufup06ktiVXqWpIztJbWRurU0hMSsLhgDfSoprsvdH8KSxf+U7qRcrnxK2FTKTHiYiRYFQN4p4rNPP2JHI0y31vUEpfUAsvjRkIkilU2c24EXvVyER10a1E6S5A2bwzcKPZ1ujeo/I2i+QfTdXX1/VM83nP8IOlRfnzdLcZnQMbZV76O8IoUf2oG4YRqDfvvS7iyhrURa5QG4oixtEuo+6m7WWMC/ro72VQD99E3JMSkk/dXcwBFfZCgChuZY1BrdmdFY/3oDS8am1q79mt6HBlBH96+wVBX7qO/IgX8KJv1kB15o4TIvrWlOYesU8KFvXbXn2i+QfS2vaurS7x9Tzzec/wg6VF+fN0x/Kv1Tosn4c2xHPtF8g+lZrrJxufz/GrDrDebVGdCN7f9vqeebzn+AyC7uxsoHeTVr5Ipkc277KfkQqzO46wULv3VIoZTuuDzClteS9xqbDdTAMD4GhxNEaMpuDekNmAN7HuPNHK0TEA2zIbEfISRoiRe2dN4omwLG1yeHyulRfnzdMfyrzxpmVsobdwsa2ay4iDZogVWNrBt9xvqH9Iuyk0v7qeDaZjE4NyRYWtoPE0HCFcrb23cKzZNxy5u7NuvW8ixOUd7W7PvqWMuXVGb+W2Ua0DlO8hSeBO4GgyqVytvbdwrPs9EYrmPDNa1/l9Fk/Dm2I59ovkH0p30Nf3jfgfjxofU883nP7Rx2zxSSqrLcXFx6qcXVhqCOeQEpHfUhd5ArCFRLdbDrC4seO/nyZ9nfrZe+1YSdoJdNzrvHMqhyl+sFPG1StlQMbZm7hzYlHkjW29Y95/v8iedYI9L3d9w5obbRQdVv3/ACRBtytvQvlv99YkgRxIudteJ7hS4l8NaTqZpE3hb7/oOUZYsHEp0vt2ymlSPD4efAM8hCOeuz52YVyTyUqqVylJsSVvn3e6p+SG5SaJI8hw1+wnjmpeTpHPJeGj62Gdx1czd4rlHG4XDRpGit0R8S4aVTe9263GsNjxgouR9lmmxIFruddK5Gkw8WwaPP0qaa3UzcNTT4K3V/1byLr91co8opDBiEQbOCPDqXK6drKQN9f4v/h8GPdMkSoGyNK4B9E1G0eGgxUUYjAaTtsLeiO+okYQywqAgSEWyC2+1qzSzvyXlF4JXcorSnf6NYXkxpzsIwkcczdlVPGuTYTi3wSWz4rpQ220YkdnraWqOKR58EZkdQL2Xq2DRn1msNYTYYquyUnc0TAaj11gsIs+eSPaS4p3v1Ihem5LOOnx0ybTaSG3UjF9Wa9TyzYxuUJUAQbG5iuu6+lcnYWB9tJFnm5Qkk+wu61RcnrM9ho0hX8K/wAObFTxQxhIsMx7KZ+JHGsMPnMNlXYdY9V4mAvbm6VF+fN0x/KvPImUBmyjXjekRIpsUsoZjGpubLbeagdFhUzDLJGDrn030+EEMyM19mbgm3fU8aKrZwSNnxtbjQxi4iM3y6L6Nqx8ah1kP6NgP/uFQ4ZoGB6oF+IHd4VjcQJTOe2mt7W4nxp4IolfOC3zQ0a1uNHE7R3R7qyj9w+lUcxWEj007/ldFk/Dm2I59ovkHP8AvG1WvYHW3yybXY2pBmazXsBxq17KbnT6AC+Xj9Lnm85/aOLouf8AxSDbW+ZTs6Gn5FgXBKobZdIXNm2eXcam/wDD/TZ5V6zySLbtXNYtsSmM5TjiMhUwNlXQbs1dBmX/ABdI2vMxZOqw4Zqgn5PjjlIMmwimijzyhPfesJgYZcPyi8RiKSyNZl132rEcljHI0y2eNiwFhru1psBAFaJCy4llkb5okVB/4iML4LKDFJtJMpJPfWElgSXB5Yxhuta+9wze5alwOEyCNGK4xrteMmo+UTnxsKlmw/zTdbSsLyeJs0aIseJ6xs8hkdTr4XNSch4mRweCkpnZB3jurFu4xeMxEsiMulyGeMO0etf4hYOmIeMth1H6MTSqp2n71B5IyuLfaSZo2setxHjX+ORhuRzCyrEkcmjg0eURhZMJIsYgQcQoz5/fltTzwtHgVRjHjRsVrHySqY8UsarHl3ZArsw94FYie0b4RVztYXIvIyKPvo8sxYDpWm0yM2/Q2vXJnRTDinjvIEnPWJH7tf4WoOIkjMZjbaE7PXurDcm4R3EIvtlLP1W13Vhv/FWNj6cl5GwkYzhbW4UYhbFPo037x+Xh5NpEXFzG49Je4065WRhdSPGpAgdNmLMI+zceFqeJYmkC9Yom5b9wrEfpSiAZ79/fUMpmjyxgZJCLFh402+fIM/31LiOkupQWaUHNnPjfjTjKyMLqwPCsMHWHKgGzEnay916ZmYw5BkJc3Jt66nFpECCz27xSdmOMWUX8KxX6fKgG0v8Aa76kQRsgjFmUG4B+6hEIdqFGbZjct+6sSLTEIBnB7++jrljUKKVMod0DEA8Kw4yxZkByDw7qgN4o3jBVD4CgmzDugJC91ZMmS3Vy7rWooUOWMDqneKOpEahQebpUX583TH8q88Yz2ZM4YDhWLkO0Oy0sAWPHhW63efA7r+FXtbXeeBO4UiDrWbtX3bv70Da3j3X3VmK5QDe4FyKjxbRKYQ5A7lOl81QfpGsVy/fUQu9wRlHqpQCbX0B3fLfDuB93Ns7fcbc+0XyDmFJooOoF6FxIODAiou2b2FRduPiKDEEA7gONMLkA6LR3tm/CpQAW4i9bMZOtmvpvqIksbb1FSsSLDWx3KKm7DBw2/vHCrXOtgPfUGjI24e+mdiZM2tz4VF22vb7qj7abiKkaxcagVl1Jbu42qJbu7NlAvUXpXvei2XNnGb/hqWxVr7791I1teN/oM83nP7Ry22kgUBntuueNLqu1RXy+q9ImzVsguqH0Qfs+Ff5WzXJr+7upOzGY1KrbuFqlsJLIBnyiwv36U/aj2a5D61talTJnCjME+zfu8KQ3XaIHsfC9SPtHXZrZn+02mp8aXdI8Ssw95FR9gugfL6r7qO9ZFDA+41F+jDQo2T1aaVEhRGyC6qd4B4CmYs0ezXKSdSSN1XvsjEpS/wDLa1KLBVFgPdXCQxqX/wCK16/zdkuf/iteo+zIyAuvqPCjvkWJQ599r19mVA4+5qRg6x7JcoYbiBbeKlsJGCjM+XdmPGm7RjjVCfXamUK0gUZyo3C++1SOXddmtnY7yRxNKNFUWA93y5suHTo7BZc8xyLkJ3GsM6YafHZc0UUh4O3fWFVHxU0EZdMOri4L1h+TF5RlnuAqo98q+vSsfEcVicJEokmSLcB4amiEtEBmkLvuRQN7XrktFeZcQmViH7Nh41g8P0p1xa5S0H+YPCg74pppkMS4mKLcF8DWMZ3lXk9c2J2Me/JcG2prBYPC4ZFxTiS8+MIfKy7zKufWliZnixIyv1RvI4XpY26LiGTKknSGyxCLvtmrknDRviumKc5DDt++kQOkyus0bg/vJoD4GoImWSWBCYsM7L1c7VFhUmxWwQyGMPrmkbhWNw3S54IUzSiN9Evppv1qAquKkgjJjw7sL5WbdelUE8T1tygcTXJ+FOKk6SmQtEOIFJh2xKdKXJtYV3uvhWJxYk6a6GNJ4YRnITvBt8jpUX583TH8q850pTIuECkaLK2YnwNR4ozJiNs4FifsA9qsRidussh7OvpDeTWKw8cTOWsUy79Kw+L2/SlOrDuA33qeczwtmRj/AC+FT4wzRMZEOQNpp+8KOQx5nEjSvvYuVqbB7CxnLlza29iQFpCsTqCpLL9q6/QOc2Re0nhbiKvcwv1WX1V9nKX8tSC6m1q2i+Qc8u8L2hS6sW7T+FuFSnqNHr99YgGy91a9fh7u+rZLZD99XsRkPDjSFLowsdKRABm3kjwrFALIQNADob1GQVHfalyhpHAy6calGoTeNKdCEB7ZJHGsxzOdBY91Sm6Mmv31iNBGmpF6Q+mpF791WEd8h++kIzFEJz0IwsQdbEnvoXtIbZde81B1m2aErrwFEXsdCL/QZ5vOf2jTYxxtHbYJO7ariT6tRWxciRNRmUcPfUMcOymzj/TGmYJdRw31LKythNsoZEXc5JHGsfiBh48KrBX2libX91YLFJhcRhZD+jkkta7AdnXU1i+UIsOY8DiM+0RgSVWSw1PqqSJ5zgXmEssUebUtJxrlB5o1woIR0eDthqw2FhxONdHH+jLKOOmtYfAdPhDdc4jD20ZQO+tMohn2x1+2Mq5TS9HBlV8q4XOmYki2t6xXKk+Hi5SLZkaRpCAtqw+J6NJlZttnzW6iZbFffXJ+TpeLjYWj2ihhp76w6Ry7OYg54pey39qwowQYCa4lM4UKEW3V31ydgekCKUh+q/ZYVPMuHwuFDh3xTFc2YHgNKwbhMRhprFlLLmGo36fT4TGJiXjy5tqYjmUX4a0/K/8AiWKOytt7f6u2bQVjsdJteTlUKJooWtHnbuIrE4NMLPBEAVkWLsX8BWEgXDy7JB89ECDl36XtUE6TwTxi5SRDcG1Y/FxT4iaWPNI4Teu/j/auU8PHhlVVy9HjRbWB46i9JhRhhtlHVRT1QvdWHw4weCDekCbyP6rjSsRymOUExSR6xPHYILX1y2psOYZcS+jyX9I1h8bBOBJFuiw/YhXXQab65XmD5lXKYVRQqqO+1M11kdFjygcLLWLxMeKkwgUGNpUt1j37qxsMceKhiHVl2XZv4Vh8PFh51jQWxEcRBynuBtU+NXGnB5QY9sOJ791Z1kSVNSrobg2rlQRrPiJYwz5V0YDXiKm5Nj5PiiC22KDtEHjmrB4dsNDHKgCxxHcq91vkdKi/Pm6Y/lXnjW+WpA2cwjK0RAvqCf719i9E2yX4jhWERWDhr3D63+6o9XsdwFKhc2PAbzSi5A7j9J4gV/KKG4CtovkH0wv6tKt9Tzzec/tHjCGxWEjkIimYDLcjvqNWSPMACsbcNN/rqaSFooZGzrhxDIJLIG9VYUELmjSeNrj0o36pNcnY/pinKvXbKVykcBrXKeJWdi0SSKmVAmXK2hGlRcpjlFmVVGeUC1su5R6qhQxifCuY2MbG5XThXJTTsoPW2zT9ouTrXKuDjwrqFHzYjG8Vh+SI+TU6inqx+n6/Csbl20giWFTk3dSPTjvo5NvFC9o8QIxYBxWE5U/xANlW7Nnz5D4VLiOkTYaCYrDK97m4vxrlrZ7Syr81kQJ1e/dUuDgwuzIGW0F7N771yi+EZgFXqdEKkW/my1yjyfHgZIt1kjvqDvvrSTibC4h5TtcMQLDZnusaxLh58RiXLySEDKLk+H043sxsBQ9NHDKPeKi0kcSKVT1m+lEXzqwK2HjWGwomnxe0GRGc2Vb7qyCTIGBbIdzW+z41FrIBIpyfza6Vxl2q5P8Aivam3MjBgfeK/wAraLn/AOHfQ9KRgi/eadcyqsikkd4FEXERcZyPBd9RxNIEZwpe3BRxrExq2zeQL1j6IvvrDYVJpZb7mc6JUKhpBmF0VtxbuFTJtIgJATIn2l718aj7aJIGZf5gN1ObLtHCXPhen7O0kVM1+69SdjPIq5r9199KLlidABxqdS0QDg5wN5Xv91J2o0kVmX1io+3GrgsvrHCulRfnzdMfyrz26qPbK3gb1Dm2jo4tJdSOqqn8ajxhnTEFhazG97b89R8odIXIyqrKfC+/xNY/DLFHIXQ2KLbUKb2NQ4V4cxxGfadwRb2A9dHaLqyddXN7ZlOlbEIFlZZHuO5gT1fX9PtF8g+mu9W+p55vOf2jbdAzgOfdUEQmlQsLpGdzHuFTANHK0gCuDuINS/o5WkAVrdxp0zrGrgsV8BX+VnGb7qJsIS4z39VQ7PIJHAMxkXN1Bxr/ACc4zfdQeILhmfrEO4Um2/jSpmZmNgKwWFhm6Sj3Hzha9zu0tWFieR9i4b9GL2pVUzfOj5kt6LHgabc8bZgffUvYR3ALeoVJbZo7hS191hWLxGwjbEvs4UOXNd27tKxKb4pbxMb+geIqb9GZHCh/VWPkZVnZwsaWXNdjSQDEPZx1Ym3OfDxrEKGhdpABIG3Fe+pheNGYAtfu+kx2MS+GgNnljgOd1B4XFcrvh8Ph+T45GlbDoCc0jtwvSzl8fgoJWR8SxQqGY77XqblUYqfkuCY5lw1gNir7+FYnH4eQYFWLZsPC18isd576xWEjw+BRmvlhCDqBu+o8ZH06FJs0+LWMdpTIGHHup5jiyhUSptezknVQosfChhTZI+wkjDhWFEpxWOklaRsTNuzHgEqBJsTiiLhHOWyR3HGjjZcTPK2f/RoE0EJubC/CouVTiZeWWmazQCTOI413btKk5QjeLlDaNlhwth1I0GmasVsEiMDIIYUT7YZGIPqIqbExnDzX0aJIlQL7rVynybCmIxQ/9DP82v7zZhSckLydgYW0aGONcre9yKgiWAS4pkJlHEjZqunrqZ4eiYhZWWLBiPeSo41LiYui47asEw+G0UrGg9OsFg8NhOS06wJkHakQDuocmdHzNvdslj99cn8iDDYSK+ZjJqHINtC1Nh2TAYjFJs8Vd96v8awsIhE+KdDtNOsVyKtx6710qL8+bpj+VfrO0XyD6U/o2X0f+9HNa2433VvLeio+H4/U883nP7R7aE4fFRQxM2VLXzys6svuBrlHkyPBSqZdmYWjv1vHfWH5IGGOGx8DYiNsu8plB69QHGtiVkUZFEjdQlW/tUH/AIgnd5RkzjB5Wy3N+z4UeVemDEpyg0cUY2mcEw23rU3KizYCbq7Qx6aq3dWL6PbFuwEuCMaZWIBqLlI4oYtOUWWJOvcNsbbxWM5SGKj5VMgEsKbQNlsaSWCXYyGyTCJsxRj+9WKwsMMWBzh4nKE5ifXeuUOTjBEuxjw67XLa+SJ3FqWSJJLZJulKu+TIcoLeBqfFbSCIokWVT+5GzBfca5UAEGMnkyvgbR5NB/esPyVhIocRLZvnoy2bLxBqHlEyYpGsVEeyYXIO+ugjCdEwmLOB2eVieAsRrUGBZCrJHjZsPKdygzNGLfvVyW8pmwM7C0iuLAcRpXKXJMWClwwm2fRGTN941rAchCCUyZXRMQpFtO/xrlGVDaHHnCrGgULZ0trupVA11On0eGzbOZwLx5xY2PDSj8nEPs4gd7N3CopWie19HQ2Io7hfU2+pdKi/Pm6Y/lX6ztF8g+lO+ibiTgLd/j+NHVm4sfqeebzn9pV7O0jV8vqv+ocdi4cMZ3NliV36xY91YjCyYg8rzKow5jjsFSMbiTV5byKMqyJGdJAO5hrWOxzQHkyJQZoYQ+XaPbdpXJs+JiTCrFeSfY6A5uFQ4LavglkhlKSMOqAYtVHeGrkzk2bGquEAyYeSW2Vc3pHT3VjMEOUJMVio0QO07XWNFFgTrWAwMCHahf8AS3nJziJW3sfqXSovz5umP5V+s7RfIPpJbbMm+tzbWpRpv3j30xtmjN7U1rlr31p1zBcxzEeq9MNfAjePqOebzn+AzdpJBcaVhP0CMukdu6psO8COFvswwtoNK2SpJMq2aQ2sSfXWvzajTrb6xP6ZVXSS/fUsWydVFsyE3saw2XYZl/R5d1qw9tlMw6yZe76l0qL8+bpj+VfrO0XyD6TqeeszfiKJW3uNZ1/E1stFtbZ3H1LPN5z/AAg6VF+fN0x/Kv1naL5B9IOzYDq27qQWHVH30n2rAaUvoqBY23UN2bgBw+pZ5vOf2jxDEIGbIunexp5dmFY8fhUttndu1fupQCQzAb6ykohcLntwFYlAyRuwvrwokDZlhmud2lSsUfK4vHYZtRTSFA4cFhY26y8KG+O/WqNT82GF791TEgK7jeD301iFLAE33VHHtJHzhAB4d5p5AkabQMGzag5u6oHyyESB1HvpcT0eNc9xIe+/AVhsPt/0wbMvhpU63WJpAx18afsqTqag7Qv4XP3UhszZhYVLKUa77wPs95vWfJs84zZjwtSi5S+oob1Vr/RQoXyXy3A1OtSrmy5s2nrqPt5WBy+uokvnY/NBuAZuFSgZetofVUIu2vhc1c3eN7x/fWKlESssoQAmsGQJetmTUX0al7ThtBQYLtTohY8AeNSHqNmFm9VSdm7b/VQW+XNrR3sj3jv4GpBdCWHWA7qYdVlNwaTFHDrFt1u7DeRpuFSIh2u0BVS5sAdO8VPc7RZg+QA2uRbxpZSi9cPnA9L5XSovz5umP5V+s7RfIPprvVvqeebzn9o1vmixF7HuIIBsaTHDFKhJ2a29AG17U2HCNvBzA37tRUnJwwvWdu0OPZpcC+EdWLZBmt1lNt9Lhki6jNvjNxfTUfhTYZIhZiXDJx3eNQY2WfaMWEhE1/DeL1FNtGnguHk13FbW99dJkxCStcyqzg6Wt/eo9soXMyqRISRpbTfUCyxlFkdVZJDe97b/AArDYTYWYnN33AtbSpSU6zEKEvodBvtWHnSWW7Nbqgiy6eNSYuLExKGYgmK3VfTcbU3KKYztvwFsvZpepiB9uPtWHvqaFIpI2YplC33WBvWK2WcTXJQxbsotrXKEai+udWVAv3VNhY8MqBm2dkN85031hJhJKMxF+rlOXSg42erXjT0iFy2LmlxD4iNi7Zgz30y2t76eeSRWjJOjtmsbgfRSxMgzkgDMLcKTDGO8LMzO3A6qLVhsA2EjWIn53PpmbTQ1Pgo488hGyyC4GqZtajhWNnSVltbfw6w9dYhE7Vw2dEC9242rB4ozIAWMbjubSkxRnmjJYKb7wOrrv31iLtE1ztEJ9E6arWIlhXquWuYzcG7AV02KafpBshK2bq5M3AWqKJonhzFFs9r2IFRRxx5g7KQqcLW63vrVmXO2WQkW1S1l9dYCZnVbsY5ARbXTSosZLiZQzMANr6K6bhRxZJyOcojb1inx3SYZQ79UX1U9Wp8GkR2bsxWSMsQwuo76TAyYaY5mLEuQcw08KR3s2p6t+r/b5XSovz5umP5V+q+NeBzfhX8rfCpBdW7xW0XyD6VDZu8+quv/AGq3vPjbu+p55vOf4E/ugD5XEHUV3KLD6h0qL8+bpj+VfqgGtKSERermHe1ZrIq73tv91fv9fzUo0VRYCtovkH0o/v4GgbMPE9//AM1r0F7vE+P1PPN5z/CDpUX583TH8q/VBhpLfdzbK/38+0XyDm8FJrxBHyfHTnG/Tm8Bel3HIa8Rb6I7jbT6HPN5z+36DUmsR/5Z39Lwb7LeH6g6VF+fN0x/Kv1Tosn4c2xHPtF8g5plZ3XxVdKw5yxi269J25H7K0vbaBs2W1SsAhmPbv3VGBKXnbqSruOUd9bFXLLfKF728ahZVfZsTlLNbXutTSBzipNx8Ad9SIzBrknduNqH+tnNgalYIsseqkE6jWj+luFt781XF8m/xqb9HFK3Xb1Co9XLdkKfSqPS2EfRO/8A/wAp9VViSwHjbS9GMSGRT1FW9tb60jWc4c5stqnsY4pWsxqE9eTclu+omVH2bEkFmy691I6C8V/dlqXsRzN1jesmdWc6OP3e+rXC5jdh3gVGxVvk55vOf2lUXPupWKltixQEeNXtmQ31HA82Ik2cQtfM3dzwoXfKLmw8K/pXqJ8jbWMx/jzIpY+oVft7Fsn/ABU+54zcac2MfJCtr5j9HhpNqiP+jkI4NQ6mJwz9pSPwI4GpNMNiGFs37j/vj+/yonyPkiLBT4mk7YU9Zb944c2YJffqdwqRFdfUwvzKpY+6lYr/AOWbhUCgvtYmj3+vnwTOsiuhUXRspynjrU75Y1jTOxtv0phce/n5MxTwKRvfK1rnmV1TK27rVNh45SBuBdc3yulRfnzdMfyr9U6LJ+HNsRz7RfIOaFWRjfiwp3zF8wLWHC1EyJDc9vq2zXqZ3KRhs2a62tUOzlXZHJbL2RxvWGHVzHTLfU376mwdkV9dpszr6rXog7MRSg7RuB0tSlC7OezlOtT59iyto4ItesMcjxFrdaN/zqN83RbgiKNeOaohs8Smbg532qNRJMpPbRdb+uh29qASl+IPCosOsUmRct2Gtgb1OzvK+bPlzb7CsSjtD1vtDT1U9lVpGvcrplua3RbOMEyEnfYVs0vPmCMgtvsb1sLsr3ZXa+utSdWIRSg7Rz2TpasGY5plv6KG5qFrvd7ZdQb+usFd53B3A8K6Jlvm437qn66WN9B8nPN5z+0uyfy1/jE+8X7q6I88qjsRurD7stJITGpwn+hWzbs2bhWKnB2iegzW1FMLri8SuuH0sMuuutYjFKky4/C7KJkP+Ubnm26f+5XK07RpMw0jVbX/ABrlOcQttVs8cjmwy+FbB/wpsdiQQwvpesOm339SJr9Y+6tsLCfB5cGy34NesUQVmj7UZfiKdyY8fOl5IiwsFVb1i58ky8pYXYi3DZG5+ViOVcBhmkhfJII58QqPlbgbHfX+0pK/2lJX+0pKaLZHpeLadct+41Y5kt2vV3Go4xIkvHJ9mTub5PSYv/yrHYZ+lxJu7F9e7vqBjkgwuFz4aNlHZd71JPCJGUWGbvp8Aj5MQLJhhbNca1thYT4PLg2W/Br1LEj2/mF66f8ACsVPHhYCw6qu43n7qnkj6XhpF0jD8IqZM494vXJvL5Wde+Cc9c/3rk6TD4bBDXr360rW99csRr8+2ojRQL28a5UkEWaVbSRyMcot4VyVZXeJc0kkn37qweJneWTsmUxXJPhmq7bDDYXBbTBkcA7ZvyqVodqhXL1vUa6Fh/IPldKi/Pm6Y/lX6o0DKPWeYQJf7ufaL5Bz+vniQIYVQOmndUJu0r9Uu1rbvop+ziYtWTwpxZM8YQL6zR+nzzec/tK6FfvrE4h5nQYdWfM/czVyirDFYmU/OPmFNe+HeBS+pv265PKNDOv2k/KsSVKSRxLFssmo3DvrASo8ESwKjDJ3sBrzcmyKzoykl7Nm0NYWTaYbER9tG+FYK/Ro1jWKMeJAGrVJGUv3XFM7MUTDjaXff1mFcoq4xWIc3kkLjU0hGSAwLtOqft2rkso0E4FxdBxHdTTrNHiI4li2ZXcLAbq5OlD4eNYFQ++w+Us8OIjmiylkkgcOjANcHUca/psH/wBGv6bB/wDRpdSxw+CFgP8A6VCPLEmJgw8Rdr9sbNFNu6iLqOECN/rJfHuWnOaSRtWdu8n5PKMoeZWgEh07swrEjK+Jm4DuUDdWPleSeCWFZG+c32a1KLrOo1DXvU2E6JFGkSxmJLZb5rXJpCMkBgXadU/btUUSR378otWFxG1O0UtmHuokMki9qN19IVgHVsPhhGqXy7hIbdasmUVyhPI8mQFRlfhRHzebM4Xjc63NclxR7HGQi3XUa6HgawYthlWMRxp42HGpkyy3QSRyeJU8a5VZmxJyZFJftaeNSStJsJoVlyX4JcaUY0viQACXX0rbqgXJtcuW6KeoLeA+V0qL8+bpj+VadbXU2I9RrCZ9n/pLKXysVtv1NYuHaAzyZnhZeHvpNCwUlbjhfdUro7NkuNmddO81IcsbujI1136b6ki0kym728N9NuOuX3ndTGw+yf8Ae3U/ZQdZj7hUQu4AOYf7u+jKqYcCIm3DrEDTWj6A6zfcKjF3N+z66z5Oyf8A5amFwqgu1u+wpHyMbW1telFz7q7suTzUp0RdFuOJbvpdVhXcD4nj8jaL5B+os83nP7fwybSXDbtuo9G9FbhCtlw1t7SfvDgKY5pJG7UjHifr/Sovz5umP5VoDUnhUm0MLvwJc9Zaw2FfpOIUcOAXxpjfoc0fXNz9mr3cAdnQVcKhI3sD6NAooHG4bUUXQ6dw30Hie66dS41rYD/TZV2ihCeArEE7I2y7XxAqTGNkW2pu/CpEYwyP2bG1qIe7EWQ610guitr1b6EUsKAiZOowPc1LP+miXKJD3+Pr5iO0uhpTqM3WTx8ac5doe0l/xFHd7+faL5B+os83nP8AACQ3cgWzHvP6g6VF+fN0x/ItMLFWFwa9inwp+1s0C5rd9qXsnZrp6q+y4DD+9J2VZAQPUKve2xTf30vZGyWwv3UosLxKbDu3VH2AUBy+ruoCwfKM1vXR/wBZlGb767nUN+NEW2eUZfuq1s0caqbe6ja5dAd27fQ3BRYc/RnP9ubYIPuFufaL5B+os83nP8IOlRfnzdMfyr9U6LJ+HNsRz7RfIP1Fnm85/gLx+dX417ZPjXtk+Nbrowb8PrHSo/z5umP5V+qdFk/Dm2K8+0XyD9RZ5vOf4Ccp8pwYSaSI2cRuesAeFHexxM9ye/t1/UT/APPX9RP/AM9cl4xIsRyZmZy8LLcshb01p949JGG9WHAj6fXmXgN5J4V/N1qfgd4I3g83Ed3N0uP8DzdMfyr9U6K/4c2xHPtF8g/UWebzn+An+PYbzfIx+Mjlikw8YZcqpbvqXXlXDYiMLCw/zFtuepow4vvsfptaAuT4CsI4dCxttQN9qe+ea3zguNDettdIuLVi77IxtexHA0dDzdLj/A83TH8q/VJYmT7xSkgg8LVCCjrxFjpz7RfIP1Fnm85/gJ/j2G83yehvXRY/w5sTvci/qpUAdxxPNisRZYrdlSbW+VE2W0mgPqPyJlKjLq2vcKwse0kDIouO4Ub51lsbW3EGpJL/AKNibd9wKgQ7BJEYBb+7+9Ypsq7Mm6Ei4vS6Gulx/gebpj+VfqrdoHsOfHxr7UbizesXrvPV8tMOvHe9jUjqUbaIPRA4mvaJ8a9onxr2ifGvaJ8a9onxr2ifGvaJ8a9onxr2ifGvaJ8a9onxr2ifGvaJ8a9onxr2ifGvaJ8a9onxr2ifGvaJ8a9onxr2ifGvaJ8a9onxr2ifGvaJ8a9onxr2ifGvaJ8a9onxr2ifGvaJ8a9onxr2sf8AzUryErcNvYkbv4Cf49hvNTgbPEqocxkHuNf0iV/SJSSKXj6KgzqDqvvrob10WP8ADmS2a3DfzjFLc92tEXB5tn1uz2veK/8Ap/8ALWU3HU3+4U2+ReJ8RQPHrL7+IqLtjePdzCUwx33ALV3TEX0UxDtGhIeoDlJX10tkTDsATfcOtWLjORohutwNQ/okkNwl6bfXS4/z5umP5V/h/wD49hvNSAZcPEQGfXhmr2sX/NXtYv8Amp3VWkMkXUBOrdrhXQ3rosf4c2O9Jx1kzdx58TOELML5fV40mt27zrzBLFS7Lc+4V7WT4UFIKh3bX3ikOUk7rnuA31vCHX7l3U/bdjcnmkfaB11yPxvUhuViS2v8oqdM6xJHcqp3F72tTzX3G9uBuBUSERB82g7hcVimyoUa5QkXF9KjGvrNdLj/AD5umP5V/h//AI9hvNUYGaSRsqr769svxr2y/GpGCKomXVjoBXQ3rosf4cyalvVTC6sNQQeaLFLnVdcvW3H5Uhuz2u33/IVLroG3HXQ+FNptEAS1xb0d1QwKk2I3Zz/2q56kqdZ2Pj3VjlIQxCxU23VB+hje1lJ/Gjq3rrpcf4Hm6Y/lX+H45ewtz/vUw1RhdTXs1r2a0pzAiMaGuiOPfQw0fl5hqA4qNcqqOAHMxLGS3WJP0OvNK2Xf1IyfStQU3i1MlxuFqmmIB8PA1ELRbQ3CA1Fr62PN0uP8DzdMfyr/AA/ex00KsNzKeBFcF6Q2nhvr+oNf1Br+oNKwfo2LnZoiw3XHGhp9302vM4sytqDV+znNqTshOra1fzmhzdLj/A83TH8q/wAW+lx/nzdMfyr+1v8A/8QALRABAQACAgECBAYDAQEBAQAAAREAITFRQRBhIHGB8DBAcJGhsVBg8cHR4cD/2gAIAQEAAT8Q/wD40Qkq7UyiqHODJXd73jmpALRX5TDtuEcYRNJjExZQNWjwYg+Vsjn+Eq4ekklCCFyqIo3S1MUBVgYc18Jr0hIDksL1X96R+TP04MqMBfDyavoP37xqO3gmHDcMDVeQEqAjT052TiXIYWvGAAjRP0wQ9woSqMweJ4uO1ie68AI4E516uHYYb7iDFV9MkHMSjgingcA7Y25oPApfQ9e/CP5cVDdiD5N7yYLeFb0DL6pRRyKYksCBQvgWYIxHFV9ziGJgsX0p5wF8gTDaKERagRxJdobNvBsAdrDBQ5VgdoOsLeFJQZ5agofWnPpZzndpQFP2uENS4FeghzqT5xcVO5JFvGHWLxR867+nxKBtlxSX9rMuUajRQl8SzJ6sVe96QMInCr5VQC5GrpfAeI+TY1vBf9hyuaprr1vg4krjSsiiVYcb9GngFo/IXAL6hCOG9KgPpJ6u+oxf2XDEXJieQ5Xf7U2eZ/uqz5hcS/kEFUxTDL/5l16LRdZT9Lzk1tkn0FmCJUFSYO9r+kL4+35YRPso/IeZig2WROUGMMLO+CQvgsMHm4wr4fGIv4cSwqaJrmJjsQNrdoMRy5lF28xaHjxRe79UkvjPyXqVI756pP6DkJcplE7BQrZdaAMYOMKvnZa5cDirnm+vDSoBSPxlV85i3Ena0A3AEjzm9Wli6k8WZj/c56qLZ2rMsee5YFLNHBS5GQ5Lwjg7EP2cOHZ3OVTQfAZbhYHlD+2YTM56tXVOtcKiRmBoCGMUdrniM5MlCtc+G4yZcV7xzeUIoa1JA/C0zvwVjkPK4Jo+HK137gT6OTZ0Dqdoc2SisGPlAo5bUwQrLgZ/dgzCKIi5N43UoipxmG2uWZdjaFKCp0LXJ7U3lbboGFDFnTyrNGwbKjM8N9FYXaTw3hcBOz36kAQxRMYKqsRKcjjAOm2w06HRmIOU0SMY83C71mjxYuc7xXj8bbNLjTMpRVQk83DLVNI8DwPKYN96bkoYjxyDgcrRB/SF843VfxhTjqeXxZwVWIp5DucKe6pazlW1i4RT1aD4g5CVZ9l7ZNerzZWykAGuGxVZKPAOK1qLKRAzPMfMXIpPKMyAq0Aj4MNIcghh2hXP5eDYl9PK9DfYe2fwn9YB21+xj4l8q1MspF7iIlHCQeXqPp4LVlSX1QDKrTOooN42xFONzqwyUCQTTmQOCeaAQ01ezm4Tf0K3kmDWCRjmX1Cq1ZAlD2oZo8JidUngJjJB1VPotk65U+b9wYtdOV1ajiMHtP8ARn3Ppn3/AKMTq30uFPjA/n/ReRHGKxSKygL/AE0lzFEuTm6zKQ/bJFMrAXwDDtbR5r0x0bP2ZuyZkZ3AvkAv1wkhNsYSYSM9iV1WZgSr+CqgYfRiKlcG6ZRMimCAZ0rZm4Vm7a3rRcEJQiUTh/R9C2TGqhtrAdfOn8YVwqSnkfWCMV0V7OB8I8I6lznBkS+qno88HA4rjFe6UpgMFn3gqzjx57It0mSdp7tgIGLB66cF2VWVzav573PAf6IMbXblnB7pwMqtH/q5i30m2TJOymAC3OvseT0bEUqQNxXGBIsMPiTllPCN2cECPDPpmnA1oWQGqmCnq/nHzgzCjIdFgXZmU8kN8NIOmGOkN9zSwTGy0P0iJgYDjEPNPIyt6iEKCpFEZRL/AMZxVj4MAISQLHIoes06KFUh+qGFubHeoWc9jA8aRkHswV3emn+QL3j7tn9cUuVCV/8ALIcmYLBr/Bg9KWwIeyM97f8AJMdbo9owbajbsKXO2HKwIhXA+kQkKgmrh5qYL8CGPu+CvehyTclIzZ0cac4JBMn0XDWJZNKXFEPIJCBaEuPlijPLg5WNEJITRgKHhgLoDJDeXBlxS64o1h7hFoABOQXeVNfJID+X6Plb1r3RXAfRPyDCf3Svq/8AtLBAaOeNwQDrhtcp8+h6ODDHvQUI41b0J7am7Y3wHFPkpjpYC6R8jyJ4TZi1GqTb8TMKvdiRDvAKzYCSPGawNdpPMyxmE46fEL29468E/U5cCJTiQ9g9kVlamKND6+1DGgHonGMHNG7avOLmPZB215O1m1VKS9hjTPi/2yqYCM9XL/clYojHcJQjLdzu5Ox8UcxqINeg4OqBA6ABwfC4MoQPCeGMbfwXj0W4lb+X/wA1GEtEGxfI64xppE4ZXwfAyDjf75fw4dupLI48pMsz92W4bAWHcVsTl7wLXF2+Dj3LBTAPiwYngZwnShJzUUUYA5FWFZuePKRkFSBXTIbwp+aoJje0sL9WhM0sbwadMg4iVDmwHBibfqaifK2Ie/LgDxgwaDgoyHBHLiVhEqQRpkIO78ffmydlZLiXk/pO8P2xNoXg7ciO8Zp0qDFEysjqP8TmqmCVUrmSza1UpnTBza7onK4z88cMtM0hsctjwFfpcqvorHYKUeMfHgnliThwgUf8Ur2EdK+jC2U+P22xvpex/YSj+qClGoQqrEN1h48or/gQNLRb+raNX2nrNj+j38sDd8aYefDHnw23Bn9JQiH5Gk9NdZrrNpj/AIP7F16UH6PR8LZoshTBxgpNUx6hhvkb4pbF4ssfsJD63+9H8hqjn/YXH2EJlGjY5/0sP+lgqXglqu2A3ghC0f8AB/YuvSg/Mx07yneU7yneU7yneU7yneU7yneU7yneU7yneU7yneU7yneU7yneU7yneU7yneU7yneU7yneU7yneU7yneU7ynf+yqCPf9H1hprsXl6+X05BON3ymQPA7Q+16/Jh9mMYj+8w1y7zmvQIL8jzlH4B3gt5yJ6fc+2N+t/vK5XAYlglFWroyrH/AP6B2w2W0RO9n+C+xdelB+Yj3gvL4AqoBh/gtGjRo0aPGhZokaNGjRo0aNGjRo0aNGjRo0aNGjwU/wCVOABXR/sigj3/AEfgnyjb92fdO3qkKs8CFY4rc5jBPYBlcJL0lDpoDGD8+asLhtwCqBn/AGDP+4Zt48pWuRwWCyrgfVjPGfe+2fzv9+qCINPI4oivxOMMo/6srX+B+xdelB+Yj8Pxx1gvRcSWRd7VhaJnkm77WDNdY7dMwtET98TNYAqeCPeEz1igoGlDETlD7kyAq52jk5DHccQch8xMT1QNUrYjQYC2MfJcQch8xM8mruMyLYnyFxE5D5k/3Fso8fflwD3TH/76XP3zkbn6hkZ0lrdE8uVz7p29WONsJJBeI5EO66MJnOMVmrlG4ZCUZAuJlTWKlLwKoZ6eZFl9kGc+cCnUYs6cobNDY2aYXi1MF4M32CZ9v7Yj6/8AvK/qb6VA9AHxU/NgsIEDOF04IDj/AN3+C+xdelB+YjePofgRxRkLLPAY8IoNEo4Dx8rY2PmyGGH3lNMdnbcT/wCshba9DDFQzyL2ongYYr4LINkVS4JqVBWMU2PONLYmi9WJc4BZIsMFBNg0W3JDnDw0kgAV84gK0JJNBompIZKgPXqtiseMRy7eoR5hD/cdSh1rkAPWnivpOM+vZOaIwOIqCNQ6pn3Tt6vrfqxBijxiPGM8iV+rnGNaHqjWqOXHIeQoVcS1xP2lhdOCen6tQ4dVY5eWIQjSCDLVR0v0ORcECSLL92zn2vti/f8A94su6il7tt9FPBHBRo0A4GtD2z732zz9P8D9i69KD8xG8fQ/AjhdUGTLy0RcLSQytwNHDAhrp8QnM8YG3m0NGgNUmeBqrDilvFMYu8cYyUYyjj16PY0ZFq5WTwna84msExqSurkmKYQBJZZRymvkIeRKBuJFQXX4YsJ4xD2d5YmzQ57uNJSsY9GEWODJVsXwf7jqUVXxAgFcNKP6Xam73MytRujEKJHexz7p29WV+hoCMwUloUAijyPo92KumEannHWMl5vBgc/AytAQZufP1+59sb9f/eH4yoGlZPWa46/trBMtvs84rvPtfbPP0/wP2Lr0oP8ADRwwAotYAbXow2p0sEU7/wB31H7qP+lLkKcLhoGJpzw8rw8rw8p0+sBL2vABgPma9pRPWsEU5ZWbyiKNYgfgfe+2L7bzly5cufc+3+C+xdelB+Wjp3j5vqJiCiJr8aHz+5px/kf0/wB31FeKKLiHkRxrdVv22FYz/vs/99n/AL7Jzwd70iTCUfF4UB+OAmgRyoo2AVVlXwBUqUKJjkc+s97k5P8AA/YuvSg/KRrvDcQBINIOKOAO2KL2nCuBA65yiddB+eq8v4sdsnYAFUQHuusNfODYnQ9nkw8C8ByvL5Hly4QQNpEgnkpL3+hmrzsyZDIZMMLCCqQA5V8YdINV0ORHZ/gPsXXpQflI9Wvz/SYnby1yetY+U3Oc9vxY4CSUFE6cb9ZWr4xXjbXl5w1sZbNWqrq+PLiWimv6p/r2P961O40GueBcDDy5E2O/QvOj8RnZgIiQHGOsIaSw8J5Px9AR3g4xc5j9Z0DnlnBdsmOVW+BNyAH4lAVYGOcSTkxBsTD1HsNeRVPQCoLsWmhpvvHMthgWH9j8JvppUkVbs3+P9i69KD8rHB/C9Dnj8eOCkUCUcbOBVJ+YW3/e9TL0BqqopiHybPwcWd4gaOxAuAE6Ry3RRhcLn177kBMVTM9LaxCbjh3QPRc6uvbTOGHUjqXhDNwk6tkAFxQchteWSlYi2xa9axSGRFkRAIOEoc2rrmADELYnMdt90y7pOtZIhy5b/LsbiJ6MXwVSInk+BrdXlkC1iBPXbtV2NHHAPmejwXqbQYYp2oB6t8IcW8eSUj+SH4T4fsHWFPMkihkuXK7loq8os7gEQJ7KRbHZ4RdgcDAZuyIi3uMNDKYx+TvYRtUDhgAA4p+eOjUYpDH1Adl4MKuPs4dIX474DCuRqAKKjNYWFVgQFwZOYsQIMKaF02RLeQ6H8P7F16SQ/lD+4ds/hehzxjx9D1jveVA5XgYpqKXqFK6uWf4BUaAFMRcxA1CALaOV9dzrP2MTuPav4S5/afeZzgU0h6Yac+/f/Majf/1BM+tX/wBCZtyvvIYeh+Qx+VN4G8rJ+cPBau/vWFhtyH01W7aJIM4x5wrtXGkwuW9BUzUFGfXcvH7Gb/2malzam45N/wDWBVUHKJP4wEgS8QN/thd7UR+6YKCpFEcTuzFBCCqOO7MLvaCP3DHkTGI4eyBm8LSkXqp/tmp1kR+rcjzxNIzc775gTUyrWouOBwoNX5DHPJ/IYrHM5wZcJlmCbOTqueEM4UMMFol8FLsHLVlgxlADDM/NtE8VTFanzBTY2CgbrdZ0Rzl7q14Vy8mrNdT9U4O3RISFILkVYsO9QyD4Z9at1HEwXwSpUoCVT3/bJHm4GevYzieTyshkYfSJ0xeeX4SnKgP2xU15eakjEX8rRlUcGuCwjRXIw4buJTNSONMpzaKgWAzFrnaMlcAha7tOWcFmsqiwuRHJPTNiexglp3HaqSY9j5kP1/eHBXjuHFAyIW6Hgkr8S+xdeuXRcua87y8empldlwQ84N+TlGZd5Z7YK5xrOTKZa5xhHlxy2b+BgqRv+y4FMePoesdghEGSrkng5xgVI1s1Eb7xqfD7JeADDYCp1PVgwwVYRmXKhuphGd96ikTcunkx+eQKk1UoFwk0mguGvEI400qcMdfMXJSHAy18nSjNSiDWSd04rMDbLZdH2WShxVQKAhOXHQcikCnsNzahL7k1YNZoBAD0T4KTzjWBCA4KPkxuEg02i4Nd8XSsGqhoEjN49gW52khKJhqG2s1Q2KBlOy5wTZCuL7SYU3nhrgyzRkEeY7hchJKlSVnm4XHQ58NzR0mIrijFg3SptptwFPvZISpwnORwtVdA8EFf0D1X3OnpljxgYprQN5VXnl87hYTAZPH8Aa7eX8/9i69IlTiyk0nlhXIKrSpwgMiHXFhDHsTEPkXqfTuYOI6Un8wYM1lJbUPYwmfYsidJ0Rw+1qMKRecADGONEjSvVMQ6zkkU02hla+ne6LsM3VKs+Ydg845IqeIir4M1i8kh9zE5sKroK784qtsI3adzIrLT+0Bziu+k1DpXjD/BS0fcYkQXM1Racb+oASXPWcBokltWHm57LO0GBnCY+sdKI8ZR633T58jnGXzklkvZlPOdiIlqtYTV+1HRCaxHxZhGqLdwx7oy4reAgxrjYnbxWIDgYT2dwB+U45FBGD8Vulkcb41qrWS8GMGqt18XFo93GIYtK+/Dhr6WHiGSna1OI0rcjfDLtjCtXnFx1RkElDAmU6yBcS8SYuQ+V7qIiYPPM7EilDh9NyUCiXILzi3ZbLvksr6hrA2E5giuvFUt44wBDyiKMvSYhQJFgAAFYAZIrgxLxEHGRRqXI8Yw0DMpuruF/QNq5rR6Q4TwPDkv2j53kMP8B9i69J6xPdqWKOfxxij7kwgyiSLAJyuU6l8hqhSETWeVgCoao1cNrCdB5KMfsWUH5Qg4he4BCAYBiguKa87e8AUS2bVvBkXAYNidQUoWpgLJ0cCqZLPXHSIUweAIpCNOB6clgPByP+LWwQYUiYwSlSyjkV5mGC8FT8ZI+f8AmGhw6HHVuwZrleQzT85C+w9rDHaZ2PWiOamH4MffhRxfJPmr8P8AAf6yAkVvm0XH9M9X2Lr0nFIR2qULMXOFVC+UAORcpibsAo3HRNWz5FNZfVuu6FTZkjHkJ0PkYGQIAIiIQbLnP1Yd8wXPeC0JBWrlSv8A/OkmMYRFxH2CYsn9W6TSFMGw6IR1QswP2BPDgFNBgqjjbUcNmcBDjL5Az/rFHBMCfYNtDgUGXqlq72qc4UYSAEAxMQpCwqONfGUYiUf3Mvyeu5YGXHj6H40fyFPbM/hf3MZu4Lk/TPV9i69KD1jXC9ery616XH0+mH4EH8L0aeMePofjR7ldiEPc9P2GG8EOQaKoeFD6Ylyh5hdg+V5fPH6M6kw3JlFUaAPLiizzC0tBhfVQquUSi/ae+pODNFFJYFGJT6+glAVVgHblVxB49Bu1ZjH1YCKFNOzCllVIB2uVTSIJ5CaTIQmzUrAdMeH0K0YwGGU3EmtX1WYQiZhTNwWODAuRKICu1fHxfYuvSg9YwqJMC92iOMLEVJMgC+INapY8HuOLhOiwi20FUAHHGimg4C6bXChb8+JtxPsW48NQFfcIEHviR46MIO0h8vBgDCxOKjnyC3C+t3QcDdNriI0x0IVJcLxfj+8ds/hehzxjx9D8aOb8ECacEyND9Un98vLAAAAEA4Dr/dtXFx+bVhpVgRqs0NiPk9VXZQkzyCFxnkVIKdjWnqFDMHGUoeaU5yyoLYLgPmPppnCegguQM5yaw+VJYPLCz0MODKagZ8RHwRasjT59Z9FjpDrgQHij8I10a1BsV8kw/hYUXADkzTbdaeg/Z5PwC1ZoiUv2cOHVyzVlzc2or3gXdyFep85QTdDB7dNJwIriE1l8l0zjUym/16JLAhqkxiHoCgNnoYJwpeQB+7i20xAwCuyOCpNygAuhcxWBvXWCr4sIu9poDteFitKCS6NknHFmPcwQ1UmS5Bw7zaNskmKSF5yTJ75bIUpU3iLqnAnBlZqMC0DAy9OpSquArF6njHbEVhmNkmBq7uAJhdypI6sDtlc2OALRKoyZRsWBqGS6V9PsXXpQekbMbeI6XkoeMDw3hUADgwarwBEz3VyZ74/CyhPGDm4bTHBH5lgPlhS6NBp93OPEk+iP9JhUutV95Ue7BuSLg7vL01i/HsGmJ5kYYEdWceTd+xMZhAS9TvDl6Pig/hZCXS5Ljx9D4I5JW4QwFepmdks6+OOsAQXrDWTULtnRm/yIsOTPwBGXo3qdz/cNQ4kim+Ek8MkuPMIITGItQfb7Y3SLYuXLwnmsvZAN5nYYOOCvMTxjth7oc6sjJGWYVnF9h/JPFthmyp33g5v5T2Ci2yPLZD86bJtlUsTUQIykomCYpVZEOGg2ha38jzmFnrUMsiCyBhO876a7jGiM3CRSopbZNYUCChZHGsMTVFtijVUTUMTnPCYWpiqS8CZpiHJQs62mkNha4tEtm013UuKLZ6np61GH8B0WTPPK5gXN5WExNu9COZuDgxxvQEFSDsX4xd4O8QR/cMgek7qg8mChl5uiYRoJ1hQBcF9fk00cGHkJJfq6nbAMLZ+io0zDVpCFnvONHCUI2Hkm1je3iuYIeTELlL8sQeHczd0e9GumVVXvCi+Oz0CUZlNAAN6sGjCa7yN8oYIvkmGL8ghwBKUCm+VHWKn6xuYSaYzZq+eSGP8Avc2qCnDkAiU+Ulmmb5PYYtYg5wEnrzqpxrjNPV8Nweyk1MOBbFrqsOFdmJ+mvTtnp9i69KD0jcZjsCCtmkuFBEQpKQ4ST3cLMGwIDyQr2G4EVi3QcQSnsuHgKVsLh8QBumYqKELEciafYcDkeXLcDkDKhsKKEkrtMXRgMNvAyYroJUuxQMxmNP8Aka2HMzZ8R7U393KaHzMOy7Kdsj4UdBTsFwY6zl2Qh7TDaT4dIWHkc8PJoLnjvjFadEQ9/njGYWB+wWYPEOA52ruZNsI4g+Y5cPoUbD4gY/dwYkqioRuEbqiHSb2Uwa71zTAARDSDwk2snuOcjy7wrSxWaGp5SYsbvlNGEyXHxE2yc/Vjeoip7l3xgsRnK7ye07y/vzTTgBreGee+eLDW9dYcshCzzoUOMhzBSHcrVmOYQDE8gdnTk/8AhHQ1sf8Aa9XCR4ZQjLAQrownbvKruLH5YMhLH54goumsCS2V8ilXTkuO9gXy4KwfQwiRoeAEw0BC8GcaOktt8hvsySqsugYm7HlMWWzpbukxxmrfVVYaVLW7g+2/bbYmbSYPz7Zaz+RCOsKOHAyFBthcEGnwLd01SbDWFJMIN6DSqqptwohmG9hbPeZOaxR+gaDC5fscfJYeew2+R/Lj6cS/Q46ca/naaY2VGrO9wTAZkIOtUeJCmHY0FCEBFAMLZmzPnzIRLh1SKlVWaFYLDFLRVszY0R2rtcmOwefoGg+OdSqhD4HR5x8p7RcnFcg8CeaYB8YHTsbsgdiMD8+ggGQTTVwlgVuXN7RSGNuqsvT3DMeC9LrIEK8K91yQQIK+F3CyhQIKlg5ZT5BDEGRC6xHekCHwZAgkqTIAWRXJWIUomKVsZiy/L3AAzs81yvMzJfxSUXCPvtqxAmJ9w6HmwpEOSNl0ZaugOzNFBXbsAtoshjvlJgijAcfi0qHgpDTKHaM4soOiXr4PsXXpQekeso0BXycFFHYqQmw4xbS/AqYXIOrnIt5WA4TPGw8AKKq9YpUaWXKUw+FcETmiqJE2nD4k3Y09QKOUNBhc17yms5s9J+DGhsJTHE6eQq+VOnD4hYKJMbF2euvE76MdG5V7Dci4b3nr+YExhFAqz5Oz4I+09y7tprzLj8u63jSVw95hU04FWrOmQeML0Zfnc09K+DP7MLEd0c3ScZq9DuIO6ThmWcdNPmg843qWRM37DCNQ095weNbyLQyWEZMn108tKPK5Om3deCTnUxyhgworP/u8BqlvAP3ZMCh4Xf0Zf5gLKSoYt5OUE+4bxH4gVOvDjEUCXhk0Q3jo6Lb2rvI5uA0612TL24LxFtniY2rfGxOEeH/a9U98lxxWGCzFBGv9V17AMhi7fSSLVcvR0E6CDEzXRFwWuHjNPVsHdWoQM8DgeptzS9/B1PQSYsBiiOyUQUjmqZhdBAO0xRu7ZUIAj4mFsmEY+KOM4xVBixTRJzfLMGhkygYdUU0JhosS1U45fJVzLnWRmAGtEUCXFoL1XGZYkWuClnaItwFqYvGiHQQAxh0xcgqegK/HM8WzVG2JDVx0EtF0obksYHInJaix4FHkoCBqPsGLVqUDY7pZuGR4odXkGOXKjY8nwheC4TJQ20dyWQjteFmB0ByaFo6EcLsN5RQqoEBb0HC5sgHBEDQ4D+phOaHMCq4tyKPuezLFw/uUYZA6JjWgjJwtEdMJOI1WqSiC8Y0MVzbCdzJW+bo0XolMRwxcGr3ThJRfYSEQDh1h9okuvYtJKQkwZ8NAEkfgfsXXpQesaUp3gLQq+AwOT5RkAxSkjKluMbXq8XEi6wcnkri5q3eiSEoTbeHgZfmAfcxHJ4DvE9hwQmOdEQdnFPTWefjCZaHGTnuLnEFoy45DqB8UevpXK95XtyvpX04WqkHtmsar5Qv7elcr6V8uVyuV85XKnD/tmovnhRkeJBnbuIti+Cu23Ju+Yc7iAsuNZv5mQo0HhSmG2Ucty4HscRrKvYAVR5mAdf2tIEt6zerp8hbKsUOJYwnlSmObUFHgd5XFi5SN4WJF+eGE6dPbeoBdqMWadYJVMQxD9HFQg4Lc8/IHQGsGZUoEzSN/I88f83AGoJu8xiSNvgxd8+XJZ2kFrl5MtNsQPiFoExdEzj+lYA/HOAdBN2roymihjzmomLfRRh0ULGiIHmIZZPe5S5OMOu9kXEEx7+sANp4w4QmrD3P8uDjLBUvTgMClMPsVHE0x7f7LHPU4o+qGez5kx4anyyB9QfcpRjaGJ11oalzWtmeEaMouIF+1uqDVkcRLKp3I7UjFhhvIw1LAb7SmOmqKT0lcf0Ii6uVxWR/9QEuSMIhnwbzCv+mAaqXQBu4veBdxyOp5amWwl9IJaZWXn0ftuPsXXpQekfnIZcQLbvjRMW0OwkSMQryBzx7pTIA6sQqHayRCF3qA4d4d6dvNOOG2KhUqNvnIUXLYfBcgHBW4VFFjWboWT8Xx+NHoQoLwLzn2jtxE6WWXfH+7ao1e3NlI27HDW+IXY/JHbgK7mV1JiJlXh9tajHPf+UnoGpmkpFHo/Vcms3Wum9uak8ksgLuDDawKiH91yHCktTSmhgUKJw0qq8GSjp8qA1gzbl9Wauyx1lHvxUHTSw4ve98sMS3ka73GuMUUL3xI1uc7cCYLxJxZvhNfBdcNNgOFjmu8lxZQN26icYNoUY08zTjOGRUy0voXR8JgvwAT4IXd/EOC/QNDm48S09sKOZqu2pFZVB1yrNamVy7UuFGrzDOqvkRlci1ZhyuLyBWdQgFWxxofh0VBFN5AYcH7lUZS6uSb3GqgFrqhgNecLNCCtOMVbI0hR0FI5NHJ+dj0hJmmew0gx4oquQ7V7u3cJ5yLzvyRxXeuChVq8KmOGhnHlXnaPVgxaQANGqN6NuS4WqusOKcesrAEGkDje5Wd7elLN4XmgTWN3vIaxGaRwDOyDuCbe+HjIUB7F6bPHhePsXXpQfBG/PDWauXUmFw+Ws1Pxnj6H40c6K2MnyB/65OMjHatzer2uKPDDZOBJ/2uH/dtTVQWwuTzOjODO3n3nNMlaq34hOwOHy5u2QQxyddU4cLHe0mHGnTgfPOSaqMTt1OsB8yAYRTl5cHCV3fFcbuAOfWEy7YBJAMHQJjp0bi1QRnEWanjLWIZUkTotc4mcKYDejIA0+k+FgVcaFILBEzAA/8AjLoLAJifPIywVIrh20JIEoukyfOpCMjB8lpjSB3zq53ZOckyjweCMjlehFgJrpTE/r//AFOZOfMgh0CbfL+GDmHISVfJRwwCFEaJ8O1A/NJYBzDEMYBAxvhsSayh2VQeRDz+S+xdelB+YjePofjRzvAgTNkNknT+79F7Y4Eqo+of941KO+pj5hZh9AIAQDoP8BJWqjY8NGKbDxqZTNnNQbRxzgMY0xcrpNvIu8P94aUolRUXN0c+3/MKlqmH1+uICCxIfODFrPZB8+VRXGDsVwbRgmFAF/I/YuvSg/MRvH0PxY4mFULEGjreCwYK84E1wxAoRP8AqCuRNiTs4yOEcRLQLTYs8ZFoLg9h9B1+i+pVAjUapgFAAFLgHwYUUmmU7NuYFgxSwSVTzTAEAPM9g83zcLpKGAcg48DE6AUnZS4HDYgYmOoTWDdwXS4V7fkvsXXpQfmI3j6H4sf7L3enUaA8+VFZ9DDQBuDyGrGbJ8QNBzvDoYtgQ/THV9i69KD8xG8fQ/Fjsj8SstQWCoWTWPn5mY7N9CH5aHHoCEc8g3rAWsCYdRPH+6aqDkcwAkGqBBnB5cVQ5Qb2Hz7s1ByoCeL2uIIAKBxUfDlx9tMrRuezR9ixxXA8vANmPLcy6RbQvw60Mb0XxVqjTTHni0GPpi6HHXQxdV1cE6o04ENLhp7CwYIPIrnI+qJkBI0nBiH3Zg6EgEG2ayon1QgmoGSdjwwaGZgWOzJpCWHWEQFKDhILc4UKOW6MlqlYeND5OcNKbbt4FuETRBCFpLpEmOm4D0QTzXeNlKOZHKmBTFSmAoqHuZNcfg1DlwWFgh3DOPxbDPCgDB+apgDz0xfVml8ZdJxZDVAV9/JjaMJEnA7hzk+NAA3oG84xLYytSqOtZRmmEtREB1z1lGVwGfbgowlDyz6WQZWUm6WTEUEhvj3YzAU2IJanWCc2GewXnHtLAjkPaZT0gD5BM08uYuvWIrkInmmnh1QuFp/AIs4QoMLA9Qq5wCD1j5Z8P2Lr0oPy0fHnGnjPC/jx/tHbn8D/AF/u2rpJvGmyNPOWM59EJ9YLMKxSaY52LecOL9Bdku/Kbjt1nofKdjK9kIbardpwysTu05a6iTeAngI1ijGeHhP1tFidaKc04N5AoiNI1fLHaoUQBgersGPZQdIeTNNxHKQfG7oNiohXNQRq8pRHANqjdupu05IYKFnjrCTA5ljhAcRCllOUBJsW1NI2oDeCO0PJQgB3w5SNwaZVQD5pHFQcDopJIpK4Q1bwOo3vFeHuSoUb82uUXxuVv5AK4DAMQUV7iNYQiXE3VRRfwrcFbM1KF1bik3b2QTVBialwG4dL5Bl8WI4GNNDXNpTPUjob04jK+jhaTUEC05WvqorsSjvKQXsPWJbbKCuIawZRxS0pw2hmq1Rv6hI64YYBO6jPw4xBYGurn7Rd8ZAgu9QVFh1oRjKv6mbHJJsK5bKgZQDbW7oxJqwQJs3RaXGpUsa6ulEfAObiLmrlW6Io4g4W4jKhc+DPRHsZY5PtObRtCobIH4vsXXpQflYzLEqqa7XNI9ZE/rc5fEGKg6h2b/GjuMylY/R7PeD4yrunUSU25cwSK9XH/o+D9G9TUzIiUnSYQCrUNXth8SUvoJ9QcKhmwP7R+Q+xdelB+UjbCsroCuI4ypXBo2r044IqCXxL4wUG7Kn9zkiSACdAaPxo7oQaC0D7H8PJgnRfwfLHlf8A8YTlbV8fH9A4P0b1XL+X+xdelB+Ujn4WXTecF7XBvBP1JXE+COApxpST9jI9543vyp8AkEHQAq/THkY5Ao+j6e3nOXBASHzfHp5MZGX7GJqAiaf4xudOZfz+EvvKhC+T5/QjVffD+kHlfAbcXH9UQcm/abFz/gPsXXpQflY4P4Xo08Y8fQ9Y4glMA3eDhzl5wQRcM6O1NVB8riw9awHJbzPOS20XRxnt8DlFvaH7RhTQFMdYFQXpZBcDwm2wv3muFMVZAfHNOjNn1ZAFRDs8GF03DV2mTpzR2WLrR2MqNpXmiUrMTIuQhnxZuYbq6+a7Au8JBS10lHI+MsTVI1cloqecbvT/AAvDCAcmPTW4KQdHIyqwk21G3mOGVNCr2ABFTFwK2IgHdLMBd8mKnwha5u8pyVXbSR85PFdgcUAMGpfIdljeCWalx3OGJqwNKMp7P+1anvjPaBXHRQGiYicQdNDJyR4T0UqlFPRoHq54Wl8zBtcoGYliC5uMTvsuj0stWPMCrjCeQsMr4aBWVEpwj6MhJGk7Pw0quc0DX9NPjJ1q204OeVlPTjae3508Z8SQuQJ95AxUaAPTgcy9Jg3U03gduI4rkkUwp40+l99IFYKwwUxh35fgmWxwj6kTWEPazU4EFM0bFR4LjVUnvAp6sGO9b3WL6E13Om9KxMsxnWCQXxv4vsXXpQflI/uHbP4Xo88Y8fQ9Y58VtgdcAwoDyMEUeK4o5ZKVTCa7wXxL9EB80rirdoGp2U4GLlsu9lBOiVYDaGjLVUTi5vHORjxG2+HJBOQhbY7MPjcmLAHoVwd6RQoUvU5MGyGSViVwBz2gpwHmmIeL3DSD2GWE1WiGxtHCYOzfN2SCC85enilOVgFwgxgJo1Xtl/8AE26op4dhi+zUCJcojhhK6Nx86s3pLkEeVxfDdJTFJP4Y/RvfeLnrJS6L5hmjt/GHWXgExSgQ2WG/lx8DMJ05DB3BChWpX/atX3Dtjw6aDRMgjVP+TGsGx0/+9ylGaRsutkzB8LawFtkgHc2ILjkOmkwZktv78WUaif5lcs8Ifdw2ufc+2BM4aFZCu82mjBOPHFtwYzPG2pkS97p4mZouxEZ5WJic83Ahr4jcLb4iwbZgwBigYoGKxRwtIPzxNOOwZDK6apSDse85zbnCYdL82nwkhPnMBQca+rCOKyuIHByGey5vnupCiTDqFjAluLg1i24MZnjbUxW7O9ZxjyGsTDTEXSd4GBIvTSRcCOQIeQwuqEWo4AHKZILZqC9iCJlw2Ac3MZA/Mn7/ABrg9VG/qAryZP2GlHUSMul2V4Lyr2mEUUIz5wjCn38V/YuvTOR8Yw8mKaw8Yw9GM7znLPHp8sJ59I6cpwGb84OtZby+iuau9UYGIpAq6A5XrHtKg8ihjkx9Y4jgPkpn/VZXkUexypFQG7VxCV4Ik2KazXV7DkgC5/1nFXKfNXKNAHQsyPBHsuUbKeymWrXzrcU0tOlXPBq6rMEcMPZTICHgAAbbGYsAdRYnIqYpVoqxQyvaOKuU+auf9ZypsUexyrlvmrne583BHDD2UwRsQ9imf9xxV5T5t/2rUOkUXUJcQATh8qByOKRnTIY5dXB9xpgvUeFO0nLOUw5yhAForc8fbjpwJxAPaYG/X36xZqHoj/8AUxNu0A8h6GSC+q3aLjOVbStYzCRJ+jSYBUWjxQEYnNHxih3UXGNgFASZBwSrU7AkRX4gCvIH0MxMCPrKlDQVN2wquXxdkhNx3gXEObZsye4jbZ85kw2/rHB8Ldcs84iQJc17+oK8kAMVxqnOhZYAl4EDgIOCEX0kAwI+8AqLR4oCMEPHUJpVl7gcbRoszQ8bpxrvCYwZuSSAYcCyVWvRqH7YhvpPjRdyG4W9qtFNg1zNIGRRzezLdOUZFOfPTj3jWrHQU4K3UBDLuSjNc1UOTpElH8RFeQwK6hAKBAdZ8X2Lr07Z20vDdd5DY41L5LQwLxDNlnYoaSuwuG9RPl3ASnLT2lhNFEQxDQ2cUQMM14QU78k4Gg02P0Iw5fAlLWwDkV4zxFsH5Oy4MGk58+MC+H/9xPNe2EWSgMXzuZkFFH/C5MuAbOjvvj92Fu+b2EKhgyJQQJRs6cXaJ80BXGzx8L+gw3RW500rTh2BR6l8l4YAJA0H6SR9TvR6IkfYSaJHJnGVSoLzWZugvv8Amm/o8H5/7F16dM7NpeRAHlwFZ0Gl5s5BxZ5FB0IO4GAHrCWiKr5Y4osRtYTRk/LPshdjAJLpE1F0znHDIUgsbcLMMwgNU8YkFMOQtXBcuE2jOw0Y6AjauhpODBfHBr4RSHDMUhz3TsQdRMRESQUJBnCs6AlDdp8kwfpERDB28jjBxVETBNNk5/Jw4Kw6KuqGDHtmjnlBXAyQBRsTg+jx9D9I4+qSF912Ibfd/wAB9i69M5zNTBAOkdJjCZSBWAauqEC84MaQEEnAprPNpNkfLDjAr/8AaEM1VB45pNJzMpxOr+VE1ZhAIOvjgXQwJfw+PtTAShFpuhFDAdXMLvnNwmM4G/sHGfahsB8MSYfEHtW5KBmAGUMacSjcwdawQvkGvRwjpwD6YbaMZjPlsXll+oqPq+xdelB+Vjg/hejTxjx9D9J4+pAKgAr7YiIGBNHpMKN5hRvMEbux0elbv8hNr+AAAAHb7Z6UH5SP7h2z+F6GPGPH0P0nj6oe/mTnJJxKb8JvMThzI5kVpyKM2LgPs5w6DnF8j+P/ACfQx6MAumAe7nlfSNMfRbODhB2JmzcPZzdvWk5+BZQflIx9r5Z/Cx5sL+lEfV966YcHqmdBUq1RinFmHd9yHIA5gEQfxv5eEc0kcAVc0uEyOjPZyGRQBtvoamk4mTaMYREQjIFcCj1MyDNDw85FF9oOOy9bKD8pGX/7HRifBXRSkchNB2olPzMvDj+k8fV966YcHwtkXf8AV9ErNptmxvDsmogZtBx9uXPNDRgVVKJbTCV4fRbg+gN7LwW3hwUSFEaTscc4ZfsWYv5YDcY1rwUeVJjpSAqiIC23zjP1xNMYHRHDZcI+OBYvisKyFWPArnRyZTT1iyg/KRubn8EfdQUwcQeZ90oUwj5oYb9MF4ohDquciSoYNYKZ7rP7rP7rP7rP7rP7rP7rP7rP7rP7rP7rP7rP7rP7rP7rP7rP7rP7rP7rP7rP7rP7rP7rP7rP7rP7rP7rP7rP7rP7rP7rP7nP7PB4qsUHFSfoJ966YQk4EAqamnqgBzex+ap1kTJkXf8AV9CHoZVT5PpxMFsS/wDGhwCRQbETSegsLBNWvffRCavafR43Kl/U0lBbIFb5bPsX+XDwKFW18rBoeLhTMs4+q/sVxmTLvax/kCmedU6yYaMw0lqBrdGzyuDwzTKAu5bHkTL01lxJQArNbxHnnMCfba9KD8tHoxPbIHjXpvN5vN5vN5vN5vN5vN5vN5vN5vN5vN5vN5vN5vN5vN5vN5vK5Dbnj9BPvXTHjzMagRIND6oUKd6pwYQLgwzhOMi7/q4424EarVTo1nWecb+nWxZb4wcdFcytela899eYxj5MK+wMorhhmTPMOgBGlww6NCjzrYM05NwDxgv3xD+PVLsA4HFGFS4MbTt5cZ5dTabBUkhkMUAuQKKojhHGvbLrq9qYJIyp0AotDFfBVeEpP23iv32vSg/T+P710xPMhxlAq0VZ63rybuk1oDtcVTGRd/1fS83DuAaL9Lhefs+CI54XA3sNsgGjhwRdGanpxnyMqTn6HjS2YkzYZw+dxNdO+oDoo/MY0idwqhABp0YNWCg7S6u2Xnzg6BSBahYhTgj8D8Q2/J5MUmkbwgdGxZvEQ7Ptbn049bKD9P44+NnYGDwOCiWlHTsx8GU+DKPQ8bQaIzkcmwIbCswFkRzyaeiDY2CPY4GanCEgGTzhCtZnkHf4P8vAyiCJESidYc7TCUdjurlkKILlDUb3dYShaAFAlhSOOmCR9EJz74s3fScA+mKqry+tlB+n8d5eFTvpe17Ez25/YPgL8EMMMJI5oNV5kVYgAQDgHohMMLm38H+T6IZeEA+Tnz0M8NMoagCamcZX2dn85wCyD+34LKD9U4yayHWQ6yHWQ6yHWQ6yHWfaOvSg/wBtj//EAEERAAEDAgMEBAsFCAMBAQAAAAECAxEABAUSIQYTMXM1QVGxFBYgIjA0U2BhktEQFTJSVCNAQlBxgZHBM4KhQ6D/2gAIAQIBAT8A/wD1cbP4bY3diXHmQtW8Ik1iTSGb65bQnKlLhAHZ7tWOHPX5WGykBMTPxrxcu/at1eWT1k5kXB+I4fuWy3Rp5yqxfpO75h91PBUiyFwpyCpZShEcY4kmrZpD77ba15ApUTE6mnmiy642TJQoj/Bj7Le3euXA22mVmYHCYp1l1lZQ4hSVDqIitmuNz/1+y8w9NySSdDxFPt7p5xvqSoj/AB+47LdGnnKrF+k7vmH0my7Tbt86FoSsbo8RPWK8DtP07XyCvA7T9O18grwO0/TtfIKViODpcKPBDpJndCIBgmls2CG1LLDUBObRAOlWycPu2EOtsNZVcJQBXgtl7Br5RTyMPYLQVbo/aLCEwgHU14JZ+wa+UV4LZewa+UV4JZ/p2vkFeB2n6dr5BXgdp+na+QV4Hafp2vkFeB2n6dr5BXgdp+na+QVtOww1YNlDSEnejgAOo/ze4y/ddnknLnXmnjm0/wDKtc3hLGXjvExPbNYnu/D7nJMbwzPbOtYZftW1vkVeLaOYmA2FVeOnEn7dDN2XFCdVpDYTVxfWzVou3ee8MdiEqgQg/BVbM8bn/rT128l5wC4IAUdN42I1+IrDHnHi7mdzxH8SVR8oq+9duOar9x2W6NPOVWL9J3fMPpNlPX3uQe8eQ7bXKsYbeDP7ENFvNI69Zim8KxBt4KyjMkuFTmfVwKGiascIxFgPJUyApxrKlzMJQa+5r4W+Xca50EjeD+HiaTht8nIBagBF1vU+eNEdlDCr5V+86GEt5s4SvPOWQdf619y3wtlo3MrJT/8AQQSDqqrVhFuwhtCMqR1TMT5W1XRzXNHcf5v4UDZeDqbkheZC54TxEVbPJYfbcU3nCVTExqKedLzrjiuK1FR/uZ8jZjjc/wDWlWCFOFe+d/FMZtKCQngmr71255qv3HZbo085VYv0nd8w+k2U9fe5B7x5cmfRbVdHNc0dx/nrFy/bElp1SCeMV964h+pXX3piH6ldElSiSZJ/cdlujTzlVi/Sd3zD6LZzDGLxTrr6cyGyAE9U1iGMXAfdat0oZaQopGVIkxWyqirEX1EyS0Sf8jyjMGONBSgkifOmkTAnj6Haro5rmjuPujst0aecqsX6Tu+YfRbJerXPMq79af5iu+tlPX3uQe8fYzi9q+4hCQ5CyQlZTCTHGDTNww+3vG15k6if6GKzpHFQrOj8wrOn8wqUZuImm75hy5dt0k520gnTSDV3iTNmWkqQtZdMDIJ17KtL9i9StSMyShWVYUIINZ0/mFZk9tZ0/mFZ08cwrMnhP2bVdHNc0dx90dlujTzlVi1i0X7h83MFTqwAU/xJ1iaNjeAplhYzcPNOtJsrtZUEsLJSYPmnQ0LW4VnhpZyaK04GnMOdbbYOqnHUylsJJMUmyu1qWkMLKk8RlOk0LK7UnMGFlPblNG1uQ4G9yvORMQZihZ3ZCyGFkJ0VodCK8EucqVbheVXAwdawRP3TYPOXZ3edUhJ4xFPL3jq1/mUT/k1sp6+9yD3ilapIq3wW5S+2rdpagneELlKx2ZaRhF6m2ZbLLRDbuZSM3/KPjTtk5bvWLLiEOuqS55hOgCuAmntnrzK1kKFK3Yzk/nTwiacwK5QlAQ2hyWSCCYCHFGcwpGC3CnrgrSJLACHM2ucCJpGEXyUvAW6UBbCW9F8VA6n+9DB8R3LLamklIfzmFBJAiKOD34tjbhCClD+eZALqfjS8Fu5bi2CglpadVzBPDj2U3hGIgOISgNZ7cIJC+KgZkx219xvutXMtoaJyFpsGQFJ+tP4G/wCDWwQApQKlPIBCQpSvpVnhDqL9tx5gFCGkgKzycyfs2q6Oa5o7j7o7LdGnnKrGrplTj9uELzIuFKmRGtHE2i+hZaWUJY3cFXWBE0vFWHA/+yWC5u5hQ0yUcXazPncEhxZVlJBEkR2V95tJKIaVHgxZXqJjtFKxVKkPJDa0ywhpJCtQEGZNMYm003bJLayWkODjxz0nFm0FsBpcC33KtRMTMinMRSti4bhzM4tJzFX5REGhjzzTIQwClfmyswdEiI4VaMW+0Fm6482EXCDGdNLSW1qSeIJFbKevvcg948iB9pIM/CaBB9DtV0c1zR3H3R2W6NPOVWL9J3fMNNoLjiUAwVEDXhrTti+25kA3ihxyAmKNpcJIG5XJTm4Hh21uHiQN0uSJGh1FG1uAE/slecnMNJ0mJo274iWl8J/CeHkbJerXPMq79af5iu+tlPX3uQe8eXkKSYEg6UhIQPj6Haro5rmjuPujst0aecqsX6Tu+Yat537UFIOYRm4T8aceumXVLDTalecFQFGBMEmaS5eFK4Y03MTBHmTRub5ScpY0CPyngY+lB6+ZGjUhEJnKYkGRRur5JWstRCA2rzTAAGk0ohRkAD4fbskR4PdDrCxV4CLu45qu+tlPX3uQe8VMCmL24umw822ndlcATrlBiaGI2iiQHJInqOuXjHbQxG0InPpu8/A/hpWKWoZdcSVK3aAoiCDBpd+8Li3EJS06kkFQgggTBprEm0obFwtCVrAMCYAJgE0b+2BWAuSJ4CdU03iTCmGnVSnecBEk0cSs8zaQ5JWJTAJkGkYi1unXF6BDhRoCTpX3nZZG1lyErBI06hTd9bOPFlKpWPgY8jaro5rmjuPujst0aecqsX6Tu+YabQpxxCUiVKIA/qaduL5tboIkqSM2UERGk0Hrte9Xux/xedIIlMgSKcu71aHUqZ0P4vNIiTNLxG4QSCyhCs4XwMyP6ml3zjgKVoCkqWFHU9QiOPkYfiL+GvFbXXooHgausRwy9WVu2K0OHiptcTWy2U4i/lBCd0YnjEj7G7AMgoQ6tLU5sg6uuP6U3hTLakHOopbzZU9Qz0nCMogXC43Jb1A0SaGFCHAp4kLZDZ0A0FPYem4t2mluKJbIOfgdKew5pb4dCilRSAYAMgf1pqwQ2V5XDkUVKy6RKqThaUoYAeXmZkJOmgNMYai3eaWhw5W0FMHrmlYUpTTrfhJyuO7w6cZ6qOFIJbUXTnSCmYGqTVvZ+DvPOZ53kaQNMvkbVdHNc0dx90dlujTzlVi/Sd3zDSFFtaVATBnWl4g+4nKqCIA65EfGfjX3m9EBtE5YBg6ag/6peIPLCpA85SVcT/DVw+u4czqAB0Gnl7Kevvcg948sLKlERwmkKK50iPQ7VdHNc0dx90dlujTzlVi/Sd3zD6TZT197kHvHlXV21ZoC3JylQGgnU0vErTeOJOdJbjOcphM0vE7ZpxTWVZKUhXmpnzTSFBxKVJMgiR/Q+g2q6Oa5o7j7o7LdGnnKrF+k7vmH0mynr73IPePKxVl9+3ShpGZWdJ4xoDS7W9U5iEMQLhKUglQgQImmcMdF82paTu0MoSFhXEorhoPQbVdHNc0dx/mVuGi6N7+DWtzZKWkB2E5lSfh1Uli0BbJdntE04xZiVB6dFGB/4KLeHhv8cqy8Z69dYoMWvnw9wEies04xYhZKXtPPMD4cBrTabTI2FpTOdQUQozApLOHySVDXKYzRHaKy2LmTUNymTEmCNI1pDVnJBe4oBn4yK3NmkiHpmePAebRYswP+bXdgxx87sp9LaHFJbVmSOvt8ltDKmDKkpWF8STOWKTZ2xQpwO5kpI763VoEKO9leUwJgSCKS3Zh8SsKRnVPUIo21k65Db0ZlpAHwMSdaXa2iHMinSmCfjoB/uk29nknf6wTHDWixZFSv2/WrhoIExTDVmlbwcWlSZG7JJ/1SPu8JTnQkkaKAUeziNafDYeWGyCgHSOsfbst0aecqsX6Tu+YfRpsrtYlNs6R8EmtlQU4g+CIIaMj+48vOCqJ7aQoK0HV6Haro5rmjuPuLJjjp5Gp9Bst0aecqsX6Tu+YfRbLWbLpefWkKUggInqrE8UvLi6eTvVJQlZASDAgGtlCTiD3JPeKkDjUzw8lUJVIUkE0hIA09DtV0c1zR3H3R2W6NPOVWL9J3fMPotkvVrnmVd+tP8xXfWynr73IPeKxnd/dl1niMhyz20MUTb4a03ZpCnENJKyBKUToSacxq9Q0U71JG+ypeCfxJiZAOlIvLi3eS6XkLeNqTJOaCTw0o4jevt263X1ISm5AKgkREfDjSL91h693TiYXcICnI/CkjiRV66bh+zMsvPZXRJScq/wAtMYg/a2Nq1buASpe8U4NEK/LT2KXtw+2xvktzus2XzePHUwRRxHEYv1NvIcTbqgJy6weuR2U5jGJIYQd60o5j54HEATGulO4xfC4t0hUIUlvMMozHNx0NWuIPMspQ26ltCn3c7sSBGo/zS8ZxCEy8hom3LmUo6wf91Zv+EWrLunnoB04T9m1XRzXNHcfdHZbo085VYtBxS6kwN6ausM8FCpfBISCJSQFSJgGmrC7dcQgMqBVMSIGleAvlpKghRUXCjJlM6UbO7AJNu5AE/hPCgw+UBzdryHrgxTtjdNOhotKKykGAJpNpdLzBLCyU6KhJ0NFh5Le8Lagj80GKt7O6uyQwypccY4CsPcYwGydFw8kvLM7tJk04suOLWeKlE/5rZT197kHvFRNQOwVeYcxe7vOSCiYiOv4GrSzYs2EtNp0H+6gdgrKOwVA7BWVPYKfwW0uH1OrKjmUCU6axQSBwFZR2CoHZWVPYKyjsH27VdHNc0dx90dlujTzlVi0fed1PDemrrE2LglRQ4YSkISVDKCBE0cYbL7Lm4JKVKJMgE5hEaUxiNuw20gNufs7jejUHqiKbxZlBa/ZuHIt08RrvKGIsJtFMBlclvJMjqMg0rE2lOur3KwHWsi/O1HxFLxRK27kBK0lxLYSQeGTtp3EEOWYYLZKglIzGNMvZFNPvMGWnFIPwJFYSE41YOou0ha0HKFx51OoLbq0flUR/itlPX3uQe8fuO1XRzXNHcfdHZbo085VYv0nd8w+i2S9WueZV360/zFd9bKevvcg94/cdqujmuaO4+51rYt7lSnGVKXPCYgU9aLQ44EjzQTE8SB9my3Rp5yqxfpO75h9FsktJZuUTrmBq+Qpu8uUqEEOK762U9fe5B7x+47VdHNc0dx9x74JatLFCUJGZrOox5xJNYQELvEtrQlSXEqBBE9VHQxTGGB9pC/DLdGb+FS4IoWtnb3BauX8ySjRxo5gDV1hbrLJfbcQ8x+dB4f1FWNuH3TKoSgSTTYUl1X7RS4SCOHX1U4VFbilIWkEmRmAmKfLRIyf3gQK2W6NPOVWL9J3fMPorW7uLJ3eMuZVd4p7GlXXrFmw4r80EGrLEnsPuHHmUIlQIgyQATNeNeI+zY+U/WvGvEfZsfKfrXjXiPs2PlP1rxrxH2bHyn61414j7Nj5T9a8a8R9mx8p+teNeI+zY+U/WvGvEfZsfKfrXjXiPs2PlP1rxrxH2bHyn61414j7Nj5T9a8a8R9mx8p+teNeI+zY+U/WvGvEfZsfKfrXjXiPs2PlP1rxrxH2bHyn61f43d4iyGnUthIUD5oMyPcfE87jVi+oSVswVdpBisHRnv2jlkJlR+ECnFqccUtZlSjJPxNM4tdMNJbSlqE6CUAmk3zTr5eumA6QiEpT5iZ+MVdYnc3SN1o2z1NoEJqzeUw8IAIVoQeGtL3hW0geanLrl6op3VxwlLgSVHQkCYp8tEjJ/eNBWy3Rp5yqxfpO75h95CtwoCSo5RrE6TSXFonKoiRBgxI8q1xENtZXFLzTxGunZTty4444oGAo8Ps2W6NPOVWL9J3fMPvdst0aecqsX6Tu+Yf5v/8QAOxEAAQMBBAUJBwUAAgMAAAAAAQIDEQAEEiExBTRBUXITFCIwM1JggpEQFSAyU2FxQEJQgaEjkqCisf/aAAgBAwEBPwD/AMrjSFpfafuoWQIFWValsNqUZJT4atNqRZQkqBM7q97M/TXVntCLQm8nD7H9FpTWfKKsWqtcPhTlSX+TCchJNOrKG1KCZI2ZUhQWhKthAPsW4htJUowBSVoWJSZH2rS+TP8AdTVntSmgABlTa77aVbwD+h0prPlFWLVWuHrNKqUllBBjp1yrv1FeprlXfqK9TXKu/UV6mhZrWUg8p/7bTSVPqWE31ScM6d5w0soUtUj71yj3fV6mkc4cvEOK6KZzrlHu+r1Nco931eprlXfqK9TXKu/UV6muVd+or1Ncq79RXqa5V36ivU1yrv1FeprRi1qtBClqPQP8u3POnZzgR+Kdjk1zldNWW9zdue6PSrUwpxyQyF4ZlRFMo5s24VtXRhgCVTTTLq3g4hHIo2jaqtMZM/3TbLZQklqZSP2Kq1ISi7dRdmf2kf8A2rNq7XAP0OlNZ8oqxaq1w9ZpbsEcfwJdbFjKCvp35yNG12cpicDdgR8sZmn7ZZnCghRISZIjA1z1i/N/C6f276NqYIP/ACYlq6cMzXO2AwhJWVREiM4rn1n5QG9gJ/bsNOrU4sqJk7/i0VrJ4D/L8kQ9ygVmIIp1BW2pIVBO2JpCQhCUjIAD0+DTGTX90LSoJjk0emNSTVm1drgH6HSms+UVYtVa4es0t2COP44w6rRWsngP864y06AFoCo31zKyfSTXMrJ9JNAACBl+h0prPlFWLVWuHqtJWpbIQhBgnM/arPY0FtCnCpaiJxJrSoAs6BsC/iETUCRuoxPU6K1k8B8I6U1nyirFqrXD1Wlu1b/FNdkjhFaW7BHH7F2R1CVExIiROImltONquqEGoO6rqt1XVbqhUfalMOIbS4flVgKasy3goggXcTJjCnWFslIP7hIjGauq3VCquq3VCt1Qd3s0VrJ4D4R0prPlFWN9YbQ3ycwkGZ2Gg+yZhYw+9F5oAErAn70XWxHTGOWNJtKFKWMkpwJJ20XmhBKxByxovMgwXEz+a5Vu7eviN81yzUgX045Y1yrUkX0yPvVtPO7ShLXSgRhlSBdQkbhWluwRx0MxS7a0UKF4q7siCDSrYyVrVfWCpMAx8tIeQ428tJKUgpxjExmaRpBmVXgQJwjcaTb2iTKimFg5TKRsNKtrQQ2EnALJKY2E0bYwSg3ybqycRsNG2We+pQUZKIymueWcu8pJBKIy+U0Lazj0yCVg4DYKVbLOSkklULnLIGufNpU30irO+cjBpFubvukgjIIOcAU/a0qYKUKIJJwiMD7NFayeA+EdKaz5RVhaWEJcJEFAEfihZl3CLwBK70xSbKtJR0kkJvbO9Qsa4R04KQBI+xrmyyFSoTyt8YULKQUG8kwsqOG/YKXZVqU4byekUnLu0bIo3pUPnvDCk2cpWhXRhKSIjfXMELXK8Rjh+adW5o95CUKls4waSQpII21pbsEcfxiR1WitZPAfCOlNZ8oqxaq1w0o3Uk7qQ+hSb3yj70HWzPTGcZ7avox6Qw+9B1sk9IYGK5RHeHr8Glu1b/FNdkjhFaW7BHH8czGMRRMnqdFayeA+EdKaz5RVi1Vrhpz5FTOWzOkobWgC8QMImKKWQR08b857aDbAM38Sd4zq4wvNWKpMTQaZgJvbSRiJoCBnPt0sDyrR+1MkFpHCK0t2COP2OMtNqKFKVeCZ+01zZ4AdHdtymubPA/Ltu57aFldvoSRF4xnSbOgtuGSVoUMBlBpdmUVKLYJSMMd4oWd2AbuBjbvpVldDi0CDdzM4VzV6FG78uBxpVmVfSlOZQDjAzrmr95Qu4jDPbRs7qW75HR/PwaK1k8B8I6U1nyirFqrXDSiEpJOQpLbKkpOwHCfvVxoXU3v3YfmgyyCkhWWWI2UmztkYLJEEbMjQYSkggwQCPX4LRZm7Si6rZkd1NWa0si6l8FOwFNaV1dE53x7FWgrN4pBXETSrWtQV0QCqJO+7Rtk5tj5wrPbXOzKYQAQsqzOZpFpLbi1hIxERspFpUlu4RImR+TSrQVRKReAAn7CjaiSs3BC4kfcUu1FxCwU4qIM/ihawFoVyYlKIGNc7ULwCBdJmJ2049yiEJuxdn/fg0VrJ4D4R0prPlFWLVWuGiJBG+gwhJkZ1zVHeOc0LOgEfYEetIQG0wMvj0t2COP44gAzREdTorWTwHwjpTWfKKsWqtcPWaW7BHH8TTKnjCYnPExQszsJIghWQnOKFmdUkLkAExiYxogpUQcx1GitZPAfCOlNZ8oqxaq1w9ZpbsEcfxWRxDbhUtUC6R60l1gJs/T7NRJgZzS7UksKAIvKWokRsPU6K1k8B/kl3rpu50FvAGU44UVuwrofikuO4SjdV58mbu3Kr7mHQzz+1JW9AlGOFKLsqIJiBAiiu0QITv2Z1LyZ/dBoqe2I2/wCVfex6G6gt3uYT/lIKikFQg/CpSw5gCRd/qaLzshN2CZq87eHRwkelFTxRgmDA/M0FvJTKkzAPrSXXSCQmcqLjs/JhIq+9h0Ngpa3SElIIO3Cjy8mCY2YCmybib2ft0prPlFWLVWuHqy+yDBcSD+a0rBs6N1/44IFEEdTorWTwHwjpTWfKKsWqtcPVaUfWi42kwDias1lZbaQbgKiMSa0t2COP40yRimlEzj1OitZPAfCOlNZ8oqxaq1w9VpbtW/xTXZI4RWluwRx1Yr3OW43/AOUbKXLStTpgEmN6opFhZUoG6QbklE5GlMtOIKLhCOVGQjCubMoLgSiSWsBONKYQ4hq8k4NGETmaYQlDbo6aEXk7cRTlnbdfcU4mYiANo30iysNoUu5ei9njlXNrMSwFJKSsTM7d1JsVmKzKSMBhSLEwULOZClbcMKdsza1lSklRCEwiYoWOz4wkqF+JnZTyOTdWjcr2aK1k8B8I6U1nyirHqrXDTVp5WIRgZ2yRSn2kpJKxhXLIvESIAmZwrlmie0T61yiJi8J3Ul9pSSoKEUXWhErAnLGr6Cq6FCd1OPNsiVrAq0JXb30FtJuARJwFJF1IG6tLdgjj9kmmLS4xejbTrzjyytWZqTUmpNSabtrzbYQIwyqTUmpNSak+3RWsngPhHSms+UVY9Va4aZszjQAlO2SMyJmKFjVcUm/nEbhBpyzOLKzeT0kXaVZXCF4p6QSP+tc2cLoWVjAzEULKsIQm+OgqRhSbKUrbMghN4nDvUizlLxWFQJJjfNLQhYhSQR96tc2K0ILRgETGykG8kHfWluwRx/odFayeA+EdKaz5RVi1Vrh6rS3at/imuyRwitLdgjj/AEOitZPAfB1rt7nLJS06lKIziZNMWtC22yo9IgTGIBPs0prPlFWLVWuHqtLJN9pWyIpghTLZGV0VpbsEcf6HRWsngPgdklTrxJJhUDdVrkNFQJBTBwoZU5ariynkXDG0DCi6842FNogg5KwJFNWpK13FJKF7jVutBs7QATeUswBSylTSeghMqIVhupoANtpS4hRCQAbpMTTIdCTf/qTJrSms+UVYtVa4eqdZbeTdWJFIsQa7N5aRunCn7Mi0NpQsnDHCvdNn7y6902fvLr3TZ+8uvdNn7y6902fvLr3TZ+8uvdNn7y6902fvLr3TZ+8uvdNn7y6902fvLr3TZ+8uvdNn7y6902fvLr3TZ+8uvdNn7y6s9hasy76SomIx8D2aErfQMgvAfkVbDds6xME4etJSEpAAgCl2RtxRUSuTuJosLSgIaXdxxJxNNWZtpV75l944mrawl5kySCnEEZyKRyd1xaukqcJ2zTODbQCmypIAkAmJpgOgG/8A1OJrSms+UVYtVa4fEl1MzGO+ikGJEx8Vr0aXHQptKLsZGRjTNmbbbbSoSUACfZpTWfKKsWqtcPi7Sms+UVYtVa4f5f8A/9lbWw==)"
      ],
      "metadata": {
        "id": "cbjlq_jpybSf"
      }
    },
    {
      "cell_type": "markdown",
      "source": [
        "### **Regression Logistique**"
      ],
      "metadata": {
        "id": "73DTZKz-ykf1"
      }
    },
    {
      "cell_type": "markdown",
      "source": [
        "## C'est l'algorithme que nous allons utiliser pour construire notre modèle. Il s'agit d'une méthode d'analyse statistique utilisée pour prédire une sortie basée sur la reconnaissance et l'analyse de formes antérieures.\n",
        "\n",
        "## Nous aurons cinq étapes de pipeline : Tokenizer, StopWordsRemover, CountVectorizer, Inverse Document Frequency (IDF) et LogisticRegression.\n"
      ],
      "metadata": {
        "id": "o71Apm4DyvEN"
      }
    },
    {
      "cell_type": "markdown",
      "source": [
        "## **Let’s import the packages required to initialize the pipeline stages.**\n",
        "\n",
        "\n"
      ],
      "metadata": {
        "id": "RCYniywTy68W"
      }
    },
    {
      "cell_type": "code",
      "source": [
        "from pyspark.ml.feature import Tokenizer,StopWordsRemover,CountVectorizer,IDF\n"
      ],
      "metadata": {
        "id": "TgSGKdZSxvAe"
      },
      "execution_count": null,
      "outputs": []
    },
    {
      "cell_type": "markdown",
      "source": [
        "### **On va aussi importer StringIndexer.**\n",
        "\n",
        "### **StringIndexer est utilisé pour ajouter des étiquettes à notre ensemble de données. Les étiquettes sont la sortie que nous avons l'intention de prédire.**"
      ],
      "metadata": {
        "id": "CpWsUM1GzIom"
      }
    },
    {
      "cell_type": "code",
      "source": [
        "from pyspark.ml.feature import StringIndexer"
      ],
      "metadata": {
        "id": "6rs6GpuozCl-"
      },
      "execution_count": null,
      "outputs": []
    },
    {
      "cell_type": "markdown",
      "source": [
        "## Nous devons initialiser les étapes du pipeline. Comme mentionné précédemment, notre pipeline est classé en deux : les transformateurs et les estimateurs.\n",
        "\n",
        "### Dans cette section, nous initialisons les 4 étages présents dans la catégorie des transformateurs. Plus tard nous initialiserons la dernière étape trouvée dans la catégorie des estimateurs.\n",
        "\n",
        "Les étages de la catégorie des transformateurs sont les suivants :\n",
        "\n",
        "tokeniseur.\n",
        "stopwords_remover.\n",
        "vectoriser.\n",
        "idf."
      ],
      "metadata": {
        "id": "7YhK_vyEzdvh"
      }
    },
    {
      "cell_type": "code",
      "source": [
        "tokenizer = Tokenizer(inputCol='course_title',outputCol='mytokens')\n",
        "stopwords_remover = StopWordsRemover(inputCol='mytokens',outputCol='filtered_tokens')\n",
        "vectorizer = CountVectorizer(inputCol='filtered_tokens',outputCol='rawFeatures')\n",
        "idf = IDF(inputCol='rawFeatures',outputCol='vectorizedFeatures')"
      ],
      "metadata": {
        "id": "YPEOZ4eEzT6M"
      },
      "execution_count": null,
      "outputs": []
    },
    {
      "cell_type": "code",
      "source": [
        "labelEncoder = StringIndexer(inputCol='subject',outputCol='label').fit(df)\n",
        "\n"
      ],
      "metadata": {
        "id": "-Emi2eCcQktz"
      },
      "execution_count": null,
      "outputs": []
    },
    {
      "cell_type": "code",
      "source": [
        ""
      ],
      "metadata": {
        "id": "fou2iRPAXP-W"
      },
      "execution_count": null,
      "outputs": []
    },
    {
      "cell_type": "code",
      "source": [
        "labelEncoder.transform(df).show(5)\n"
      ],
      "metadata": {
        "colab": {
          "base_uri": "https://localhost:8080/"
        },
        "id": "8kC_iTZiz3s9",
        "outputId": "fe8f96c5-84c7-4148-e1f9-d374aa4ab51c"
      },
      "execution_count": null,
      "outputs": [
        {
          "output_type": "stream",
          "name": "stdout",
          "text": [
            "+--------------------+----------------+-----+\n",
            "|        course_title|         subject|label|\n",
            "+--------------------+----------------+-----+\n",
            "|Ultimate Investme...|Business Finance|  1.0|\n",
            "|Complete GST Cour...|Business Finance|  1.0|\n",
            "|Financial Modelin...|Business Finance|  1.0|\n",
            "|Beginner to Pro -...|Business Finance|  1.0|\n",
            "|How To Maximize Y...|Business Finance|  1.0|\n",
            "+--------------------+----------------+-----+\n",
            "only showing top 5 rows\n",
            "\n"
          ]
        }
      ]
    },
    {
      "cell_type": "markdown",
      "source": [
        "### On va Maintenant nemuroté toutes les étiquettes"
      ],
      "metadata": {
        "id": "SNkmr4Kzz_UG"
      }
    },
    {
      "cell_type": "code",
      "source": [
        "label_dict = {'Web Development':0.0,\n",
        " 'Business Finance':1.0,\n",
        " 'Musical Instruments':2.0,\n",
        " 'Graphic Design':3.0}"
      ],
      "metadata": {
        "id": "kC3ioWS4z649"
      },
      "execution_count": null,
      "outputs": []
    },
    {
      "cell_type": "markdown",
      "source": [
        "### Ajouter tous ces Labels a notre Dataset"
      ],
      "metadata": {
        "id": "F7fXimtd0L4F"
      }
    },
    {
      "cell_type": "code",
      "source": [
        "df = labelEncoder.transform(df)"
      ],
      "metadata": {
        "id": "lSP-_C_V0Ilt"
      },
      "execution_count": null,
      "outputs": []
    },
    {
      "cell_type": "code",
      "source": [
        "df.show()"
      ],
      "metadata": {
        "colab": {
          "base_uri": "https://localhost:8080/"
        },
        "id": "LCfjxB770RtN",
        "outputId": "093a17b0-4bb8-417a-d00f-6c7c49a757dc"
      },
      "execution_count": null,
      "outputs": [
        {
          "output_type": "stream",
          "name": "stdout",
          "text": [
            "+--------------------+----------------+-----+\n",
            "|        course_title|         subject|label|\n",
            "+--------------------+----------------+-----+\n",
            "|Ultimate Investme...|Business Finance|  1.0|\n",
            "|Complete GST Cour...|Business Finance|  1.0|\n",
            "|Financial Modelin...|Business Finance|  1.0|\n",
            "|Beginner to Pro -...|Business Finance|  1.0|\n",
            "|How To Maximize Y...|Business Finance|  1.0|\n",
            "|Trading Penny Sto...|Business Finance|  1.0|\n",
            "|Investing And Tra...|Business Finance|  1.0|\n",
            "|Trading Stock Cha...|Business Finance|  1.0|\n",
            "|Options Trading 3...|Business Finance|  1.0|\n",
            "|The Only Investme...|Business Finance|  1.0|\n",
            "|Forex Trading Sec...|Business Finance|  1.0|\n",
            "|Trading Options W...|Business Finance|  1.0|\n",
            "|Financial Managem...|Business Finance|  1.0|\n",
            "|Forex Trading Cou...|Business Finance|  1.0|\n",
            "|Python Algo Tradi...|Business Finance|  1.0|\n",
            "|Short Selling: Le...|Business Finance|  1.0|\n",
            "|Basic Technical A...|Business Finance|  1.0|\n",
            "|The Complete Char...|Business Finance|  1.0|\n",
            "|7 Deadly Mistakes...|Business Finance|  1.0|\n",
            "|Financial Stateme...|Business Finance|  1.0|\n",
            "+--------------------+----------------+-----+\n",
            "only showing top 20 rows\n",
            "\n"
          ]
        }
      ]
    },
    {
      "cell_type": "markdown",
      "source": [
        "### **Splitting notre dataset**"
      ],
      "metadata": {
        "id": "iybgD9hG0g8V"
      }
    },
    {
      "cell_type": "code",
      "source": [
        "(trainDF,testDF) = df.randomSplit((0.7,0.3),seed=42)"
      ],
      "metadata": {
        "id": "6xZskJGbF-0o"
      },
      "execution_count": null,
      "outputs": []
    },
    {
      "cell_type": "code",
      "source": [
        "trainDF"
      ],
      "metadata": {
        "colab": {
          "base_uri": "https://localhost:8080/"
        },
        "id": "J_ATmL5-PEUz",
        "outputId": "d013b67b-fdc4-46f1-b140-03999f75dbe3"
      },
      "execution_count": null,
      "outputs": [
        {
          "output_type": "execute_result",
          "data": {
            "text/plain": [
              "DataFrame[course_title: string, subject: string, label: double]"
            ]
          },
          "metadata": {},
          "execution_count": 181
        }
      ]
    },
    {
      "cell_type": "code",
      "source": [
        ""
      ],
      "metadata": {
        "id": "ov1QR6N-O3Hs"
      },
      "execution_count": null,
      "outputs": []
    },
    {
      "cell_type": "markdown",
      "source": [
        "### **70 % de notre ensemble de données sera utilisé pour l'apprentissage  et 30 % pour les tests.**"
      ],
      "metadata": {
        "id": "9g_Lk1ab0qFu"
      }
    },
    {
      "cell_type": "code",
      "source": [
        "from pyspark.ml.classification import LogisticRegression"
      ],
      "metadata": {
        "id": "nVc_bCE90mP6"
      },
      "execution_count": null,
      "outputs": []
    },
    {
      "cell_type": "code",
      "source": [
        "lr = LogisticRegression(featuresCol='vectorizedFeatures',labelCol='label')\n"
      ],
      "metadata": {
        "id": "c075hWHw0xJ1"
      },
      "execution_count": null,
      "outputs": []
    },
    {
      "cell_type": "markdown",
      "source": [
        "### Construire le **Pipeline**"
      ],
      "metadata": {
        "id": "QOhOIAfV01A2"
      }
    },
    {
      "cell_type": "code",
      "source": [
        "from pyspark.ml import Pipeline \n"
      ],
      "metadata": {
        "id": "SpfRDG5p0zQd"
      },
      "execution_count": null,
      "outputs": []
    },
    {
      "cell_type": "markdown",
      "source": [
        "### **Fitting the five Etapes des transofrmations**\n"
      ],
      "metadata": {
        "id": "c7xt6dID1Kil"
      }
    },
    {
      "cell_type": "code",
      "source": [
        "pipeline = Pipeline(stages=[tokenizer,stopwords_remover,vectorizer,idf,lr])\n"
      ],
      "metadata": {
        "id": "Lvv-253M1KGt"
      },
      "execution_count": null,
      "outputs": []
    },
    {
      "cell_type": "markdown",
      "source": [
        ""
      ],
      "metadata": {
        "id": "Kwvjfm-r_aPX"
      }
    },
    {
      "cell_type": "markdown",
      "source": [
        "### **construire le modele**"
      ],
      "metadata": {
        "id": "m4-OCZvY1UkV"
      }
    },
    {
      "cell_type": "code",
      "source": [
        "lr_model = pipeline.fit(trainDF)"
      ],
      "metadata": {
        "id": "jtJojw_0WMPe"
      },
      "execution_count": null,
      "outputs": []
    },
    {
      "cell_type": "code",
      "source": [
        "predictions = lr_model.transform(testDF)"
      ],
      "metadata": {
        "id": "4ipp_89dYI22"
      },
      "execution_count": null,
      "outputs": []
    },
    {
      "cell_type": "code",
      "source": [
        "predictions.show()"
      ],
      "metadata": {
        "colab": {
          "base_uri": "https://localhost:8080/"
        },
        "id": "prcgLcoAYOQ2",
        "outputId": "24cf79ef-1a0f-44cc-e3c6-f0f06c607acd"
      },
      "execution_count": null,
      "outputs": [
        {
          "output_type": "stream",
          "name": "stdout",
          "text": [
            "+--------------------+-------------------+-----+--------------------+--------------------+--------------------+--------------------+--------------------+--------------------+----------+\n",
            "|        course_title|            subject|label|            mytokens|     filtered_tokens|         rawFeatures|  vectorizedFeatures|       rawPrediction|         probability|prediction|\n",
            "+--------------------+-------------------+-----+--------------------+--------------------+--------------------+--------------------+--------------------+--------------------+----------+\n",
            "|#12 Hand Coordina...|Musical Instruments|  2.0|[#12, hand, coord...|[#12, hand, coord...|(3670,[394,491,60...|(3670,[394,491,60...|[5.54102656956039...|[0.28268355868210...|       2.0|\n",
            "|#7 Piano Hand Coo...|Musical Instruments|  2.0|[#7, piano, hand,...|[#7, piano, hand,...|(3670,[9,13,60,23...|(3670,[9,13,60,23...|[-6.0823322867725...|[1.03215810501627...|       2.0|\n",
            "|'Greensleeves' Cr...|Musical Instruments|  2.0|['greensleeves', ...|['greensleeves', ...|(3670,[6,9,45,375...|(3670,[6,9,45,375...|[-1.0421312486408...|[1.23270090596040...|       2.0|\n",
            "|* An Integrated A...|   Business Finance|  1.0|[*, an, integrate...|[*, integrated, a...|(3670,[23,75,435,...|(3670,[23,75,435,...|[-2.8211817226973...|[4.77760520071682...|       1.0|\n",
            "|         1 Hour HTML|    Web Development|  0.0|     [1, hour, html]|     [1, hour, html]|(3670,[24,36,110]...|(3670,[24,36,110]...|[21.7088196964786...|[0.99999998997280...|       0.0|\n",
            "|   1 Hour JavaScript|    Web Development|  0.0|[1, hour, javascr...|[1, hour, javascr...|(3670,[18,36,110]...|(3670,[18,36,110]...|[20.0054038096237...|[0.99999996031555...|       0.0|\n",
            "|       1 hour jQuery|    Web Development|  0.0|   [1, hour, jquery]|   [1, hour, jquery]|(3670,[36,62,110]...|(3670,[36,62,110]...|[18.0923732265661...|[0.99999972290786...|       0.0|\n",
            "|101 Awesome Rocka...|Musical Instruments|  2.0|[101, awesome, ro...|[101, awesome, ro...|(3670,[7,233,291,...|(3670,[7,233,291,...|[-8.4472424740876...|[4.30624176246944...|       2.0|\n",
            "|15  Motion Graphi...|     Graphic Design|  3.0|[15, , motion, gr...|[15, , motion, gr...|(3670,[35,90,434,...|(3670,[35,90,434,...|[-24.070755030458...|[7.95180520147232...|       3.0|\n",
            "|150 Rock Guitar L...|Musical Instruments|  2.0|[150, rock, guita...|[150, rock, guita...|(3670,[7,145,175,...|(3670,[7,145,175,...|[-6.0537484536424...|[8.42550616218723...|       2.0|\n",
            "|16 Guitar Chords ...|Musical Instruments|  2.0|[16, guitar, chor...|[16, guitar, chor...|(3670,[0,7,129,17...|(3670,[0,7,129,17...|[-6.3817794402846...|[7.02018495157187...|       2.0|\n",
            "|2. Principles of ...|   Business Finance|  1.0|[2., principles, ...|[2., principles, ...|(3670,[0,41,102,3...|(3670,[0,41,102,3...|[0.16718557356847...|[2.62404806669645...|       1.0|\n",
            "|3 Little Pigs: A ...|   Business Finance|  1.0|[3, little, pigs:...|[3, little, pigs:...|(3670,[2,11,60,14...|(3670,[2,11,60,14...|[-7.8293554279701...|[5.14413415775297...|       1.0|\n",
            "|3 documentos clav...|   Business Finance|  1.0|[3, documentos, c...|[3, documentos, c...|(3670,[60,89,165,...|(3670,[60,89,165,...|[4.03455614234510...|[0.00472104046684...|       1.0|\n",
            "|3. Compound Inter...|   Business Finance|  1.0|[3., compound, in...|[3., compound, in...| (3670,[1092],[1.0])|(3670,[1092],[6.7...|[1.89940744267248...|[4.28050172847743...|       1.0|\n",
            "|31 Day Guitar Cha...|Musical Instruments|  2.0|[31, day, guitar,...|[31, day, guitar,...|(3670,[7,112,1870...|(3670,[7,112,1870...|[-9.0086539300652...|[1.15163926524974...|       2.0|\n",
            "|3D Programming wi...|    Web Development|  0.0|[3d, programming,...|[3d, programming,...|(3670,[4,87,339],...|(3670,[4,87,339],...|[10.9077562493571...|[0.98967316391086...|       0.0|\n",
            "|4. Ordinary Simpl...|   Business Finance|  1.0|[4., ordinary, si...|[4., ordinary, si...|(3670,[38,102],[1...|(3670,[38,102],[3...|[2.57286792718722...|[3.77644801255591...|       1.0|\n",
            "|5 lecciones que t...|Musical Instruments|  2.0|[5, lecciones, qu...|[5, lecciones, qu...|(3670,[82,3515],[...|(3670,[82,3515],[...|[6.02547956895747...|[0.16529587719244...|       1.0|\n",
            "|6 Must Know Trick...|Musical Instruments|  2.0|[6, must, know, t...|[6, must, know, t...|(3670,[145,255,32...|(3670,[145,255,32...|[13.8525237292059...|[0.99589111984389...|       0.0|\n",
            "+--------------------+-------------------+-----+--------------------+--------------------+--------------------+--------------------+--------------------+--------------------+----------+\n",
            "only showing top 20 rows\n",
            "\n"
          ]
        }
      ]
    },
    {
      "cell_type": "code",
      "source": [
        "predictions.columns"
      ],
      "metadata": {
        "colab": {
          "base_uri": "https://localhost:8080/"
        },
        "id": "41O6V6b9YTMM",
        "outputId": "637aaff3-358b-42e0-a470-521c0ee06fa2"
      },
      "execution_count": null,
      "outputs": [
        {
          "output_type": "execute_result",
          "data": {
            "text/plain": [
              "['course_title',\n",
              " 'subject',\n",
              " 'label',\n",
              " 'mytokens',\n",
              " 'filtered_tokens',\n",
              " 'rawFeatures',\n",
              " 'vectorizedFeatures',\n",
              " 'rawPrediction',\n",
              " 'probability',\n",
              " 'prediction']"
            ]
          },
          "metadata": {},
          "execution_count": 193
        }
      ]
    },
    {
      "cell_type": "code",
      "source": [
        "predictions.select('rawPrediction','probability','subject','label','prediction').show(10)\n"
      ],
      "metadata": {
        "colab": {
          "base_uri": "https://localhost:8080/"
        },
        "id": "5TksnSYKYUwt",
        "outputId": "3a8c994b-3ddf-43d6-84a6-7de736575940"
      },
      "execution_count": null,
      "outputs": [
        {
          "output_type": "stream",
          "name": "stdout",
          "text": [
            "+--------------------+--------------------+-------------------+-----+----------+\n",
            "|       rawPrediction|         probability|            subject|label|prediction|\n",
            "+--------------------+--------------------+-------------------+-----+----------+\n",
            "|[5.54102656956039...|[0.28268355868210...|Musical Instruments|  2.0|       2.0|\n",
            "|[-6.0823322867725...|[1.03215810501627...|Musical Instruments|  2.0|       2.0|\n",
            "|[-1.0421312486408...|[1.23270090596040...|Musical Instruments|  2.0|       2.0|\n",
            "|[-2.8211817226973...|[4.77760520071682...|   Business Finance|  1.0|       1.0|\n",
            "|[21.7088196964786...|[0.99999998997280...|    Web Development|  0.0|       0.0|\n",
            "|[20.0054038096237...|[0.99999996031555...|    Web Development|  0.0|       0.0|\n",
            "|[18.0923732265661...|[0.99999972290786...|    Web Development|  0.0|       0.0|\n",
            "|[-8.4472424740876...|[4.30624176246944...|Musical Instruments|  2.0|       2.0|\n",
            "|[-24.070755030458...|[7.95180520147232...|     Graphic Design|  3.0|       3.0|\n",
            "|[-6.0537484536424...|[8.42550616218723...|Musical Instruments|  2.0|       2.0|\n",
            "+--------------------+--------------------+-------------------+-----+----------+\n",
            "only showing top 10 rows\n",
            "\n"
          ]
        }
      ]
    },
    {
      "cell_type": "markdown",
      "source": [
        "### **Evaluation du Modele **"
      ],
      "metadata": {
        "id": "z3la93ebYaLN"
      }
    },
    {
      "cell_type": "code",
      "source": [
        "from pyspark.ml.evaluation import MulticlassClassificationEvaluator"
      ],
      "metadata": {
        "id": "y0pewypUYYAF"
      },
      "execution_count": null,
      "outputs": []
    },
    {
      "cell_type": "code",
      "source": [
        "evaluator = MulticlassClassificationEvaluator(labelCol='label',predictionCol='prediction',metricName='accuracy')"
      ],
      "metadata": {
        "id": "QBGEycmPYfXj"
      },
      "execution_count": null,
      "outputs": []
    },
    {
      "cell_type": "markdown",
      "source": [
        "### Le MulticlassClassificationEvaluator utilise les colonnes Lables, de colonne et de prédiction pour calculer la précision. Si les deux colonnes correspondent, cela augmente le score de précision de notre modèle."
      ],
      "metadata": {
        "id": "LV17MPWc_RLd"
      }
    },
    {
      "cell_type": "code",
      "source": [
        "accuracy = evaluator.evaluate(predictions)"
      ],
      "metadata": {
        "id": "ktqEPm_MYhVE"
      },
      "execution_count": null,
      "outputs": []
    },
    {
      "cell_type": "markdown",
      "source": [
        "Caluculer l'accuracy"
      ],
      "metadata": {
        "id": "L2mSOBFBYpYM"
      }
    },
    {
      "cell_type": "code",
      "source": [
        "accuracy"
      ],
      "metadata": {
        "colab": {
          "base_uri": "https://localhost:8080/"
        },
        "id": "EwtCahAwYjBc",
        "outputId": "f1e99a56-0494-4378-cd74-81939dfff5f4"
      },
      "execution_count": null,
      "outputs": [
        {
          "output_type": "execute_result",
          "data": {
            "text/plain": [
              "0.9173003802281369"
            ]
          },
          "metadata": {},
          "execution_count": 198
        }
      ]
    }
  ],
  "metadata": {
    "colab": {
      "collapsed_sections": [],
      "name": "Projet spark 2",
      "provenance": []
    },
    "kernelspec": {
      "display_name": "Python 3",
      "name": "python3"
    }
  },
  "nbformat": 4,
  "nbformat_minor": 0
}